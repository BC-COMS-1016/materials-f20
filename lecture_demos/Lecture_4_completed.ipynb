{
 "cells": [
  {
   "cell_type": "code",
   "execution_count": 1,
   "metadata": {},
   "outputs": [],
   "source": [
    "from datascience import *\n",
    "import numpy as np\n",
    "\n",
    "%matplotlib inline\n",
    "import matplotlib.pyplot as plots\n",
    "plots.style.use('fivethirtyeight')"
   ]
  },
  {
   "cell_type": "markdown",
   "metadata": {},
   "source": [
    "# Census"
   ]
  },
  {
   "cell_type": "code",
   "execution_count": 3,
   "metadata": {},
   "outputs": [
    {
     "data": {
      "text/html": [
       "<table border=\"1\" class=\"dataframe\">\n",
       "    <thead>\n",
       "        <tr>\n",
       "            <th>SUMLEV</th> <th>REGION</th> <th>DIVISION</th> <th>STATE</th> <th>NAME</th> <th>ESTIMATESBASE2010</th> <th>POPESTIMATE2010</th> <th>POPESTIMATE2011</th> <th>POPESTIMATE2012</th> <th>POPESTIMATE2013</th> <th>POPESTIMATE2014</th> <th>POPESTIMATE2015</th> <th>NPOPCHG_2010</th> <th>NPOPCHG_2011</th> <th>NPOPCHG_2012</th> <th>NPOPCHG_2013</th> <th>NPOPCHG_2014</th> <th>NPOPCHG_2015</th> <th>PPOPCHG_2010</th> <th>PPOPCHG_2011</th> <th>PPOPCHG_2012</th> <th>PPOPCHG_2013</th> <th>PPOPCHG_2014</th> <th>PPOPCHG_2015</th> <th>NRANK_ESTBASE2010</th> <th>NRANK_POPEST2010</th> <th>NRANK_POPEST2011</th> <th>NRANK_POPEST2012</th> <th>NRANK_POPEST2013</th> <th>NRANK_POPEST2014</th> <th>NRANK_POPEST2015</th> <th>NRANK_NPCHG2010</th> <th>NRANK_NPCHG2011</th> <th>NRANK_NPCHG2012</th> <th>NRANK_NPCHG2013</th> <th>NRANK_NPCHG2014</th> <th>NRANK_NPCHG2015</th> <th>NRANK_PPCHG2010</th> <th>NRANK_PPCHG2011</th> <th>NRANK_PPCHG2012</th> <th>NRANK_PPCHG2013</th> <th>NRANK_PPCHG2014</th> <th>NRANK_PPCHG2015</th>\n",
       "        </tr>\n",
       "    </thead>\n",
       "    <tbody>\n",
       "        <tr>\n",
       "            <td>10    </td> <td>0     </td> <td>0       </td> <td>0    </td> <td>United States   </td> <td>308758105        </td> <td>309346863      </td> <td>311718857      </td> <td>314102623      </td> <td>316427395      </td> <td>318907401      </td> <td>321418820      </td> <td>588758      </td> <td>2371994     </td> <td>2383766     </td> <td>2324772     </td> <td>2480006     </td> <td>2511419     </td> <td>0.190686    </td> <td>0.766775    </td> <td>0.764717    </td> <td>0.740131    </td> <td>0.783752    </td> <td>0.787507    </td> <td>X                </td> <td>X               </td> <td>X               </td> <td>X               </td> <td>X               </td> <td>X               </td> <td>X               </td> <td>X              </td> <td>X              </td> <td>X              </td> <td>X              </td> <td>X              </td> <td>X              </td> <td>X              </td> <td>X              </td> <td>X              </td> <td>X              </td> <td>X              </td> <td>X              </td>\n",
       "        </tr>\n",
       "        <tr>\n",
       "            <td>20    </td> <td>1     </td> <td>0       </td> <td>0    </td> <td>Northeast Region</td> <td>55318348         </td> <td>55387174       </td> <td>55638038       </td> <td>55835056       </td> <td>56019353       </td> <td>56171281       </td> <td>56283891       </td> <td>68826       </td> <td>250864      </td> <td>197018      </td> <td>184297      </td> <td>151928      </td> <td>112610      </td> <td>0.124418    </td> <td>0.452928    </td> <td>0.354107    </td> <td>0.330074    </td> <td>0.271206    </td> <td>0.200476    </td> <td>4                </td> <td>4               </td> <td>4               </td> <td>4               </td> <td>4               </td> <td>4               </td> <td>4               </td> <td>3              </td> <td>3              </td> <td>3              </td> <td>4              </td> <td>4              </td> <td>4              </td> <td>3              </td> <td>3              </td> <td>3              </td> <td>4              </td> <td>4              </td> <td>4              </td>\n",
       "        </tr>\n",
       "        <tr>\n",
       "            <td>20    </td> <td>2     </td> <td>0       </td> <td>0    </td> <td>Midwest Region  </td> <td>66929897         </td> <td>66977505       </td> <td>67156488       </td> <td>67340231       </td> <td>67565788       </td> <td>67762069       </td> <td>67907403       </td> <td>47608       </td> <td>178983      </td> <td>183743      </td> <td>225557      </td> <td>196281      </td> <td>145334      </td> <td>0.0711311   </td> <td>0.267229    </td> <td>0.273604    </td> <td>0.334951    </td> <td>0.290504    </td> <td>0.214477    </td> <td>3                </td> <td>3               </td> <td>3               </td> <td>3               </td> <td>3               </td> <td>3               </td> <td>3               </td> <td>4              </td> <td>4              </td> <td>4              </td> <td>3              </td> <td>3              </td> <td>3              </td> <td>4              </td> <td>4              </td> <td>4              </td> <td>3              </td> <td>3              </td> <td>3              </td>\n",
       "        </tr>\n",
       "        <tr>\n",
       "            <td>20    </td> <td>3     </td> <td>0       </td> <td>0    </td> <td>South Region    </td> <td>114562953        </td> <td>114862858      </td> <td>116080267      </td> <td>117331340      </td> <td>118487418      </td> <td>119795010      </td> <td>121182847      </td> <td>299905      </td> <td>1217409     </td> <td>1251073     </td> <td>1156078     </td> <td>1307592     </td> <td>1387837     </td> <td>0.261782    </td> <td>1.05988     </td> <td>1.07777     </td> <td>0.98531     </td> <td>1.10357     </td> <td>1.15851     </td> <td>1                </td> <td>1               </td> <td>1               </td> <td>1               </td> <td>1               </td> <td>1               </td> <td>1               </td> <td>1              </td> <td>1              </td> <td>1              </td> <td>1              </td> <td>1              </td> <td>1              </td> <td>1              </td> <td>1              </td> <td>1              </td> <td>2              </td> <td>2              </td> <td>1              </td>\n",
       "        </tr>\n",
       "        <tr>\n",
       "            <td>20    </td> <td>4     </td> <td>0       </td> <td>0    </td> <td>West Region     </td> <td>71946907         </td> <td>72119326       </td> <td>72844064       </td> <td>73595996       </td> <td>74354836       </td> <td>75179041       </td> <td>76044679       </td> <td>172419      </td> <td>724738      </td> <td>751932      </td> <td>758840      </td> <td>824205      </td> <td>865638      </td> <td>0.239648    </td> <td>1.00492     </td> <td>1.03225     </td> <td>1.03109     </td> <td>1.10848     </td> <td>1.15144     </td> <td>2                </td> <td>2               </td> <td>2               </td> <td>2               </td> <td>2               </td> <td>2               </td> <td>2               </td> <td>2              </td> <td>2              </td> <td>2              </td> <td>2              </td> <td>2              </td> <td>2              </td> <td>2              </td> <td>2              </td> <td>2              </td> <td>1              </td> <td>1              </td> <td>2              </td>\n",
       "        </tr>\n",
       "    </tbody>\n",
       "</table>\n",
       "<p>... (52 rows omitted)</p>"
      ],
      "text/plain": [
       "<IPython.core.display.HTML object>"
      ]
     },
     "metadata": {},
     "output_type": "display_data"
    }
   ],
   "source": [
    "Table.read_table(\"https://www2.census.gov/programs-surveys/popest/datasets/2010-2015/national/totals/nst-est2015-popchg2010_2015.csv\").show(5)"
   ]
  },
  {
   "cell_type": "code",
   "execution_count": 4,
   "metadata": {},
   "outputs": [],
   "source": [
    "data_url = \"https://www2.census.gov/programs-surveys/popest/datasets/2010-2015/national/totals/nst-est2015-popchg2010_2015.csv\"\n",
    "census = Table.read_table(data_url)"
   ]
  },
  {
   "cell_type": "code",
   "execution_count": 5,
   "metadata": {},
   "outputs": [
    {
     "data": {
      "text/html": [
       "<table border=\"1\" class=\"dataframe\">\n",
       "    <thead>\n",
       "        <tr>\n",
       "            <th>SUMLEV</th> <th>REGION</th> <th>DIVISION</th> <th>STATE</th> <th>NAME</th> <th>ESTIMATESBASE2010</th> <th>POPESTIMATE2010</th> <th>POPESTIMATE2011</th> <th>POPESTIMATE2012</th> <th>POPESTIMATE2013</th> <th>POPESTIMATE2014</th> <th>POPESTIMATE2015</th> <th>NPOPCHG_2010</th> <th>NPOPCHG_2011</th> <th>NPOPCHG_2012</th> <th>NPOPCHG_2013</th> <th>NPOPCHG_2014</th> <th>NPOPCHG_2015</th> <th>PPOPCHG_2010</th> <th>PPOPCHG_2011</th> <th>PPOPCHG_2012</th> <th>PPOPCHG_2013</th> <th>PPOPCHG_2014</th> <th>PPOPCHG_2015</th> <th>NRANK_ESTBASE2010</th> <th>NRANK_POPEST2010</th> <th>NRANK_POPEST2011</th> <th>NRANK_POPEST2012</th> <th>NRANK_POPEST2013</th> <th>NRANK_POPEST2014</th> <th>NRANK_POPEST2015</th> <th>NRANK_NPCHG2010</th> <th>NRANK_NPCHG2011</th> <th>NRANK_NPCHG2012</th> <th>NRANK_NPCHG2013</th> <th>NRANK_NPCHG2014</th> <th>NRANK_NPCHG2015</th> <th>NRANK_PPCHG2010</th> <th>NRANK_PPCHG2011</th> <th>NRANK_PPCHG2012</th> <th>NRANK_PPCHG2013</th> <th>NRANK_PPCHG2014</th> <th>NRANK_PPCHG2015</th>\n",
       "        </tr>\n",
       "    </thead>\n",
       "    <tbody>\n",
       "        <tr>\n",
       "            <td>10    </td> <td>0     </td> <td>0       </td> <td>0    </td> <td>United States   </td> <td>308758105        </td> <td>309346863      </td> <td>311718857      </td> <td>314102623      </td> <td>316427395      </td> <td>318907401      </td> <td>321418820      </td> <td>588758      </td> <td>2371994     </td> <td>2383766     </td> <td>2324772     </td> <td>2480006     </td> <td>2511419     </td> <td>0.190686    </td> <td>0.766775    </td> <td>0.764717    </td> <td>0.740131    </td> <td>0.783752    </td> <td>0.787507    </td> <td>X                </td> <td>X               </td> <td>X               </td> <td>X               </td> <td>X               </td> <td>X               </td> <td>X               </td> <td>X              </td> <td>X              </td> <td>X              </td> <td>X              </td> <td>X              </td> <td>X              </td> <td>X              </td> <td>X              </td> <td>X              </td> <td>X              </td> <td>X              </td> <td>X              </td>\n",
       "        </tr>\n",
       "        <tr>\n",
       "            <td>20    </td> <td>1     </td> <td>0       </td> <td>0    </td> <td>Northeast Region</td> <td>55318348         </td> <td>55387174       </td> <td>55638038       </td> <td>55835056       </td> <td>56019353       </td> <td>56171281       </td> <td>56283891       </td> <td>68826       </td> <td>250864      </td> <td>197018      </td> <td>184297      </td> <td>151928      </td> <td>112610      </td> <td>0.124418    </td> <td>0.452928    </td> <td>0.354107    </td> <td>0.330074    </td> <td>0.271206    </td> <td>0.200476    </td> <td>4                </td> <td>4               </td> <td>4               </td> <td>4               </td> <td>4               </td> <td>4               </td> <td>4               </td> <td>3              </td> <td>3              </td> <td>3              </td> <td>4              </td> <td>4              </td> <td>4              </td> <td>3              </td> <td>3              </td> <td>3              </td> <td>4              </td> <td>4              </td> <td>4              </td>\n",
       "        </tr>\n",
       "        <tr>\n",
       "            <td>20    </td> <td>2     </td> <td>0       </td> <td>0    </td> <td>Midwest Region  </td> <td>66929897         </td> <td>66977505       </td> <td>67156488       </td> <td>67340231       </td> <td>67565788       </td> <td>67762069       </td> <td>67907403       </td> <td>47608       </td> <td>178983      </td> <td>183743      </td> <td>225557      </td> <td>196281      </td> <td>145334      </td> <td>0.0711311   </td> <td>0.267229    </td> <td>0.273604    </td> <td>0.334951    </td> <td>0.290504    </td> <td>0.214477    </td> <td>3                </td> <td>3               </td> <td>3               </td> <td>3               </td> <td>3               </td> <td>3               </td> <td>3               </td> <td>4              </td> <td>4              </td> <td>4              </td> <td>3              </td> <td>3              </td> <td>3              </td> <td>4              </td> <td>4              </td> <td>4              </td> <td>3              </td> <td>3              </td> <td>3              </td>\n",
       "        </tr>\n",
       "        <tr>\n",
       "            <td>20    </td> <td>3     </td> <td>0       </td> <td>0    </td> <td>South Region    </td> <td>114562953        </td> <td>114862858      </td> <td>116080267      </td> <td>117331340      </td> <td>118487418      </td> <td>119795010      </td> <td>121182847      </td> <td>299905      </td> <td>1217409     </td> <td>1251073     </td> <td>1156078     </td> <td>1307592     </td> <td>1387837     </td> <td>0.261782    </td> <td>1.05988     </td> <td>1.07777     </td> <td>0.98531     </td> <td>1.10357     </td> <td>1.15851     </td> <td>1                </td> <td>1               </td> <td>1               </td> <td>1               </td> <td>1               </td> <td>1               </td> <td>1               </td> <td>1              </td> <td>1              </td> <td>1              </td> <td>1              </td> <td>1              </td> <td>1              </td> <td>1              </td> <td>1              </td> <td>1              </td> <td>2              </td> <td>2              </td> <td>1              </td>\n",
       "        </tr>\n",
       "        <tr>\n",
       "            <td>20    </td> <td>4     </td> <td>0       </td> <td>0    </td> <td>West Region     </td> <td>71946907         </td> <td>72119326       </td> <td>72844064       </td> <td>73595996       </td> <td>74354836       </td> <td>75179041       </td> <td>76044679       </td> <td>172419      </td> <td>724738      </td> <td>751932      </td> <td>758840      </td> <td>824205      </td> <td>865638      </td> <td>0.239648    </td> <td>1.00492     </td> <td>1.03225     </td> <td>1.03109     </td> <td>1.10848     </td> <td>1.15144     </td> <td>2                </td> <td>2               </td> <td>2               </td> <td>2               </td> <td>2               </td> <td>2               </td> <td>2               </td> <td>2              </td> <td>2              </td> <td>2              </td> <td>2              </td> <td>2              </td> <td>2              </td> <td>2              </td> <td>2              </td> <td>2              </td> <td>1              </td> <td>1              </td> <td>2              </td>\n",
       "        </tr>\n",
       "    </tbody>\n",
       "</table>\n",
       "<p>... (52 rows omitted)</p>"
      ],
      "text/plain": [
       "<IPython.core.display.HTML object>"
      ]
     },
     "metadata": {},
     "output_type": "display_data"
    },
    {
     "data": {
      "text/plain": [
       "(43, 57)"
      ]
     },
     "execution_count": 5,
     "metadata": {},
     "output_type": "execute_result"
    }
   ],
   "source": [
    "census.show(5)\n",
    "census.num_columns, census.num_rows"
   ]
  },
  {
   "cell_type": "markdown",
   "metadata": {},
   "source": [
    "## Exploring the Table\n",
    "If we look at [this documentation](https://www2.census.gov/programs-surveys/popest/datasets/2010-2015/national/totals/nst-est2015-popchg2010-2015.pdf), we can see a description of the table"
   ]
  },
  {
   "cell_type": "code",
   "execution_count": 7,
   "metadata": {
    "scrolled": true
   },
   "outputs": [
    {
     "data": {
      "text/html": [
       "<table border=\"1\" class=\"dataframe\">\n",
       "    <thead>\n",
       "        <tr>\n",
       "            <th>SUMLEV</th>\n",
       "        </tr>\n",
       "    </thead>\n",
       "    <tbody>\n",
       "        <tr>\n",
       "            <td>10    </td>\n",
       "        </tr>\n",
       "        <tr>\n",
       "            <td>20    </td>\n",
       "        </tr>\n",
       "        <tr>\n",
       "            <td>20    </td>\n",
       "        </tr>\n",
       "        <tr>\n",
       "            <td>20    </td>\n",
       "        </tr>\n",
       "        <tr>\n",
       "            <td>20    </td>\n",
       "        </tr>\n",
       "        <tr>\n",
       "            <td>40    </td>\n",
       "        </tr>\n",
       "        <tr>\n",
       "            <td>40    </td>\n",
       "        </tr>\n",
       "        <tr>\n",
       "            <td>40    </td>\n",
       "        </tr>\n",
       "        <tr>\n",
       "            <td>40    </td>\n",
       "        </tr>\n",
       "        <tr>\n",
       "            <td>40    </td>\n",
       "        </tr>\n",
       "    </tbody>\n",
       "</table>\n",
       "<p>... (47 rows omitted)</p>"
      ],
      "text/plain": [
       "SUMLEV\n",
       "10\n",
       "20\n",
       "20\n",
       "20\n",
       "20\n",
       "40\n",
       "40\n",
       "40\n",
       "40\n",
       "40\n",
       "... (47 rows omitted)"
      ]
     },
     "execution_count": 7,
     "metadata": {},
     "output_type": "execute_result"
    }
   ],
   "source": [
    "census.select(0)"
   ]
  },
  {
   "cell_type": "code",
   "execution_count": null,
   "metadata": {},
   "outputs": [],
   "source": [
    "# Lets explore a few of the columns"
   ]
  },
  {
   "cell_type": "code",
   "execution_count": 12,
   "metadata": {},
   "outputs": [
    {
     "data": {
      "text/html": [
       "<table border=\"1\" class=\"dataframe\">\n",
       "    <thead>\n",
       "        <tr>\n",
       "            <th>REGION</th>\n",
       "        </tr>\n",
       "    </thead>\n",
       "    <tbody>\n",
       "        <tr>\n",
       "            <td>0     </td>\n",
       "        </tr>\n",
       "        <tr>\n",
       "            <td>1     </td>\n",
       "        </tr>\n",
       "        <tr>\n",
       "            <td>2     </td>\n",
       "        </tr>\n",
       "        <tr>\n",
       "            <td>3     </td>\n",
       "        </tr>\n",
       "        <tr>\n",
       "            <td>4     </td>\n",
       "        </tr>\n",
       "        <tr>\n",
       "            <td>3     </td>\n",
       "        </tr>\n",
       "        <tr>\n",
       "            <td>4     </td>\n",
       "        </tr>\n",
       "        <tr>\n",
       "            <td>4     </td>\n",
       "        </tr>\n",
       "        <tr>\n",
       "            <td>3     </td>\n",
       "        </tr>\n",
       "        <tr>\n",
       "            <td>4     </td>\n",
       "        </tr>\n",
       "    </tbody>\n",
       "</table>\n",
       "<p>... (47 rows omitted)</p>"
      ],
      "text/plain": [
       "REGION\n",
       "0\n",
       "1\n",
       "2\n",
       "3\n",
       "4\n",
       "3\n",
       "4\n",
       "4\n",
       "3\n",
       "4\n",
       "... (47 rows omitted)"
      ]
     },
     "execution_count": 12,
     "metadata": {},
     "output_type": "execute_result"
    }
   ],
   "source": [
    " # \"REGION\"\n",
    "# Categorical or Numerical?\n",
    "census.select(\"REGION\")"
   ]
  },
  {
   "cell_type": "code",
   "execution_count": 14,
   "metadata": {},
   "outputs": [
    {
     "data": {
      "text/html": [
       "<table border=\"1\" class=\"dataframe\">\n",
       "    <thead>\n",
       "        <tr>\n",
       "            <th>DIVISION</th>\n",
       "        </tr>\n",
       "    </thead>\n",
       "    <tbody>\n",
       "        <tr>\n",
       "            <td>0       </td>\n",
       "        </tr>\n",
       "        <tr>\n",
       "            <td>0       </td>\n",
       "        </tr>\n",
       "        <tr>\n",
       "            <td>0       </td>\n",
       "        </tr>\n",
       "        <tr>\n",
       "            <td>0       </td>\n",
       "        </tr>\n",
       "        <tr>\n",
       "            <td>0       </td>\n",
       "        </tr>\n",
       "        <tr>\n",
       "            <td>6       </td>\n",
       "        </tr>\n",
       "        <tr>\n",
       "            <td>9       </td>\n",
       "        </tr>\n",
       "        <tr>\n",
       "            <td>8       </td>\n",
       "        </tr>\n",
       "        <tr>\n",
       "            <td>7       </td>\n",
       "        </tr>\n",
       "        <tr>\n",
       "            <td>9       </td>\n",
       "        </tr>\n",
       "    </tbody>\n",
       "</table>\n",
       "<p>... (47 rows omitted)</p>"
      ],
      "text/plain": [
       "DIVISION\n",
       "0\n",
       "0\n",
       "0\n",
       "0\n",
       "0\n",
       "6\n",
       "9\n",
       "8\n",
       "7\n",
       "9\n",
       "... (47 rows omitted)"
      ]
     },
     "execution_count": 14,
     "metadata": {},
     "output_type": "execute_result"
    }
   ],
   "source": [
    " # DIVISION\n",
    "    # Categorical or Numerical?\n",
    "census.select(\"DIVISION\")"
   ]
  },
  {
   "cell_type": "code",
   "execution_count": null,
   "metadata": {},
   "outputs": [],
   "source": [
    " # STATE\n",
    "    # Categorical or Numerical?"
   ]
  },
  {
   "cell_type": "code",
   "execution_count": null,
   "metadata": {},
   "outputs": [],
   "source": [
    " # NAME\n",
    "    # Categorical or Numerical?"
   ]
  },
  {
   "cell_type": "markdown",
   "metadata": {},
   "source": [
    "## Selecting a few columns of interest"
   ]
  },
  {
   "cell_type": "code",
   "execution_count": 16,
   "metadata": {},
   "outputs": [
    {
     "data": {
      "text/html": [
       "<table border=\"1\" class=\"dataframe\">\n",
       "    <thead>\n",
       "        <tr>\n",
       "            <th>NAME</th> <th>STATE</th> <th>REGION</th> <th>POPESTIMATE2013</th> <th>POPESTIMATE2014</th>\n",
       "        </tr>\n",
       "    </thead>\n",
       "    <tbody>\n",
       "        <tr>\n",
       "            <td>United States   </td> <td>0    </td> <td>0     </td> <td>316427395      </td> <td>318907401      </td>\n",
       "        </tr>\n",
       "        <tr>\n",
       "            <td>Northeast Region</td> <td>0    </td> <td>1     </td> <td>56019353       </td> <td>56171281       </td>\n",
       "        </tr>\n",
       "        <tr>\n",
       "            <td>Midwest Region  </td> <td>0    </td> <td>2     </td> <td>67565788       </td> <td>67762069       </td>\n",
       "        </tr>\n",
       "        <tr>\n",
       "            <td>South Region    </td> <td>0    </td> <td>3     </td> <td>118487418      </td> <td>119795010      </td>\n",
       "        </tr>\n",
       "        <tr>\n",
       "            <td>West Region     </td> <td>0    </td> <td>4     </td> <td>74354836       </td> <td>75179041       </td>\n",
       "        </tr>\n",
       "        <tr>\n",
       "            <td>Alabama         </td> <td>1    </td> <td>3     </td> <td>4830533        </td> <td>4846411        </td>\n",
       "        </tr>\n",
       "        <tr>\n",
       "            <td>Alaska          </td> <td>2    </td> <td>4     </td> <td>737442         </td> <td>737046         </td>\n",
       "        </tr>\n",
       "        <tr>\n",
       "            <td>Arizona         </td> <td>4    </td> <td>4     </td> <td>6630799        </td> <td>6728783        </td>\n",
       "        </tr>\n",
       "        <tr>\n",
       "            <td>Arkansas        </td> <td>5    </td> <td>3     </td> <td>2957957        </td> <td>2966835        </td>\n",
       "        </tr>\n",
       "        <tr>\n",
       "            <td>California      </td> <td>6    </td> <td>4     </td> <td>38414128       </td> <td>38792291       </td>\n",
       "        </tr>\n",
       "    </tbody>\n",
       "</table>\n",
       "<p>... (47 rows omitted)</p>"
      ],
      "text/plain": [
       "<IPython.core.display.HTML object>"
      ]
     },
     "metadata": {},
     "output_type": "display_data"
    }
   ],
   "source": [
    "partial_census = census.select(\"NAME\", \"STATE\", \"REGION\", \"POPESTIMATE2013\", \"POPESTIMATE2014\" )\n",
    "partial_census.show(10)"
   ]
  },
  {
   "cell_type": "code",
   "execution_count": 20,
   "metadata": {},
   "outputs": [],
   "source": [
    "# Relabel columns\n",
    "partial_census_relabeled = partial_census.relabeled(\n",
    "    \"POPESTIMATE2013\", \"pop2013\").relabeled(\"POPESTIMATE2014\", \"pop2014\")"
   ]
  },
  {
   "cell_type": "markdown",
   "metadata": {},
   "source": [
    "# Column Arithmetic "
   ]
  },
  {
   "cell_type": "code",
   "execution_count": 30,
   "metadata": {},
   "outputs": [
    {
     "data": {
      "text/plain": [
       "array([2480006,  151928,  196281, 1307592,  824205,   15878,    -396,\n",
       "         97984,    8878,  378163,   84456,   -2406,   10615,   10296,\n",
       "        311102,  105570,   11492,   22021,   -7391,   27362,   17257,\n",
       "          7877,   14117,   21499,    1478,   39306,   46314,   15800,\n",
       "         36584,    2467,   20119,    8850,   13680,   47915,    5336,\n",
       "         31460,   -1323,   57826,   94955,   16414,   24766,   26205,\n",
       "         43172,   10231,    2051,   60662,    8034,   51649,  478404,\n",
       "         40813,    -362,   60223,   89885,   -4234,   15779,    1173,\n",
       "        -58191])"
      ]
     },
     "execution_count": 30,
     "metadata": {},
     "output_type": "execute_result"
    }
   ],
   "source": [
    "pop2013 = partial_census_relabeled.column(\"pop2013\")\n",
    "pop2014 = partial_census_relabeled.column(\"pop2014\")\n",
    "change = pop2014 - pop2013\n",
    "change"
   ]
  },
  {
   "cell_type": "markdown",
   "metadata": {},
   "source": [
    "## Make new table with change"
   ]
  },
  {
   "cell_type": "code",
   "execution_count": 51,
   "metadata": {},
   "outputs": [
    {
     "data": {
      "text/html": [
       "<table border=\"1\" class=\"dataframe\">\n",
       "    <thead>\n",
       "        <tr>\n",
       "            <th>NAME</th> <th>STATE</th> <th>REGION</th> <th>pop2013</th> <th>pop2014</th> <th>change</th>\n",
       "        </tr>\n",
       "    </thead>\n",
       "    <tbody>\n",
       "        <tr>\n",
       "            <td>United States   </td> <td>0    </td> <td>0     </td> <td>316427395</td> <td>318907401</td> <td>2480006</td>\n",
       "        </tr>\n",
       "        <tr>\n",
       "            <td>Northeast Region</td> <td>0    </td> <td>1     </td> <td>56019353 </td> <td>56171281 </td> <td>151928 </td>\n",
       "        </tr>\n",
       "        <tr>\n",
       "            <td>Midwest Region  </td> <td>0    </td> <td>2     </td> <td>67565788 </td> <td>67762069 </td> <td>196281 </td>\n",
       "        </tr>\n",
       "        <tr>\n",
       "            <td>South Region    </td> <td>0    </td> <td>3     </td> <td>118487418</td> <td>119795010</td> <td>1307592</td>\n",
       "        </tr>\n",
       "        <tr>\n",
       "            <td>West Region     </td> <td>0    </td> <td>4     </td> <td>74354836 </td> <td>75179041 </td> <td>824205 </td>\n",
       "        </tr>\n",
       "        <tr>\n",
       "            <td>Alabama         </td> <td>1    </td> <td>3     </td> <td>4830533  </td> <td>4846411  </td> <td>15878  </td>\n",
       "        </tr>\n",
       "        <tr>\n",
       "            <td>Alaska          </td> <td>2    </td> <td>4     </td> <td>737442   </td> <td>737046   </td> <td>-396   </td>\n",
       "        </tr>\n",
       "        <tr>\n",
       "            <td>Arizona         </td> <td>4    </td> <td>4     </td> <td>6630799  </td> <td>6728783  </td> <td>97984  </td>\n",
       "        </tr>\n",
       "        <tr>\n",
       "            <td>Arkansas        </td> <td>5    </td> <td>3     </td> <td>2957957  </td> <td>2966835  </td> <td>8878   </td>\n",
       "        </tr>\n",
       "        <tr>\n",
       "            <td>California      </td> <td>6    </td> <td>4     </td> <td>38414128 </td> <td>38792291 </td> <td>378163 </td>\n",
       "        </tr>\n",
       "    </tbody>\n",
       "</table>\n",
       "<p>... (47 rows omitted)</p>"
      ],
      "text/plain": [
       "NAME             | STATE | REGION | pop2013   | pop2014   | change\n",
       "United States    | 0     | 0      | 316427395 | 318907401 | 2480006\n",
       "Northeast Region | 0     | 1      | 56019353  | 56171281  | 151928\n",
       "Midwest Region   | 0     | 2      | 67565788  | 67762069  | 196281\n",
       "South Region     | 0     | 3      | 118487418 | 119795010 | 1307592\n",
       "West Region      | 0     | 4      | 74354836  | 75179041  | 824205\n",
       "Alabama          | 1     | 3      | 4830533   | 4846411   | 15878\n",
       "Alaska           | 2     | 4      | 737442    | 737046    | -396\n",
       "Arizona          | 4     | 4      | 6630799   | 6728783   | 97984\n",
       "Arkansas         | 5     | 3      | 2957957   | 2966835   | 8878\n",
       "California       | 6     | 4      | 38414128  | 38792291  | 378163\n",
       "... (47 rows omitted)"
      ]
     },
     "execution_count": 51,
     "metadata": {},
     "output_type": "execute_result"
    }
   ],
   "source": [
    "partial_census_change = partial_census_relabeled.with_columns(\n",
    "    \"change\", change\n",
    ")\n",
    "# Hint, use with_columns\n",
    "partial_census_change"
   ]
  },
  {
   "cell_type": "markdown",
   "metadata": {},
   "source": [
    "### Reformatter"
   ]
  },
  {
   "cell_type": "code",
   "execution_count": 52,
   "metadata": {
    "scrolled": true
   },
   "outputs": [
    {
     "data": {
      "text/html": [
       "<table border=\"1\" class=\"dataframe\">\n",
       "    <thead>\n",
       "        <tr>\n",
       "            <th>NAME</th> <th>STATE</th> <th>REGION</th> <th>pop2013</th> <th>pop2014</th> <th>change</th>\n",
       "        </tr>\n",
       "    </thead>\n",
       "    <tbody>\n",
       "        <tr>\n",
       "            <td>United States   </td> <td>0    </td> <td>0     </td> <td>316,427,395</td> <td>318,907,401</td> <td>2,480,006</td>\n",
       "        </tr>\n",
       "        <tr>\n",
       "            <td>Northeast Region</td> <td>0    </td> <td>1     </td> <td>56,019,353 </td> <td>56,171,281 </td> <td>151,928  </td>\n",
       "        </tr>\n",
       "        <tr>\n",
       "            <td>Midwest Region  </td> <td>0    </td> <td>2     </td> <td>67,565,788 </td> <td>67,762,069 </td> <td>196,281  </td>\n",
       "        </tr>\n",
       "        <tr>\n",
       "            <td>South Region    </td> <td>0    </td> <td>3     </td> <td>118,487,418</td> <td>119,795,010</td> <td>1,307,592</td>\n",
       "        </tr>\n",
       "        <tr>\n",
       "            <td>West Region     </td> <td>0    </td> <td>4     </td> <td>74,354,836 </td> <td>75,179,041 </td> <td>824,205  </td>\n",
       "        </tr>\n",
       "        <tr>\n",
       "            <td>Alabama         </td> <td>1    </td> <td>3     </td> <td>4,830,533  </td> <td>4,846,411  </td> <td>15,878   </td>\n",
       "        </tr>\n",
       "        <tr>\n",
       "            <td>Alaska          </td> <td>2    </td> <td>4     </td> <td>737,442    </td> <td>737,046    </td> <td>-396     </td>\n",
       "        </tr>\n",
       "        <tr>\n",
       "            <td>Arizona         </td> <td>4    </td> <td>4     </td> <td>6,630,799  </td> <td>6,728,783  </td> <td>97,984   </td>\n",
       "        </tr>\n",
       "        <tr>\n",
       "            <td>Arkansas        </td> <td>5    </td> <td>3     </td> <td>2,957,957  </td> <td>2,966,835  </td> <td>8,878    </td>\n",
       "        </tr>\n",
       "        <tr>\n",
       "            <td>California      </td> <td>6    </td> <td>4     </td> <td>38,414,128 </td> <td>38,792,291 </td> <td>378,163  </td>\n",
       "        </tr>\n",
       "    </tbody>\n",
       "</table>\n",
       "<p>... (47 rows omitted)</p>"
      ],
      "text/plain": [
       "NAME             | STATE | REGION | pop2013     | pop2014     | change\n",
       "United States    | 0     | 0      | 316,427,395 | 318,907,401 | 2,480,006\n",
       "Northeast Region | 0     | 1      | 56,019,353  | 56,171,281  | 151,928\n",
       "Midwest Region   | 0     | 2      | 67,565,788  | 67,762,069  | 196,281\n",
       "South Region     | 0     | 3      | 118,487,418 | 119,795,010 | 1,307,592\n",
       "West Region      | 0     | 4      | 74,354,836  | 75,179,041  | 824,205\n",
       "Alabama          | 1     | 3      | 4,830,533   | 4,846,411   | 15,878\n",
       "Alaska           | 2     | 4      | 737,442     | 737,046     | -396\n",
       "Arizona          | 4     | 4      | 6,630,799   | 6,728,783   | 97,984\n",
       "Arkansas         | 5     | 3      | 2,957,957   | 2,966,835   | 8,878\n",
       "California       | 6     | 4      | 38,414,128  | 38,792,291  | 378,163\n",
       "... (47 rows omitted)"
      ]
     },
     "execution_count": 52,
     "metadata": {},
     "output_type": "execute_result"
    }
   ],
   "source": [
    "## Reformat these changes\n",
    "# NumberFormatter, PercentFormatter\n",
    "# set_format\n",
    "tmp = partial_census_change.set_format(\"change\", NumberFormatter)\n",
    "tmp = tmp.set_format(\"pop2013\", NumberFormatter)\n",
    "partial_census_change_clean = tmp.set_format(\"pop2014\", NumberFormatter)\n",
    "partial_census_change_clean"
   ]
  },
  {
   "cell_type": "markdown",
   "metadata": {},
   "source": [
    "### Interpretting these changes\n",
    "\n",
    "**Are these changes meaningful?**"
   ]
  },
  {
   "cell_type": "code",
   "execution_count": 53,
   "metadata": {},
   "outputs": [
    {
     "data": {
      "text/plain": [
       "2480006"
      ]
     },
     "execution_count": 53,
     "metadata": {},
     "output_type": "execute_result"
    }
   ],
   "source": []
  },
  {
   "cell_type": "code",
   "execution_count": 59,
   "metadata": {},
   "outputs": [
    {
     "data": {
      "text/plain": [
       "0.007837519883510719"
      ]
     },
     "execution_count": 59,
     "metadata": {},
     "output_type": "execute_result"
    }
   ],
   "source": [
    " # Convert changes to percentages\n",
    "    # a = 5\n",
    "    # b = 10\n",
    "    # change = second - first\n",
    "    # change/initial \n",
    "#partial_census_change_clean \n",
    "a = 5\n",
    "b= 10\n",
    "(b - a) / a * 100\n",
    "\n",
    "first_row = partial_census_change_clean.row(0)\n",
    "(first_row.change) / first_row.pop2013"
   ]
  },
  {
   "cell_type": "code",
   "execution_count": 62,
   "metadata": {},
   "outputs": [],
   "source": [
    "percent_change = partial_census_change_clean.column(\"change\") / partial_census_change_clean.column(\"pop2013\")"
   ]
  },
  {
   "cell_type": "code",
   "execution_count": 67,
   "metadata": {},
   "outputs": [
    {
     "data": {
      "text/html": [
       "<table border=\"1\" class=\"dataframe\">\n",
       "    <thead>\n",
       "        <tr>\n",
       "            <th>NAME</th> <th>STATE</th> <th>REGION</th> <th>pop2013</th> <th>pop2014</th> <th>change</th> <th>percent_change</th>\n",
       "        </tr>\n",
       "    </thead>\n",
       "    <tbody>\n",
       "        <tr>\n",
       "            <td>United States   </td> <td>0    </td> <td>0     </td> <td>316,427,395</td> <td>318,907,401</td> <td>2,480,006</td> <td>78.38%        </td>\n",
       "        </tr>\n",
       "        <tr>\n",
       "            <td>Northeast Region</td> <td>0    </td> <td>1     </td> <td>56,019,353 </td> <td>56,171,281 </td> <td>151,928  </td> <td>27.12%        </td>\n",
       "        </tr>\n",
       "        <tr>\n",
       "            <td>Midwest Region  </td> <td>0    </td> <td>2     </td> <td>67,565,788 </td> <td>67,762,069 </td> <td>196,281  </td> <td>29.05%        </td>\n",
       "        </tr>\n",
       "        <tr>\n",
       "            <td>South Region    </td> <td>0    </td> <td>3     </td> <td>118,487,418</td> <td>119,795,010</td> <td>1,307,592</td> <td>110.36%       </td>\n",
       "        </tr>\n",
       "        <tr>\n",
       "            <td>West Region     </td> <td>0    </td> <td>4     </td> <td>74,354,836 </td> <td>75,179,041 </td> <td>824,205  </td> <td>110.85%       </td>\n",
       "        </tr>\n",
       "        <tr>\n",
       "            <td>Alabama         </td> <td>1    </td> <td>3     </td> <td>4,830,533  </td> <td>4,846,411  </td> <td>15,878   </td> <td>32.87%        </td>\n",
       "        </tr>\n",
       "        <tr>\n",
       "            <td>Alaska          </td> <td>2    </td> <td>4     </td> <td>737,442    </td> <td>737,046    </td> <td>-396     </td> <td>-5.37%        </td>\n",
       "        </tr>\n",
       "        <tr>\n",
       "            <td>Arizona         </td> <td>4    </td> <td>4     </td> <td>6,630,799  </td> <td>6,728,783  </td> <td>97,984   </td> <td>147.77%       </td>\n",
       "        </tr>\n",
       "        <tr>\n",
       "            <td>Arkansas        </td> <td>5    </td> <td>3     </td> <td>2,957,957  </td> <td>2,966,835  </td> <td>8,878    </td> <td>30.01%        </td>\n",
       "        </tr>\n",
       "        <tr>\n",
       "            <td>California      </td> <td>6    </td> <td>4     </td> <td>38,414,128 </td> <td>38,792,291 </td> <td>378,163  </td> <td>98.44%        </td>\n",
       "        </tr>\n",
       "    </tbody>\n",
       "</table>\n",
       "<p>... (47 rows omitted)</p>"
      ],
      "text/plain": [
       "NAME             | STATE | REGION | pop2013     | pop2014     | change    | percent_change\n",
       "United States    | 0     | 0      | 316,427,395 | 318,907,401 | 2,480,006 | 78.38%\n",
       "Northeast Region | 0     | 1      | 56,019,353  | 56,171,281  | 151,928   | 27.12%\n",
       "Midwest Region   | 0     | 2      | 67,565,788  | 67,762,069  | 196,281   | 29.05%\n",
       "South Region     | 0     | 3      | 118,487,418 | 119,795,010 | 1,307,592 | 110.36%\n",
       "West Region      | 0     | 4      | 74,354,836  | 75,179,041  | 824,205   | 110.85%\n",
       "Alabama          | 1     | 3      | 4,830,533   | 4,846,411   | 15,878    | 32.87%\n",
       "Alaska           | 2     | 4      | 737,442     | 737,046     | -396      | -5.37%\n",
       "Arizona          | 4     | 4      | 6,630,799   | 6,728,783   | 97,984    | 147.77%\n",
       "Arkansas         | 5     | 3      | 2,957,957   | 2,966,835   | 8,878     | 30.01%\n",
       "California       | 6     | 4      | 38,414,128  | 38,792,291  | 378,163   | 98.44%\n",
       "... (47 rows omitted)"
      ]
     },
     "execution_count": 67,
     "metadata": {},
     "output_type": "execute_result"
    }
   ],
   "source": [
    "tbl_with_percent_change = partial_census_change_clean.with_column(\n",
    "    \"percent_change\", percent_change * 100\n",
    ")\n",
    "tbl_with_percent_change.set_format(\"percent_change\", PercentFormatter)"
   ]
  },
  {
   "cell_type": "code",
   "execution_count": null,
   "metadata": {},
   "outputs": [],
   "source": [
    "# Let's look at larger ranges in time, we might see more changes then"
   ]
  },
  {
   "cell_type": "markdown",
   "metadata": {},
   "source": [
    "# Analyzing the results/table"
   ]
  },
  {
   "cell_type": "code",
   "execution_count": 82,
   "metadata": {},
   "outputs": [
    {
     "data": {
      "text/html": [
       "<table border=\"1\" class=\"dataframe\">\n",
       "    <thead>\n",
       "        <tr>\n",
       "            <th>NAME</th> <th>STATE</th> <th>REGION</th> <th>pop2013</th> <th>pop2014</th> <th>change</th> <th>percent_change</th>\n",
       "        </tr>\n",
       "    </thead>\n",
       "    <tbody>\n",
       "        <tr>\n",
       "            <td>Texas               </td> <td>48   </td> <td>3     </td> <td>26,500,674 </td> <td>26,979,078 </td> <td>478,404  </td> <td>180.53%       </td>\n",
       "        </tr>\n",
       "        <tr>\n",
       "            <td>Florida             </td> <td>12   </td> <td>3     </td> <td>19,594,467 </td> <td>19,905,569 </td> <td>311,102  </td> <td>158.77%       </td>\n",
       "        </tr>\n",
       "        <tr>\n",
       "            <td>District of Columbia</td> <td>11   </td> <td>3     </td> <td>649,540    </td> <td>659,836    </td> <td>10,296   </td> <td>158.51%       </td>\n",
       "        </tr>\n",
       "        <tr>\n",
       "            <td>South Carolina      </td> <td>45   </td> <td>3     </td> <td>4,768,498  </td> <td>4,829,160  </td> <td>60,662   </td> <td>127.21%       </td>\n",
       "        </tr>\n",
       "        <tr>\n",
       "            <td>Delaware            </td> <td>10   </td> <td>3     </td> <td>925,353    </td> <td>935,968    </td> <td>10,615   </td> <td>114.71%       </td>\n",
       "        </tr>\n",
       "        <tr>\n",
       "            <td>South Region        </td> <td>0    </td> <td>3     </td> <td>118,487,418</td> <td>119,795,010</td> <td>1,307,592</td> <td>110.36%       </td>\n",
       "        </tr>\n",
       "        <tr>\n",
       "            <td>Georgia             </td> <td>13   </td> <td>3     </td> <td>9,991,562  </td> <td>10,097,132 </td> <td>105,570  </td> <td>105.66%       </td>\n",
       "        </tr>\n",
       "        <tr>\n",
       "            <td>North Carolina      </td> <td>37   </td> <td>3     </td> <td>9,845,432  </td> <td>9,940,387  </td> <td>94,955   </td> <td>96.45%        </td>\n",
       "        </tr>\n",
       "        <tr>\n",
       "            <td>Tennessee           </td> <td>47   </td> <td>3     </td> <td>6,496,130  </td> <td>6,547,779  </td> <td>51,649   </td> <td>79.51%        </td>\n",
       "        </tr>\n",
       "        <tr>\n",
       "            <td>Virginia            </td> <td>51   </td> <td>3     </td> <td>8,267,875  </td> <td>8,328,098  </td> <td>60,223   </td> <td>72.84%        </td>\n",
       "        </tr>\n",
       "    </tbody>\n",
       "</table>\n",
       "<p>... (8 rows omitted)</p>"
      ],
      "text/plain": [
       "NAME                 | STATE | REGION | pop2013     | pop2014     | change    | percent_change\n",
       "Texas                | 48    | 3      | 26,500,674  | 26,979,078  | 478,404   | 180.53%\n",
       "Florida              | 12    | 3      | 19,594,467  | 19,905,569  | 311,102   | 158.77%\n",
       "District of Columbia | 11    | 3      | 649,540     | 659,836     | 10,296    | 158.51%\n",
       "South Carolina       | 45    | 3      | 4,768,498   | 4,829,160   | 60,662    | 127.21%\n",
       "Delaware             | 10    | 3      | 925,353     | 935,968     | 10,615    | 114.71%\n",
       "South Region         | 0     | 3      | 118,487,418 | 119,795,010 | 1,307,592 | 110.36%\n",
       "Georgia              | 13    | 3      | 9,991,562   | 10,097,132  | 105,570   | 105.66%\n",
       "North Carolina       | 37    | 3      | 9,845,432   | 9,940,387   | 94,955    | 96.45%\n",
       "Tennessee            | 47    | 3      | 6,496,130   | 6,547,779   | 51,649    | 79.51%\n",
       "Virginia             | 51    | 3      | 8,267,875   | 8,328,098   | 60,223    | 72.84%\n",
       "... (8 rows omitted)"
      ]
     },
     "execution_count": 82,
     "metadata": {},
     "output_type": "execute_result"
    }
   ],
   "source": [
    "# find the regiion with the largest total change\n",
    "tbl_with_percent_change.where(\"REGION\", \"3\").sort(\"percent_change\", descending=True)"
   ]
  },
  {
   "cell_type": "code",
   "execution_count": null,
   "metadata": {},
   "outputs": [],
   "source": [
    "# find the regiion with the largest percentage change"
   ]
  },
  {
   "cell_type": "code",
   "execution_count": null,
   "metadata": {},
   "outputs": [],
   "source": [
    "# add anual growth based on total growth"
   ]
  },
  {
   "cell_type": "code",
   "execution_count": 1,
   "metadata": {},
   "outputs": [],
   "source": [
    "# Initialize Otter\n",
    "import otter\n",
    "grader = otter.Notebook()"
   ]
  },
  {
   "cell_type": "code",
   "execution_count": 2,
   "metadata": {},
   "outputs": [
    {
     "ename": "FileNotFoundError",
     "evalue": "[Errno 2] No such file or directory: 'lec04.ipynb'",
     "output_type": "error",
     "traceback": [
      "\u001b[0;31m---------------------------------------------------------------------------\u001b[0m",
      "\u001b[0;31mFileNotFoundError\u001b[0m                         Traceback (most recent call last)",
      "\u001b[0;32m<ipython-input-2-984c1fd72a47>\u001b[0m in \u001b[0;36m<module>\u001b[0;34m()\u001b[0m\n\u001b[0;32m----> 1\u001b[0;31m \u001b[0mgrader\u001b[0m\u001b[0;34m.\u001b[0m\u001b[0mexport\u001b[0m\u001b[0;34m(\u001b[0m\u001b[0;34m\"lec04.ipynb\"\u001b[0m\u001b[0;34m)\u001b[0m\u001b[0;34m\u001b[0m\u001b[0;34m\u001b[0m\u001b[0m\n\u001b[0m",
      "\u001b[0;32m/opt/tljh/user/lib/python3.7/site-packages/otter/check/notebook.py\u001b[0m in \u001b[0;36mexport\u001b[0;34m(self, nb_path, export_path, pdf, filtering, pagebreaks, files, display_link)\u001b[0m\n\u001b[1;32m    354\u001b[0m         \u001b[0;32mexcept\u001b[0m \u001b[0mException\u001b[0m \u001b[0;32mas\u001b[0m \u001b[0me\u001b[0m\u001b[0;34m:\u001b[0m\u001b[0;34m\u001b[0m\u001b[0;34m\u001b[0m\u001b[0m\n\u001b[1;32m    355\u001b[0m             \u001b[0mself\u001b[0m\u001b[0;34m.\u001b[0m\u001b[0m_log_event\u001b[0m\u001b[0;34m(\u001b[0m\u001b[0mEventType\u001b[0m\u001b[0;34m.\u001b[0m\u001b[0mEND_EXPORT\u001b[0m\u001b[0;34m,\u001b[0m \u001b[0msuccess\u001b[0m\u001b[0;34m=\u001b[0m\u001b[0;32mFalse\u001b[0m\u001b[0;34m,\u001b[0m \u001b[0merror\u001b[0m\u001b[0;34m=\u001b[0m\u001b[0me\u001b[0m\u001b[0;34m)\u001b[0m\u001b[0;34m\u001b[0m\u001b[0;34m\u001b[0m\u001b[0m\n\u001b[0;32m--> 356\u001b[0;31m             \u001b[0;32mraise\u001b[0m \u001b[0me\u001b[0m\u001b[0;34m\u001b[0m\u001b[0;34m\u001b[0m\u001b[0m\n\u001b[0m\u001b[1;32m    357\u001b[0m         \u001b[0;32melse\u001b[0m\u001b[0;34m:\u001b[0m\u001b[0;34m\u001b[0m\u001b[0;34m\u001b[0m\u001b[0m\n\u001b[1;32m    358\u001b[0m             \u001b[0mself\u001b[0m\u001b[0;34m.\u001b[0m\u001b[0m_log_event\u001b[0m\u001b[0;34m(\u001b[0m\u001b[0mEventType\u001b[0m\u001b[0;34m.\u001b[0m\u001b[0mEND_EXPORT\u001b[0m\u001b[0;34m)\u001b[0m\u001b[0;34m\u001b[0m\u001b[0;34m\u001b[0m\u001b[0m\n",
      "\u001b[0;32m/opt/tljh/user/lib/python3.7/site-packages/otter/check/notebook.py\u001b[0m in \u001b[0;36mexport\u001b[0;34m(self, nb_path, export_path, pdf, filtering, pagebreaks, files, display_link)\u001b[0m\n\u001b[1;32m    308\u001b[0m \u001b[0;34m\u001b[0m\u001b[0m\n\u001b[1;32m    309\u001b[0m             \u001b[0;32mtry\u001b[0m\u001b[0;34m:\u001b[0m\u001b[0;34m\u001b[0m\u001b[0;34m\u001b[0m\u001b[0m\n\u001b[0;32m--> 310\u001b[0;31m                 \u001b[0;32mwith\u001b[0m \u001b[0mopen\u001b[0m\u001b[0;34m(\u001b[0m\u001b[0mnb_path\u001b[0m\u001b[0;34m)\u001b[0m \u001b[0;32mas\u001b[0m \u001b[0mf\u001b[0m\u001b[0;34m:\u001b[0m\u001b[0;34m\u001b[0m\u001b[0;34m\u001b[0m\u001b[0m\n\u001b[0m\u001b[1;32m    311\u001b[0m                     \u001b[0;32massert\u001b[0m \u001b[0mlen\u001b[0m\u001b[0;34m(\u001b[0m\u001b[0mf\u001b[0m\u001b[0;34m.\u001b[0m\u001b[0mread\u001b[0m\u001b[0;34m(\u001b[0m\u001b[0;34m)\u001b[0m\u001b[0;34m.\u001b[0m\u001b[0mstrip\u001b[0m\u001b[0;34m(\u001b[0m\u001b[0;34m)\u001b[0m\u001b[0;34m)\u001b[0m \u001b[0;34m>\u001b[0m \u001b[0;36m0\u001b[0m\u001b[0;34m,\u001b[0m\u001b[0;31m \u001b[0m\u001b[0;31m\\\u001b[0m\u001b[0;34m\u001b[0m\u001b[0;34m\u001b[0m\u001b[0m\n\u001b[1;32m    312\u001b[0m                         \u001b[0;34mf\"Notebook {nb_path} is empty. Please save and checkpoint your notebook and rerun this cell.\"\u001b[0m\u001b[0;34m\u001b[0m\u001b[0;34m\u001b[0m\u001b[0m\n",
      "\u001b[0;31mFileNotFoundError\u001b[0m: [Errno 2] No such file or directory: 'lec04.ipynb'"
     ]
    }
   ],
   "source": [
    "grader.export(\"Lecture_4.ipynb\")"
   ]
  }
 ],
 "metadata": {
  "kernelspec": {
   "display_name": "Python 3",
   "language": "python",
   "name": "python3"
  },
  "language_info": {
   "codemirror_mode": {
    "name": "ipython",
    "version": 3
   },
   "file_extension": ".py",
   "mimetype": "text/x-python",
   "name": "python",
   "nbconvert_exporter": "python",
   "pygments_lexer": "ipython3",
   "version": "3.7.7"
  }
 },
 "nbformat": 4,
 "nbformat_minor": 4
}
