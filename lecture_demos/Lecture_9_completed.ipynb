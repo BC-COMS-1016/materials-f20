{
 "cells": [
  {
   "cell_type": "code",
   "execution_count": 2,
   "metadata": {},
   "outputs": [],
   "source": [
    "import numpy as np\n",
    "from datascience import *\n",
    "\n",
    "%matplotlib inline\n",
    "import matplotlib.pyplot as plots\n",
    "plots.style.use('fivethirtyeight')"
   ]
  },
  {
   "cell_type": "markdown",
   "metadata": {},
   "source": [
    "\n",
    "# Control Statements"
   ]
  },
  {
   "cell_type": "code",
   "execution_count": 3,
   "metadata": {},
   "outputs": [
    {
     "data": {
      "text/plain": [
       "(2, 3)"
      ]
     },
     "execution_count": 3,
     "metadata": {},
     "output_type": "execute_result"
    }
   ],
   "source": [
    "x = 2\n",
    "y = 3\n",
    "x, y"
   ]
  },
  {
   "cell_type": "code",
   "execution_count": 4,
   "metadata": {},
   "outputs": [
    {
     "data": {
      "text/plain": [
       "False"
      ]
     },
     "execution_count": 4,
     "metadata": {},
     "output_type": "execute_result"
    }
   ],
   "source": [
    "x > y"
   ]
  },
  {
   "cell_type": "code",
   "execution_count": 6,
   "metadata": {},
   "outputs": [
    {
     "data": {
      "text/plain": [
       "False"
      ]
     },
     "execution_count": 6,
     "metadata": {},
     "output_type": "execute_result"
    }
   ],
   "source": [
    "-x > 0"
   ]
  },
  {
   "cell_type": "code",
   "execution_count": 8,
   "metadata": {},
   "outputs": [
    {
     "data": {
      "text/plain": [
       "True"
      ]
     },
     "execution_count": 8,
     "metadata": {},
     "output_type": "execute_result"
    }
   ],
   "source": [
    "-x < 0 "
   ]
  },
  {
   "cell_type": "code",
   "execution_count": 9,
   "metadata": {},
   "outputs": [
    {
     "data": {
      "text/plain": [
       "False"
      ]
     },
     "execution_count": 9,
     "metadata": {},
     "output_type": "execute_result"
    }
   ],
   "source": [
    "x == 0"
   ]
  },
  {
   "cell_type": "code",
   "execution_count": 18,
   "metadata": {},
   "outputs": [
    {
     "ename": "SyntaxError",
     "evalue": "invalid syntax (<ipython-input-18-13caa571595a>, line 6)",
     "output_type": "error",
     "traceback": [
      "\u001b[0;36m  File \u001b[0;32m\"<ipython-input-18-13caa571595a>\"\u001b[0;36m, line \u001b[0;32m6\u001b[0m\n\u001b[0;31m    elif x < 0:\u001b[0m\n\u001b[0m       ^\u001b[0m\n\u001b[0;31mSyntaxError\u001b[0m\u001b[0;31m:\u001b[0m invalid syntax\n"
     ]
    }
   ],
   "source": [
    "def sign(x):\n",
    "    '''\n",
    "    Returns \"positive\", \"negative\", \"zero\" depending on the value of x\n",
    "    '''\n",
    "    return_string = \"\"\n",
    "    if x < 0:\n",
    "        return_string = \"negative\"\n",
    "    if x > 0:\n",
    "        return_string = \"positive\"\n",
    "    else:\n",
    "        return_string = \"zero\"\n",
    "    return return_string"
   ]
  },
  {
   "cell_type": "code",
   "execution_count": 29,
   "metadata": {},
   "outputs": [],
   "source": [
    "def greater_than_number(x):\n",
    "    '''\n",
    "    '''\n",
    "    if x > 10:\n",
    "        print(x, \"is greater than 10\")\n",
    "        \n",
    "    if x > 5:\n",
    "        print(x, \"is greater than 5\")\n",
    "    else: \n",
    "        print(x, \"is less than ___\")"
   ]
  },
  {
   "cell_type": "code",
   "execution_count": 31,
   "metadata": {},
   "outputs": [
    {
     "name": "stdout",
     "output_type": "stream",
     "text": [
      "11 is greater than 10\n"
     ]
    }
   ],
   "source": [
    "greater_than_number(11)"
   ]
  },
  {
   "cell_type": "code",
   "execution_count": 32,
   "metadata": {},
   "outputs": [
    {
     "data": {
      "text/plain": [
       "('positive', 'negative', 'zero')"
      ]
     },
     "execution_count": 32,
     "metadata": {},
     "output_type": "execute_result"
    }
   ],
   "source": [
    "sign(10), sign(-10), sign(0)"
   ]
  },
  {
   "cell_type": "markdown",
   "metadata": {},
   "source": [
    "### `if`, `elif`, and `else`"
   ]
  },
  {
   "cell_type": "code",
   "execution_count": null,
   "metadata": {},
   "outputs": [],
   "source": [
    "def sign(x):\n",
    "    '''\n",
    "    Returns \"positive\", \"negative\", \"zero\" depending on the value of x\n",
    "    '''"
   ]
  },
  {
   "cell_type": "markdown",
   "metadata": {},
   "source": [
    "### `abs()`\n",
    "Now try implementing the `abs()` function"
   ]
  },
  {
   "cell_type": "code",
   "execution_count": 33,
   "metadata": {},
   "outputs": [
    {
     "name": "stdout",
     "output_type": "stream",
     "text": [
      "Help on built-in function abs in module builtins:\n",
      "\n",
      "abs(x, /)\n",
      "    Return the absolute value of the argument.\n",
      "\n"
     ]
    }
   ],
   "source": [
    "help(abs)"
   ]
  },
  {
   "cell_type": "code",
   "execution_count": 37,
   "metadata": {},
   "outputs": [
    {
     "data": {
      "text/plain": [
       "(5, 5, 0, 0)"
      ]
     },
     "execution_count": 37,
     "metadata": {},
     "output_type": "execute_result"
    }
   ],
   "source": [
    "abs(-5), abs(5), abs(0), abs(-0)"
   ]
  },
  {
   "cell_type": "code",
   "execution_count": 45,
   "metadata": {},
   "outputs": [],
   "source": [
    "def custom_abs(x):\n",
    "    '''Our implementation of absoulte'''\n",
    "    if x > 0:\n",
    "        return x\n",
    "    elif x < 0:\n",
    "        return -1 * x\n",
    "    else: # x == 0:\n",
    "        return x"
   ]
  },
  {
   "cell_type": "code",
   "execution_count": 46,
   "metadata": {},
   "outputs": [
    {
     "data": {
      "text/plain": [
       "(6, 6, 0)"
      ]
     },
     "execution_count": 46,
     "metadata": {},
     "output_type": "execute_result"
    }
   ],
   "source": [
    "custom_abs(-6), custom_abs(6), custom_abs(0)"
   ]
  },
  {
   "cell_type": "markdown",
   "metadata": {},
   "source": [
    "(back to slides)\n",
    "# Random Selection"
   ]
  },
  {
   "cell_type": "code",
   "execution_count": 47,
   "metadata": {},
   "outputs": [
    {
     "data": {
      "text/plain": [
       "array(['treatment', 'control'], dtype='<U9')"
      ]
     },
     "execution_count": 47,
     "metadata": {},
     "output_type": "execute_result"
    }
   ],
   "source": [
    "groups = make_array('treatment', 'control')\n",
    "groups"
   ]
  },
  {
   "cell_type": "markdown",
   "metadata": {},
   "source": [
    "Let's randomly assign 1 individual to each group"
   ]
  },
  {
   "cell_type": "code",
   "execution_count": 59,
   "metadata": {},
   "outputs": [
    {
     "data": {
      "text/plain": [
       "array(['treatment', 'treatment', 'control', 'treatment', 'treatment',\n",
       "       'treatment', 'treatment', 'control', 'treatment', 'treatment'],\n",
       "      dtype='<U9')"
      ]
     },
     "execution_count": 59,
     "metadata": {},
     "output_type": "execute_result"
    }
   ],
   "source": [
    "np.random.choice(groups, 10)"
   ]
  },
  {
   "cell_type": "markdown",
   "metadata": {},
   "source": [
    "Let's randomly assign 5 individuals to each group"
   ]
  },
  {
   "cell_type": "code",
   "execution_count": 66,
   "metadata": {},
   "outputs": [
    {
     "data": {
      "text/plain": [
       "(array([ True,  True, False, False,  True,  True,  True, False, False,\n",
       "         True]),\n",
       " array(['treatment', 'treatment', 'control', 'control', 'treatment',\n",
       "        'treatment', 'treatment', 'control', 'control', 'treatment'],\n",
       "       dtype='<U9'))"
      ]
     },
     "execution_count": 66,
     "metadata": {},
     "output_type": "execute_result"
    }
   ],
   "source": [
    "assignments = np.random.choice(groups, 10)\n",
    "assignments == 'treatment', assignments"
   ]
  },
  {
   "cell_type": "code",
   "execution_count": 69,
   "metadata": {},
   "outputs": [
    {
     "data": {
      "text/plain": [
       "6"
      ]
     },
     "execution_count": 69,
     "metadata": {},
     "output_type": "execute_result"
    }
   ],
   "source": [
    "Table().with_columns('assignments', assignments == 'treatment').where('assignments', True).num_rows"
   ]
  },
  {
   "cell_type": "code",
   "execution_count": 73,
   "metadata": {},
   "outputs": [
    {
     "data": {
      "text/plain": [
       "6"
      ]
     },
     "execution_count": 73,
     "metadata": {},
     "output_type": "execute_result"
    }
   ],
   "source": [
    "sum(assignments == 'treatment')"
   ]
  },
  {
   "cell_type": "code",
   "execution_count": 76,
   "metadata": {},
   "outputs": [
    {
     "data": {
      "text/plain": [
       "2"
      ]
     },
     "execution_count": 76,
     "metadata": {},
     "output_type": "execute_result"
    }
   ],
   "source": [
    "sum(make_array(True, False, False, True))"
   ]
  },
  {
   "cell_type": "markdown",
   "metadata": {},
   "source": [
    "Let's repeat this"
   ]
  },
  {
   "cell_type": "code",
   "execution_count": 78,
   "metadata": {},
   "outputs": [
    {
     "data": {
      "text/plain": [
       "array(['treatment', 'treatment', 'treatment', 'treatment', 'control',\n",
       "       'control', 'treatment', 'treatment', 'control', 'control'],\n",
       "      dtype='<U9')"
      ]
     },
     "execution_count": 78,
     "metadata": {},
     "output_type": "execute_result"
    }
   ],
   "source": [
    "assignments = np.random.choice(groups, 10)\n",
    "assignments"
   ]
  },
  {
   "cell_type": "markdown",
   "metadata": {},
   "source": [
    "Do we see any differences?"
   ]
  },
  {
   "cell_type": "code",
   "execution_count": 79,
   "metadata": {},
   "outputs": [
    {
     "data": {
      "text/plain": [
       "array(['control', 'control', 'treatment', 'control', 'treatment',\n",
       "       'control', 'treatment', 'control', 'control', 'control'],\n",
       "      dtype='<U9')"
      ]
     },
     "execution_count": 79,
     "metadata": {},
     "output_type": "execute_result"
    }
   ],
   "source": [
    "assignments = np.random.choice(groups, 10)\n",
    "assignments"
   ]
  },
  {
   "cell_type": "code",
   "execution_count": 81,
   "metadata": {},
   "outputs": [
    {
     "data": {
      "text/plain": [
       "('control', array(['treatment', 'control'], dtype='<U9'))"
      ]
     },
     "execution_count": 81,
     "metadata": {},
     "output_type": "execute_result"
    }
   ],
   "source": [
    "np.random.choice(groups), groups"
   ]
  },
  {
   "cell_type": "markdown",
   "metadata": {},
   "source": [
    "back to slides\n",
    "# Appending arrays: `np.append()`\n",
    "\n",
    "Adding an individual to a control or treament group"
   ]
  },
  {
   "cell_type": "code",
   "execution_count": 101,
   "metadata": {},
   "outputs": [
    {
     "data": {
      "text/plain": [
       "0"
      ]
     },
     "execution_count": 101,
     "metadata": {},
     "output_type": "execute_result"
    }
   ],
   "source": [
    "# Make an empty array for the control and treatment groups\n",
    "control_group = make_array()\n",
    "treatment_group = make_array()\n",
    "control_group, treatment_group\n",
    "len(control_group)"
   ]
  },
  {
   "cell_type": "markdown",
   "metadata": {},
   "source": [
    "Now let's randomly assign an individual to a group and then add the individual to the corresponding group based on the random assignment"
   ]
  },
  {
   "cell_type": "code",
   "execution_count": 96,
   "metadata": {},
   "outputs": [
    {
     "data": {
      "text/plain": [
       "array(['treatment', 'control'], dtype='<U9')"
      ]
     },
     "execution_count": 96,
     "metadata": {},
     "output_type": "execute_result"
    }
   ],
   "source": [
    "groups"
   ]
  },
  {
   "cell_type": "code",
   "execution_count": 97,
   "metadata": {},
   "outputs": [
    {
     "data": {
      "text/plain": [
       "array([1.])"
      ]
     },
     "execution_count": 97,
     "metadata": {},
     "output_type": "execute_result"
    }
   ],
   "source": [
    "np.append(treatment_group, 1)"
   ]
  },
  {
   "cell_type": "code",
   "execution_count": 100,
   "metadata": {},
   "outputs": [
    {
     "data": {
      "text/plain": [
       "array([1., 1.])"
      ]
     },
     "execution_count": 100,
     "metadata": {},
     "output_type": "execute_result"
    }
   ],
   "source": [
    "#treatment_group = np.append(treatment_group, 1)\n",
    "#treatment_group"
   ]
  },
  {
   "cell_type": "code",
   "execution_count": 111,
   "metadata": {},
   "outputs": [
    {
     "name": "stdout",
     "output_type": "stream",
     "text": [
      "control\n"
     ]
    },
    {
     "data": {
      "text/plain": [
       "(array(['Sears Tower'], dtype='<U32'), array([], dtype=float64))"
      ]
     },
     "execution_count": 111,
     "metadata": {},
     "output_type": "execute_result"
    }
   ],
   "source": [
    "control_group = make_array()\n",
    "treatment_group = make_array()\n",
    "assigned_group =  np.random.choice(groups)\n",
    "individual = \"Sears Tower\"\n",
    "print(assigned_group)\n",
    "if assigned_group == 'treatment':\n",
    "    treatment_group = np.append(treatment_group, individual)\n",
    "else:\n",
    "    control_group = np.append(control_group, individual)\n",
    "\n",
    "control_group, treatment_group"
   ]
  },
  {
   "cell_type": "markdown",
   "metadata": {},
   "source": [
    "#### Let's put this control statment into a function:\n",
    "- What should we name the function? \n",
    "- What are the arguments/parameters of the function?\n",
    "- What should the function return?"
   ]
  },
  {
   "cell_type": "code",
   "execution_count": 114,
   "metadata": {},
   "outputs": [],
   "source": [
    "def add_individual_to_group(treatment_group, control_group, individual):\n",
    "    assigned_group =  np.random.choice(groups)\n",
    "    print(assigned_group)\n",
    "    if assigned_group == 'treatment':\n",
    "        treatment_group = np.append(treatment_group, individual)\n",
    "    else:\n",
    "        control_group = np.append(control_group, individual)\n",
    "    return treatment_group, control_group"
   ]
  },
  {
   "cell_type": "markdown",
   "metadata": {},
   "source": [
    "Now let's call this function 5 times to assign 5 individuals to the different groups"
   ]
  },
  {
   "cell_type": "code",
   "execution_count": 118,
   "metadata": {},
   "outputs": [
    {
     "name": "stdout",
     "output_type": "stream",
     "text": [
      "control\n"
     ]
    },
    {
     "data": {
      "text/plain": [
       "(array([], dtype=float64), array([0.]))"
      ]
     },
     "execution_count": 118,
     "metadata": {},
     "output_type": "execute_result"
    }
   ],
   "source": [
    "control_group = make_array()\n",
    "treatment_group = make_array()\n",
    "treatment_group, control_group = add_individual_to_group(treatment_group, control_group, 0)\n",
    "treatment_group, control_group"
   ]
  },
  {
   "cell_type": "code",
   "execution_count": 119,
   "metadata": {},
   "outputs": [
    {
     "name": "stdout",
     "output_type": "stream",
     "text": [
      "treatment\n"
     ]
    },
    {
     "data": {
      "text/plain": [
       "(array([1.]), array([0.]))"
      ]
     },
     "execution_count": 119,
     "metadata": {},
     "output_type": "execute_result"
    }
   ],
   "source": [
    "treatment_group, control_group = add_individual_to_group(treatment_group, control_group, 1)\n",
    "treatment_group, control_group"
   ]
  },
  {
   "cell_type": "code",
   "execution_count": 120,
   "metadata": {},
   "outputs": [
    {
     "name": "stdout",
     "output_type": "stream",
     "text": [
      "control\n"
     ]
    },
    {
     "data": {
      "text/plain": [
       "(array([1.]), array([0., 2.]))"
      ]
     },
     "execution_count": 120,
     "metadata": {},
     "output_type": "execute_result"
    }
   ],
   "source": [
    "treatment_group, control_group = add_individual_to_group(treatment_group, control_group, 2)\n",
    "treatment_group, control_group"
   ]
  },
  {
   "cell_type": "code",
   "execution_count": 121,
   "metadata": {},
   "outputs": [
    {
     "name": "stdout",
     "output_type": "stream",
     "text": [
      "treatment\n"
     ]
    },
    {
     "data": {
      "text/plain": [
       "(array([1., 3.]), array([0., 2.]))"
      ]
     },
     "execution_count": 121,
     "metadata": {},
     "output_type": "execute_result"
    }
   ],
   "source": [
    "treatment_group, control_group = add_individual_to_group(treatment_group, control_group, 3)\n",
    "treatment_group, control_group"
   ]
  },
  {
   "cell_type": "markdown",
   "metadata": {},
   "source": [
    "We will now see a cleaner way to assign 5 individuals to the different groups\n",
    "(back to slides)\n",
    "# `For` Statements"
   ]
  },
  {
   "cell_type": "code",
   "execution_count": 122,
   "metadata": {},
   "outputs": [
    {
     "name": "stdout",
     "output_type": "stream",
     "text": [
      "iteration 0\n",
      "iteration 1\n",
      "iteration 2\n",
      "iteration 3\n"
     ]
    }
   ],
   "source": [
    "for i in np.arange(4):\n",
    "    print('iteration', i)"
   ]
  },
  {
   "cell_type": "code",
   "execution_count": 123,
   "metadata": {},
   "outputs": [
    {
     "name": "stdout",
     "output_type": "stream",
     "text": [
      "iteration 0\n",
      "iteration 1\n",
      "iteration 2\n",
      "iteration 3\n"
     ]
    }
   ],
   "source": [
    "print('iteration', 0)\n",
    "print('iteration', 1)\n",
    "print('iteration', 2)\n",
    "print('iteration', 3)"
   ]
  },
  {
   "cell_type": "code",
   "execution_count": 125,
   "metadata": {},
   "outputs": [
    {
     "name": "stdout",
     "output_type": "stream",
     "text": [
      "iteration 1\n",
      "iteration 3\n",
      "iteration 5\n",
      "iteration 7\n",
      "iteration 9\n"
     ]
    }
   ],
   "source": [
    "for i in np.arange(1,10,2):\n",
    "    print('iteration', i)"
   ]
  },
  {
   "cell_type": "code",
   "execution_count": 124,
   "metadata": {},
   "outputs": [
    {
     "data": {
      "text/plain": [
       "array([1, 3, 5, 7, 9])"
      ]
     },
     "execution_count": 124,
     "metadata": {},
     "output_type": "execute_result"
    }
   ],
   "source": [
    "np.arange(1,10,2)"
   ]
  },
  {
   "cell_type": "markdown",
   "metadata": {},
   "source": [
    "Use a `for` loop to assign the individuals to the different groups"
   ]
  },
  {
   "cell_type": "code",
   "execution_count": 128,
   "metadata": {},
   "outputs": [],
   "source": [
    "treatment_group = make_array()\n",
    "control_group = make_array()\n",
    "#treatment_group, control_group = add_individual_to_group(treatment_group, control_group, 0)"
   ]
  },
  {
   "cell_type": "code",
   "execution_count": 130,
   "metadata": {},
   "outputs": [
    {
     "name": "stdout",
     "output_type": "stream",
     "text": [
      "control\n",
      "control\n",
      "treatment\n",
      "treatment\n",
      "treatment\n",
      "treatment\n",
      "treatment\n",
      "control\n",
      "treatment\n",
      "treatment\n"
     ]
    },
    {
     "data": {
      "text/plain": [
       "(array([2., 3., 4., 5., 6., 8., 9.]), array([0., 1., 7.]))"
      ]
     },
     "execution_count": 130,
     "metadata": {},
     "output_type": "execute_result"
    }
   ],
   "source": [
    "for individual in np.arange(0,10):\n",
    "    treatment_group, control_group = add_individual_to_group(treatment_group, control_group, individual)\n",
    "treatment_group, control_group"
   ]
  },
  {
   "cell_type": "markdown",
   "metadata": {},
   "source": [
    "# Heads or Tails Experiment\n",
    "\n",
    "Let's run 10 experiments where we flip a coin 100 times and see how many times we get heads"
   ]
  },
  {
   "cell_type": "markdown",
   "metadata": {},
   "source": [
    "Before we begin, let's write out all the steps we need to do\n",
    "\n",
    "*Hint: Lets work inside out, i.e. lets first write code for one experiment*"
   ]
  },
  {
   "cell_type": "markdown",
   "metadata": {},
   "source": [
    "1. make an array of heads and tails\n",
    "2. flip a coin randomly (select head or tails at random) \n",
    "3. keep track of whether we got heads our tails"
   ]
  },
  {
   "cell_type": "code",
   "execution_count": 131,
   "metadata": {},
   "outputs": [
    {
     "data": {
      "text/plain": [
       "array(['heads', 'tails'], dtype='<U5')"
      ]
     },
     "execution_count": 131,
     "metadata": {},
     "output_type": "execute_result"
    }
   ],
   "source": [
    "coins = make_array('heads', 'tails')\n",
    "coins"
   ]
  },
  {
   "cell_type": "code",
   "execution_count": 133,
   "metadata": {},
   "outputs": [
    {
     "data": {
      "text/plain": [
       "array(['heads', 'heads', 'heads', 'heads', 'tails', 'tails', 'heads',\n",
       "       'heads', 'tails', 'heads', 'tails', 'heads', 'tails', 'tails',\n",
       "       'tails', 'heads', 'heads', 'heads', 'tails', 'tails', 'tails',\n",
       "       'tails', 'heads', 'tails', 'heads', 'tails', 'heads', 'tails',\n",
       "       'heads', 'heads', 'tails', 'tails', 'heads', 'tails', 'heads',\n",
       "       'heads', 'tails', 'heads', 'heads', 'tails', 'heads', 'heads',\n",
       "       'heads', 'heads', 'tails', 'heads', 'tails', 'tails', 'tails',\n",
       "       'tails', 'heads', 'tails', 'heads', 'tails', 'heads', 'tails',\n",
       "       'heads', 'tails', 'tails', 'tails', 'tails', 'heads', 'tails',\n",
       "       'heads', 'tails', 'tails', 'heads', 'tails', 'tails', 'tails',\n",
       "       'heads', 'heads', 'tails', 'tails', 'heads', 'tails', 'heads',\n",
       "       'heads', 'tails', 'heads', 'heads', 'tails', 'heads', 'tails',\n",
       "       'tails', 'tails', 'heads', 'heads', 'tails', 'tails', 'heads',\n",
       "       'heads', 'tails', 'tails', 'tails', 'heads', 'tails', 'tails',\n",
       "       'heads', 'heads'], dtype='<U5')"
      ]
     },
     "execution_count": 133,
     "metadata": {},
     "output_type": "execute_result"
    }
   ],
   "source": [
    "np.random.choice(coins, 100) "
   ]
  },
  {
   "cell_type": "code",
   "execution_count": 135,
   "metadata": {},
   "outputs": [
    {
     "data": {
      "text/plain": [
       "50"
      ]
     },
     "execution_count": 135,
     "metadata": {},
     "output_type": "execute_result"
    }
   ],
   "source": [
    "sum(np.random.choice(coins, 100) == 'heads')"
   ]
  },
  {
   "cell_type": "code",
   "execution_count": 142,
   "metadata": {},
   "outputs": [
    {
     "data": {
      "text/plain": [
       "array([41., 52., 45., 51., 48., 57., 48., 49., 55., 51., 60., 54., 61.,\n",
       "       52., 47., 45., 51., 50., 44., 48., 47., 44., 45., 47., 43., 59.,\n",
       "       52., 42., 58., 53., 42., 56., 52., 58., 57., 58., 50., 58., 54.,\n",
       "       47., 47., 48., 48., 57., 50., 49., 48., 51., 46., 48., 52., 56.,\n",
       "       39., 46., 48., 52., 39., 52., 53., 43., 50., 45., 47., 54., 49.,\n",
       "       47., 43., 48., 44., 49., 55., 50., 53., 46., 56., 48., 45., 56.,\n",
       "       46., 48., 51., 52., 42., 51., 50., 44., 51., 57., 40., 64., 53.,\n",
       "       47., 60., 52., 55., 51., 53., 48., 50., 43., 48., 51., 59., 53.,\n",
       "       52., 57., 44., 51., 59., 50., 51., 47., 50., 46., 46., 48., 56.,\n",
       "       55., 53., 44., 60., 58., 54., 50., 62., 48., 59., 50., 42., 52.,\n",
       "       51., 48., 53., 55., 57., 45., 47., 49., 55., 52., 58., 48., 57.,\n",
       "       46., 57., 55., 51., 45., 50., 43., 54., 50., 53., 54., 45., 45.,\n",
       "       49., 53., 52., 52., 44., 56., 48., 44., 52., 56., 48., 48., 49.,\n",
       "       47., 52., 42., 57., 54., 56., 47., 49., 47., 62., 50., 49., 53.,\n",
       "       53., 54., 51., 53., 46., 53., 54., 52., 46., 50., 54., 49., 47.,\n",
       "       48., 50., 42., 52., 55., 52., 44., 49., 46., 42., 49., 46., 39.,\n",
       "       50., 42., 49., 49., 54., 46., 48., 52., 50., 49., 54., 48., 54.,\n",
       "       55., 46., 40., 46., 51., 54., 52., 57., 46., 48., 46., 49., 45.,\n",
       "       53., 49., 45., 40., 48., 42., 51., 50., 49., 44., 52., 52., 48.,\n",
       "       53., 47., 45., 54., 54., 49., 46., 53., 56., 52., 53., 52., 47.,\n",
       "       49., 52., 49., 53., 45., 41., 50., 53., 49., 46., 50., 54., 46.,\n",
       "       47., 52., 43., 51., 54., 45., 48., 43., 53., 58., 50., 50., 53.,\n",
       "       53., 53., 52., 43., 45., 57., 44., 60., 51., 52., 46., 51., 51.,\n",
       "       47., 47., 49., 44., 52., 56., 56., 44., 58., 48., 54., 50., 48.,\n",
       "       50., 47., 50., 49., 57., 58., 51., 49., 52., 56., 50., 47., 52.,\n",
       "       55., 48., 49., 55., 49., 43., 56., 49., 56., 52., 54., 51., 43.,\n",
       "       43., 49., 49., 41., 55., 45., 45., 55., 52., 42., 44., 45., 44.,\n",
       "       46., 50., 45., 54., 40., 52., 50., 57., 48., 52., 48., 57., 38.,\n",
       "       51., 44., 54., 49., 57., 51., 56., 51., 52., 55., 41., 43., 51.,\n",
       "       55., 56., 53., 46., 50., 54., 48., 56., 58., 45., 49., 55., 48.,\n",
       "       43., 52., 48., 49., 54., 47., 45., 42., 54., 55., 45., 55., 55.,\n",
       "       48., 46., 55., 38., 42., 44., 46., 46., 49., 53., 58., 54., 37.,\n",
       "       50., 46., 40., 38., 41., 51., 50., 53., 52., 55., 53., 49., 42.,\n",
       "       40., 50., 52., 53., 49., 55., 44., 47., 52., 50., 48., 52., 45.,\n",
       "       47., 48., 48., 58., 48., 43., 55., 49., 53., 40., 45., 46., 54.,\n",
       "       47., 46., 50., 55., 50., 52., 54., 46., 47., 55., 54., 42., 45.,\n",
       "       45., 62., 54., 42., 48., 50., 47., 49., 50., 50., 53., 58., 56.,\n",
       "       43., 44., 52., 56., 52., 44., 43., 54., 44., 53., 53., 50., 43.,\n",
       "       41., 53., 48., 59., 50., 50., 57., 48., 51., 53., 41., 49., 50.,\n",
       "       50., 58., 55., 46., 52., 43., 50., 57., 47., 54., 58., 50., 50.,\n",
       "       55., 56., 54., 54., 54., 58., 47., 52., 49., 53., 51., 54., 49.,\n",
       "       57., 51., 48., 56., 51., 53., 48., 51., 49., 50., 53., 52., 50.,\n",
       "       42., 47., 52., 50., 45., 55., 57., 45., 49., 65., 34., 50., 46.,\n",
       "       44., 45., 42., 47., 49., 43., 56., 62., 45., 57., 48., 49., 46.,\n",
       "       48., 49., 53., 48., 37., 52., 47., 46., 62., 48., 54., 56., 51.,\n",
       "       46., 50., 54., 58., 43., 48., 44., 56., 43., 47., 49., 61., 50.,\n",
       "       44., 55., 42., 49., 55., 50., 45., 45., 44., 45., 52., 49., 51.,\n",
       "       57., 63., 54., 53., 55., 51., 52., 41., 45., 56., 58., 52., 45.,\n",
       "       52., 51., 54., 48., 46., 48., 58., 50., 50., 55., 50., 54., 51.,\n",
       "       47., 50., 43., 43., 48., 55., 47., 55., 56., 54., 45., 53., 50.,\n",
       "       51., 49., 48., 46., 46., 51., 43., 48., 46., 52., 42., 41., 42.,\n",
       "       58., 46., 53., 48., 44., 57., 58., 46., 48., 46., 51., 56., 52.,\n",
       "       43., 51., 53., 52., 53., 49., 48., 54., 56., 46., 51., 51., 51.,\n",
       "       45., 49., 50., 38., 40., 55., 47., 45., 50., 51., 53., 53., 51.,\n",
       "       55., 59., 53., 44., 58., 48., 61., 50., 44., 48., 51., 54., 50.,\n",
       "       51., 53., 42., 48., 44., 55., 45., 44., 48., 50., 52., 41., 43.,\n",
       "       48., 46., 41., 57., 48., 47., 52., 52., 52., 48., 50., 48., 45.,\n",
       "       52., 55., 52., 51., 48., 56., 58., 50., 51., 52., 48., 57., 39.,\n",
       "       48., 41., 43., 41., 45., 50., 44., 53., 40., 50., 35., 54., 50.,\n",
       "       43., 53., 50., 58., 46., 50., 44., 42., 56., 57., 53., 42., 42.,\n",
       "       39., 49., 51., 46., 58., 44., 48., 43., 47., 49., 53., 42., 54.,\n",
       "       56., 48., 57., 49., 52., 51., 48., 47., 60., 44., 54., 52., 51.,\n",
       "       53., 55., 59., 49., 48., 53., 49., 34., 55., 57., 48., 45., 49.,\n",
       "       59., 48., 55., 45., 51., 52., 54., 52., 46., 54., 51., 47., 55.,\n",
       "       54., 49., 58., 56., 42., 46., 48., 57., 58., 61., 47., 56., 56.,\n",
       "       49., 51., 49., 49., 53., 49., 51., 51., 49., 54., 57., 51., 53.,\n",
       "       44., 56., 57., 53., 47., 58., 58., 51., 45., 50., 51., 62., 56.,\n",
       "       50., 56., 43., 45., 50., 43., 48., 43., 40., 54., 56., 50., 43.,\n",
       "       39., 51., 51., 54., 46., 50., 49., 55., 47., 52., 44., 52., 45.,\n",
       "       43., 54., 56., 50., 38., 49., 53., 47., 53., 47., 52., 55., 51.,\n",
       "       55., 57., 45., 53., 52., 49., 44., 51., 46., 54., 50., 55., 58.,\n",
       "       44., 49., 50., 47., 53., 45., 56., 48., 46., 53., 50., 53., 49.,\n",
       "       47., 41., 53., 51., 54., 46., 46., 53., 55., 52., 46., 52., 47.,\n",
       "       52., 50., 49., 49., 47., 53., 47., 48., 56., 53., 53., 40., 45.,\n",
       "       46., 52., 45., 55., 48., 52., 48., 48., 48., 45., 47., 48., 48.,\n",
       "       42., 52., 49., 51., 56., 48., 45., 42., 50., 48., 52., 50., 51.,\n",
       "       58., 54., 46., 49., 47., 54., 45., 54., 52., 60., 55., 45.])"
      ]
     },
     "execution_count": 142,
     "metadata": {},
     "output_type": "execute_result"
    }
   ],
   "source": [
    "num_heads = make_array()\n",
    "for i in np.arange(1000):\n",
    "    num_heads = np.append(num_heads, sum(np.random.choice(coins, 100) == 'heads'))\n",
    "num_heads"
   ]
  },
  {
   "cell_type": "markdown",
   "metadata": {},
   "source": [
    "Let's plot the results from the experiments. What type of plot should we use?"
   ]
  },
  {
   "cell_type": "code",
   "execution_count": null,
   "metadata": {},
   "outputs": [],
   "source": []
  },
  {
   "cell_type": "markdown",
   "metadata": {},
   "source": [
    "How many times did we get 40 through 60 heads? What percentage of our simulations do these represent?"
   ]
  },
  {
   "cell_type": "code",
   "execution_count": null,
   "metadata": {},
   "outputs": [],
   "source": []
  },
  {
   "cell_type": "code",
   "execution_count": null,
   "metadata": {},
   "outputs": [],
   "source": []
  },
  {
   "cell_type": "code",
   "execution_count": null,
   "metadata": {},
   "outputs": [],
   "source": []
  },
  {
   "cell_type": "code",
   "execution_count": null,
   "metadata": {},
   "outputs": [],
   "source": [
    "1. Make our coins options"
   ]
  },
  {
   "cell_type": "code",
   "execution_count": null,
   "metadata": {},
   "outputs": [],
   "source": []
  },
  {
   "cell_type": "code",
   "execution_count": null,
   "metadata": {},
   "outputs": [],
   "source": []
  },
  {
   "cell_type": "code",
   "execution_count": null,
   "metadata": {},
   "outputs": [],
   "source": []
  },
  {
   "cell_type": "markdown",
   "metadata": {},
   "source": [
    "(back to slides)\n",
    "\n",
    "# Monty Hall Simulation"
   ]
  },
  {
   "cell_type": "markdown",
   "metadata": {},
   "source": [
    "Lets make an array of what can be behind each door"
   ]
  },
  {
   "cell_type": "code",
   "execution_count": 40,
   "metadata": {},
   "outputs": [],
   "source": [
    "goats = make_array('first goat', 'second goat')\n",
    "hidden_behind_door = ... # Lets add the car"
   ]
  },
  {
   "cell_type": "markdown",
   "metadata": {},
   "source": [
    "Let's make a choice. We won't choose a door but rather whats behind the door"
   ]
  },
  {
   "cell_type": "code",
   "execution_count": 45,
   "metadata": {},
   "outputs": [
    {
     "data": {
      "text/plain": [
       "'second goat'"
      ]
     },
     "execution_count": 45,
     "metadata": {},
     "output_type": "execute_result"
    }
   ],
   "source": [
    "# Remember np.random.choice\n",
    "contestant_choice = ...\n",
    "contestant_choice"
   ]
  },
  {
   "cell_type": "code",
   "execution_count": null,
   "metadata": {},
   "outputs": [],
   "source": [
    "def other_goat(a_goat):\n",
    "    ''' Returns the other goat that wasn't chosen\n",
    "    '''\n",
    "    ...\n",
    "    return ..."
   ]
  },
  {
   "cell_type": "markdown",
   "metadata": {},
   "source": [
    "Let's test `other_goat()`"
   ]
  },
  {
   "cell_type": "code",
   "execution_count": null,
   "metadata": {},
   "outputs": [],
   "source": []
  },
  {
   "cell_type": "code",
   "execution_count": null,
   "metadata": {},
   "outputs": [],
   "source": []
  },
  {
   "cell_type": "markdown",
   "metadata": {},
   "source": [
    "What happens next? \n",
    "Monty chooses the door to show and we have a remaining door"
   ]
  },
  {
   "cell_type": "code",
   "execution_count": null,
   "metadata": {},
   "outputs": [],
   "source": [
    "monty_choice = ...\n",
    "remaining_door = ..."
   ]
  },
  {
   "cell_type": "markdown",
   "metadata": {},
   "source": [
    "But remember, these choices are conditioned on what the contestant chose"
   ]
  },
  {
   "cell_type": "code",
   "execution_count": null,
   "metadata": {},
   "outputs": [],
   "source": [
    "if ...: # one option for contest's choice\n",
    "    ...\n",
    "elif ...: # second option for contests's choice\n",
    "    ...\n",
    "elif ...: # third option for contestants choice\n",
    "    ...\n",
    "    \n",
    "contestant_choice, monty_choice, remaining_door"
   ]
  },
  {
   "cell_type": "markdown",
   "metadata": {},
   "source": [
    "Let's add this to a function so that we can run many simulations of the game"
   ]
  },
  {
   "cell_type": "code",
   "execution_count": null,
   "metadata": {},
   "outputs": [],
   "source": [
    "def monty_hall():\n",
    "    '''\n",
    "    Simulates one run of monty hall.\n",
    "    Returns values behind contestant_choice, monty_choice, remaining_door\n",
    "    '''\n",
    "    ...\n",
    "    return "
   ]
  },
  {
   "cell_type": "markdown",
   "metadata": {},
   "source": [
    "Now let's play this game once"
   ]
  },
  {
   "cell_type": "code",
   "execution_count": null,
   "metadata": {},
   "outputs": [],
   "source": []
  },
  {
   "cell_type": "markdown",
   "metadata": {},
   "source": [
    "Let's play it another time"
   ]
  },
  {
   "cell_type": "code",
   "execution_count": null,
   "metadata": {},
   "outputs": [],
   "source": []
  },
  {
   "cell_type": "markdown",
   "metadata": {},
   "source": [
    "#### Let's play this game multiple times\n",
    "How could we do that based on what we learned in today's lecture?"
   ]
  },
  {
   "cell_type": "code",
   "execution_count": 54,
   "metadata": {},
   "outputs": [],
   "source": []
  },
  {
   "cell_type": "markdown",
   "metadata": {},
   "source": [
    "### Simulations\n",
    "\n",
    "Let's make a table where we will keep simulations\n",
    "We want to keep track of the original guess, what was revealed, and what is remaining in the other hidden door"
   ]
  },
  {
   "cell_type": "code",
   "execution_count": 55,
   "metadata": {},
   "outputs": [],
   "source": [
    "games = Table(['Guess', 'Revealed', 'Remaining'])"
   ]
  },
  {
   "cell_type": "code",
   "execution_count": null,
   "metadata": {},
   "outputs": [],
   "source": []
  },
  {
   "cell_type": "markdown",
   "metadata": {},
   "source": [
    "### How could we see what remains for each guess?\n",
    "what metho dshould we call on the table?"
   ]
  },
  {
   "cell_type": "code",
   "execution_count": null,
   "metadata": {},
   "outputs": [],
   "source": []
  },
  {
   "cell_type": "markdown",
   "metadata": {},
   "source": [
    "Let's group on the remaining to decide if we should change?"
   ]
  },
  {
   "cell_type": "code",
   "execution_count": null,
   "metadata": {},
   "outputs": [],
   "source": []
  },
  {
   "cell_type": "code",
   "execution_count": null,
   "metadata": {},
   "outputs": [],
   "source": [
    "# Initialize Otter\n",
    "import otter\n",
    "grader = otter.Notebook()\n",
    "grader.export(\"Lecture_9_completed.ipynb\", pdf=False)"
   ]
  }
 ],
 "metadata": {
  "kernelspec": {
   "display_name": "Python 3",
   "language": "python",
   "name": "python3"
  },
  "language_info": {
   "codemirror_mode": {
    "name": "ipython",
    "version": 3
   },
   "file_extension": ".py",
   "mimetype": "text/x-python",
   "name": "python",
   "nbconvert_exporter": "python",
   "pygments_lexer": "ipython3",
   "version": "3.8.3"
  }
 },
 "nbformat": 4,
 "nbformat_minor": 4
}
