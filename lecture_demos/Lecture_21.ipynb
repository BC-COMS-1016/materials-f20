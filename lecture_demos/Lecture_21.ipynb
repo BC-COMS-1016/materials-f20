{
 "cells": [
  {
   "cell_type": "code",
   "execution_count": null,
   "metadata": {},
   "outputs": [],
   "source": [
    "from datascience import *\n",
    "import numpy as np\n",
    "\n",
    "%matplotlib inline\n",
    "import matplotlib.pyplot as plots\n",
    "plots.style.use('fivethirtyeight')"
   ]
  },
  {
   "cell_type": "markdown",
   "metadata": {},
   "source": [
    "\n",
    "# Linear Regression"
   ]
  },
  {
   "cell_type": "code",
   "execution_count": null,
   "metadata": {},
   "outputs": [],
   "source": [
    "r = 0.6\n",
    "x_demo = np.random.normal(0, 1, 10000)\n",
    "z_demo = np.random.normal(0, 1, 10000)\n",
    "y_demo = r*x_demo + np.sqrt(1 - r**2)*z_demo"
   ]
  },
  {
   "cell_type": "code",
   "execution_count": null,
   "metadata": {},
   "outputs": [],
   "source": [
    "def trial_line():\n",
    "    plots.figure(figsize=(7,7))\n",
    "    plots.xlim(-4, 4)\n",
    "    plots.ylim(-4, 4)\n",
    "    plots.scatter(x_demo, y_demo, s=10)\n",
    "    #plots.plot([-4, 4], [-4*0.6,4*0.6], color='g', lw=2)\n",
    "    plots.plot([-4,4],[-4,4], color='r', lw=2)\n",
    "    #plots.plot([1.5,1.5], [-4,4], color='k', lw=2)\n",
    "    plots.xlabel('x in standard units')\n",
    "    plots.ylabel('y in standard units');"
   ]
  },
  {
   "cell_type": "code",
   "execution_count": null,
   "metadata": {},
   "outputs": [],
   "source": [
    "def trial_with_vertical():\n",
    "    trial_line()\n",
    "    plots.plot([1.5,1.5], [-4,4], color='k', lw=2)"
   ]
  },
  {
   "cell_type": "code",
   "execution_count": null,
   "metadata": {},
   "outputs": [],
   "source": [
    "def both_with_vertical():\n",
    "    trial_line()\n",
    "    plots.plot([1.5,1.5], [-4,4], color='k', lw=2)\n",
    "    plots.plot([-4, 4], [-4*0.6,4*0.6], color='g', lw=2)"
   ]
  },
  {
   "cell_type": "code",
   "execution_count": null,
   "metadata": {},
   "outputs": [],
   "source": [
    "def regression_line(r):\n",
    "    x = np.random.normal(0, 1, 10000)\n",
    "    z = np.random.normal(0, 1, 10000)\n",
    "    y = r*x + (np.sqrt(1-r**2))*z\n",
    "    plots.figure(figsize=(7, 7))\n",
    "    plots.xlim(-4, 4)\n",
    "    plots.ylim(-4, 4)\n",
    "    plots.scatter(x, y, s=10)\n",
    "    plots.plot([-4, 4], [-4*r,4*r], color='g', lw=2)\n",
    "    if r >= 0:\n",
    "        plots.plot([-4,4],[-4,4], lw=2, color='r')\n",
    "    else:\n",
    "        plots.plot([-4,4], [4,-4], lw=2, color='r')"
   ]
  },
  {
   "cell_type": "markdown",
   "metadata": {},
   "source": [
    "# Linear Regression\n",
    "\n",
    "**Please run all cells before this cell, including the previous example cells and the import cell at the top of the notebook.**\n",
    "\n"
   ]
  },
  {
   "cell_type": "code",
   "execution_count": null,
   "metadata": {},
   "outputs": [],
   "source": [
    "trial_line()"
   ]
  },
  {
   "cell_type": "markdown",
   "metadata": {},
   "source": [
    "**Question:** Should we use this red line as our prediction line?"
   ]
  },
  {
   "cell_type": "markdown",
   "metadata": {},
   "source": [
    "**Question:** Is this line the center for the y-values for each x-value?"
   ]
  },
  {
   "cell_type": "markdown",
   "metadata": {},
   "source": [
    "To answer this lets look at x-2. What is the cetner of y-values there and what would our prediction for y be?\n",
    "<br> The next line in python will show this"
   ]
  },
  {
   "cell_type": "code",
   "execution_count": null,
   "metadata": {},
   "outputs": [],
   "source": [
    "trial_with_vertical()"
   ]
  },
  {
   "cell_type": "markdown",
   "metadata": {},
   "source": [
    "**Question**: How should we change our line?\n",
    "    <details>\n",
    "<summary>Solution</summary>\n",
    "  Let's flatten the line. The next line of code will do this\n",
    "</details>"
   ]
  },
  {
   "cell_type": "code",
   "execution_count": null,
   "metadata": {},
   "outputs": [],
   "source": [
    "both_with_vertical()"
   ]
  },
  {
   "cell_type": "markdown",
   "metadata": {},
   "source": [
    "**Question:** What is the slope of the new line?\n",
    "\n",
    "<details>\n",
    "<summary>Solution</summary>\n",
    "  Something between 0 and 1. \n",
    "    \n",
    "</details>"
   ]
  },
  {
   "cell_type": "markdown",
   "metadata": {},
   "source": [
    "**Question**: What exactly is the slope of this line?\n",
    "<details>\n",
    "<summary>Solution</summary>\n",
    "  It is the correlation between these two variables? \n",
    "    \n",
    "  Looking at the graph, we can see that for *n*-standard units of x, we should pick less than *n*-standard units of y \n",
    "    \n",
    "  Pearson's and Galton's observation is that the slope of the prediction line is equal to the correlation\n",
    "    \n",
    "</details>"
   ]
  },
  {
   "cell_type": "markdown",
   "metadata": {},
   "source": [
    "### Examples\n",
    "\n",
    "Let's try different *r* values and see what happens in the figure"
   ]
  },
  {
   "cell_type": "code",
   "execution_count": null,
   "metadata": {},
   "outputs": [],
   "source": [
    "r = 0.6\n",
    "regression_line(r)"
   ]
  },
  {
   "cell_type": "markdown",
   "metadata": {},
   "source": [
    "(back to slides)\n",
    "\n",
    "# Equation of Regression Line"
   ]
  },
  {
   "cell_type": "code",
   "execution_count": null,
   "metadata": {},
   "outputs": [],
   "source": [
    "def standard_units(x):\n",
    "    return (x - np.average(x))/np.std(x)\n",
    "\n",
    "def correlation(t, x, y):\n",
    "    x_su = standard_units(t.column(x))\n",
    "    y_su = standard_units(t.column(y))\n",
    "    return np.average(x_su * y_su)\n",
    "\n",
    "def slope(t, x, y):\n",
    "    r = correlation(t, x, y)\n",
    "    return r * np.std(t.column(y))/np.std(t.column(x))\n",
    "\n",
    "def intercept(t, x, y):\n",
    "    a = slope(t, x, y)\n",
    "    return np.average(t.column(y)) - a*np.average(t.column(x))"
   ]
  },
  {
   "cell_type": "code",
   "execution_count": null,
   "metadata": {},
   "outputs": [],
   "source": [
    "galton = Table.read_table('galton.csv')\n",
    "\n",
    "heights = Table().with_columns(\n",
    "    'MidParent', galton.column('midparentHeight'),\n",
    "    'Child', galton.column('childHeight'))\n",
    "heights"
   ]
  },
  {
   "cell_type": "code",
   "execution_count": null,
   "metadata": {},
   "outputs": [],
   "source": [
    "galton_slope = slope(heights, 'MidParent', 'Child')\n",
    "galton_intercept = intercept(heights, 'MidParent', 'Child')\n",
    "galton_slope, galton_intercept"
   ]
  },
  {
   "cell_type": "markdown",
   "metadata": {},
   "source": [
    "**Question:** For a given midParent height of 68.3 inches, what will the predicted children's height be?\n",
    "\n",
    "\n",
    "<details>\n",
    "<summary>Solution</summary>\n",
    "  galton_slope * 68.3 + galton_intercept\n",
    "</details>\n",
    "\n"
   ]
  },
  {
   "cell_type": "code",
   "execution_count": null,
   "metadata": {},
   "outputs": [],
   "source": [
    "# answer in python here"
   ]
  },
  {
   "cell_type": "markdown",
   "metadata": {},
   "source": [
    "**Question**: Implement the function fitted_values below:\n",
    "        \n",
    "<details>\n",
    "<summary>Solution</summary>\n",
    "      a = slope(t, x, y)\n",
    "    b = intercept(t, x, y)\n",
    "    return a * t.column(x) + b\n",
    "</details>\n"
   ]
  },
  {
   "cell_type": "code",
   "execution_count": null,
   "metadata": {},
   "outputs": [],
   "source": [
    "def fitted_values(t, x, y):\n",
    "    a = ...\n",
    "    b = ...\n",
    "    return ..."
   ]
  },
  {
   "cell_type": "markdown",
   "metadata": {},
   "source": [
    "Now lets use this function to make predictions and plot the regression prediction in a scatter plot"
   ]
  },
  {
   "cell_type": "code",
   "execution_count": null,
   "metadata": {},
   "outputs": [],
   "source": [
    "regression_predictions = fitted_values(heights, 'MidParent', 'Child')\n",
    "heights = heights.with_column(\n",
    "    'Regression Prediction', regression_predictions\n",
    ")\n",
    "heights.scatter('MidParent')"
   ]
  },
  {
   "cell_type": "markdown",
   "metadata": {},
   "source": [
    "(back to slides)\n",
    "\n",
    "# Root Mean Squared Error"
   ]
  },
  {
   "cell_type": "code",
   "execution_count": null,
   "metadata": {},
   "outputs": [],
   "source": [
    "little_women = Table().read_table('https://www.inferentialthinking.com/data/little_women.csv')\n",
    "little_women"
   ]
  },
  {
   "cell_type": "code",
   "execution_count": null,
   "metadata": {},
   "outputs": [],
   "source": [
    "little_women.scatter(1,0)"
   ]
  },
  {
   "cell_type": "markdown",
   "metadata": {},
   "source": [
    "**Question:** Do we think there is a linear association here?"
   ]
  },
  {
   "cell_type": "markdown",
   "metadata": {},
   "source": [
    "**Question:** Let's compute the correlation"
   ]
  },
  {
   "cell_type": "code",
   "execution_count": null,
   "metadata": {},
   "outputs": [],
   "source": [
    "correlation(little_women, 1, 0)"
   ]
  },
  {
   "cell_type": "markdown",
   "metadata": {},
   "source": [
    "Now lets predict the number of characters based on the number of periods in a chapter"
   ]
  },
  {
   "cell_type": "code",
   "execution_count": null,
   "metadata": {},
   "outputs": [],
   "source": [
    "pred_characters = ...\n",
    "pred_characters "
   ]
  },
  {
   "cell_type": "code",
   "execution_count": null,
   "metadata": {},
   "outputs": [],
   "source": [
    "little_women_fitted = little_women.with_columns(\"fitted\", pred_characters)\n",
    "little_women_fitted.hist() # What does this histogram mean? \n",
    "# Then lets uncomment the next line to look at the scatter of the predictions\n",
    "#little_women_fitted.scatter(1)"
   ]
  },
  {
   "cell_type": "markdown",
   "metadata": {},
   "source": [
    "## Squared Error"
   ]
  },
  {
   "cell_type": "markdown",
   "metadata": {},
   "source": [
    "This function will draw a line with a specified slope and intercept and will draw red lines showing the errors"
   ]
  },
  {
   "cell_type": "code",
   "execution_count": null,
   "metadata": {},
   "outputs": [],
   "source": [
    "sample = [[131, 14431], [231, 20558], [392, 40935], [157, 23524]]\n",
    "def lw_errors(slope, intercept):\n",
    "    print(\"Slope:      \", np.round(slope), 'characters per period')\n",
    "    print(\"Intercept:  \", np.round(intercept), 'characters')\n",
    "    little_women.scatter('Periods', 'Characters')\n",
    "    xlims = np.array([50, 450])\n",
    "    plots.plot(xlims, slope * xlims + intercept, lw=2)\n",
    "    for x,y in sample:\n",
    "        plots.plot([x, x], [y, slope * x + intercept], color='r', lw=2)"
   ]
  },
  {
   "cell_type": "code",
   "execution_count": null,
   "metadata": {},
   "outputs": [],
   "source": [
    "lw_errors(50, 1000)"
   ]
  },
  {
   "cell_type": "markdown",
   "metadata": {},
   "source": [
    "Let's try it with more slopes and intercepts"
   ]
  },
  {
   "cell_type": "code",
   "execution_count": null,
   "metadata": {},
   "outputs": [],
   "source": [
    "lw_errors(70, 1000)"
   ]
  },
  {
   "cell_type": "markdown",
   "metadata": {},
   "source": [
    "Lets make a line that goes through part of the scatter diagram"
   ]
  },
  {
   "cell_type": "code",
   "execution_count": null,
   "metadata": {},
   "outputs": [],
   "source": []
  },
  {
   "cell_type": "markdown",
   "metadata": {},
   "source": [
    "Now let's compute the root mean square error for the differnt lines we just considered"
   ]
  },
  {
   "cell_type": "code",
   "execution_count": null,
   "metadata": {},
   "outputs": [],
   "source": [
    "def lw_rmse(slope, intercept):\n",
    "    lw_errors(slope, intercept)\n",
    "    x = little_women.column('Periods')\n",
    "    y = little_women.column('Characters')\n",
    "    prediction = slope * x + intercept\n",
    "    mse = np.mean((y - prediction) ** 2)\n",
    "    print(\"Root mean squared error:\", round(mse ** 0.5, 2))"
   ]
  },
  {
   "cell_type": "code",
   "execution_count": null,
   "metadata": {},
   "outputs": [],
   "source": [
    "lw_rmse(, )"
   ]
  },
  {
   "cell_type": "code",
   "execution_count": null,
   "metadata": {},
   "outputs": [],
   "source": [
    "lw_rmse(, )"
   ]
  },
  {
   "cell_type": "code",
   "execution_count": null,
   "metadata": {},
   "outputs": [],
   "source": [
    "lw_rmse(, )"
   ]
  },
  {
   "cell_type": "code",
   "execution_count": null,
   "metadata": {},
   "outputs": [],
   "source": [
    "lw_rmse(, )"
   ]
  },
  {
   "cell_type": "markdown",
   "metadata": {},
   "source": [
    "Let's comput the rmse for the regression line \n",
    "\n",
    "<details>\n",
    "<summary>Solution</summary>\n",
    "  lw_rmse(slope(little_women, 1, 0), intercept(little_women, 1, 0))\n",
    "</details>"
   ]
  },
  {
   "cell_type": "code",
   "execution_count": null,
   "metadata": {},
   "outputs": [],
   "source": [
    "lw_rmse( , )"
   ]
  },
  {
   "cell_type": "markdown",
   "metadata": {},
   "source": [
    "The regression line is the line that minimzies the root mean squared error."
   ]
  },
  {
   "cell_type": "markdown",
   "metadata": {},
   "source": [
    "(back to slides)\n",
    "# Least Squares"
   ]
  },
  {
   "cell_type": "code",
   "execution_count": null,
   "metadata": {},
   "outputs": [],
   "source": [
    "x = np.arange(1, 3, 0.1)\n",
    "y = (x-2)**2 + 3\n",
    "Table().with_columns('x', x, 'y', y).plot('x')"
   ]
  },
  {
   "cell_type": "code",
   "execution_count": null,
   "metadata": {},
   "outputs": [],
   "source": [
    "def f(x):\n",
    "    return ((x-2)**2) + 3"
   ]
  },
  {
   "cell_type": "markdown",
   "metadata": {},
   "source": [
    "What x-value gives us the smalles y-value?"
   ]
  },
  {
   "cell_type": "code",
   "execution_count": null,
   "metadata": {},
   "outputs": [],
   "source": [
    "minimize(f)"
   ]
  },
  {
   "cell_type": "code",
   "execution_count": null,
   "metadata": {},
   "outputs": [],
   "source": [
    "x = np.arange(-1.5, 1.5, 0.05)\n",
    "y2 = 2 * np.sin(x*np.pi) + x ** 3 + x ** 4 \n",
    "Table().with_columns('x', x, 'y', y2).plot('x')"
   ]
  },
  {
   "cell_type": "code",
   "execution_count": null,
   "metadata": {},
   "outputs": [],
   "source": [
    "def complicated_function(x):\n",
    "    return 2 * np.sin(x*np.pi) + x ** 3 + x ** 4"
   ]
  },
  {
   "cell_type": "markdown",
   "metadata": {},
   "source": [
    "What x-value gives us the smalles y-value?"
   ]
  },
  {
   "cell_type": "code",
   "execution_count": null,
   "metadata": {},
   "outputs": [],
   "source": [
    "minimize(complicated_function)"
   ]
  },
  {
   "cell_type": "markdown",
   "metadata": {},
   "source": [
    "(back to slides)\n",
    "# Minimizing MSE\n"
   ]
  },
  {
   "cell_type": "code",
   "execution_count": null,
   "metadata": {},
   "outputs": [],
   "source": [
    "def lw_mse(any_slope, any_intercept):\n",
    "    x = little_women.column('Periods')\n",
    "    y = little_women.column('Characters')\n",
    "    estimate = any_slope*x + any_intercept\n",
    "    return (np.mean((y - estimate) ** 2)) "
   ]
  },
  {
   "cell_type": "code",
   "execution_count": null,
   "metadata": {},
   "outputs": [],
   "source": [
    "lw_rmse(1500, 20000), lw_mse(1500, 20000)"
   ]
  },
  {
   "cell_type": "code",
   "execution_count": null,
   "metadata": {},
   "outputs": [],
   "source": [
    "minimize(lw_mse)"
   ]
  },
  {
   "cell_type": "markdown",
   "metadata": {},
   "source": [
    "(back to slides)\n",
    "# Residuals \n",
    "\n",
    "Let's make a new function called residuals"
   ]
  },
  {
   "cell_type": "code",
   "execution_count": null,
   "metadata": {},
   "outputs": [],
   "source": [
    "def residuals(t, x, y):\n",
    "    \"\"\" Returns residual for each prediction, \n",
    "        i.e. the difference between the true y and predicted y\"\"\"\n",
    "    predictions = ...\n",
    "    return t.column(y) - predictions"
   ]
  },
  {
   "cell_type": "code",
   "execution_count": null,
   "metadata": {},
   "outputs": [],
   "source": [
    "residuals(little_women, \"Periods\", \"Characters\")"
   ]
  },
  {
   "cell_type": "markdown",
   "metadata": {},
   "source": [
    "Let's add residuals to a table and plot the table\n",
    "    <details>\n",
    "<summary>Solution</summary>\n",
    "  little_women_fitted.with_columns('residuals', residuals(little_women, \"Periods\", \"Characters\")).scatter('Periods')\n",
    "</details>"
   ]
  },
  {
   "cell_type": "code",
   "execution_count": null,
   "metadata": {},
   "outputs": [],
   "source": [
    "  little_women_fitted.with_columns('residuals', residuals(little_women, \"Periods\", \"Characters\")).scatter('Periods')"
   ]
  },
  {
   "cell_type": "markdown",
   "metadata": {},
   "source": [
    "**Question:** Why are the residuals on the bottom?\n",
    "        <details>\n",
    "<summary>Solution</summary>\n",
    "  Becuase residuals show the difference between the prediction and the true value\n",
    "</details>\n",
    "\n",
    "Let's plot the residuals and the predictions seperately"
   ]
  },
  {
   "cell_type": "code",
   "execution_count": null,
   "metadata": {},
   "outputs": [],
   "source": [
    "def plot_residuals(t, x, y):\n",
    "    with_residuals = t.with_columns(\n",
    "        \"Fitted\", fitted_values(t, x, y),\n",
    "        \"Residual\", residuals(t, x, y)/ 1000 # I did this division just for this example\n",
    "    )\n",
    "    with_residuals.select(x, y, 'Fitted').scatter(0)\n",
    "    with_residuals.scatter(x, 'Residual')"
   ]
  },
  {
   "cell_type": "code",
   "execution_count": null,
   "metadata": {
    "scrolled": true
   },
   "outputs": [],
   "source": [
    "plot_residuals(little_women, \"Periods\", \"Characters\")"
   ]
  },
  {
   "cell_type": "markdown",
   "metadata": {},
   "source": [
    "We see the residuals clustered around 0. This makes sense because the data is correlated"
   ]
  },
  {
   "cell_type": "markdown",
   "metadata": {},
   "source": [
    "(back to demo)\n",
    "# Nonlinear Regression\n",
    "\n",
    "We will look at two examples\n"
   ]
  },
  {
   "cell_type": "code",
   "execution_count": null,
   "metadata": {},
   "outputs": [],
   "source": [
    "shotput = Table.read_table('shotput.csv')\n",
    "shotput"
   ]
  },
  {
   "cell_type": "code",
   "execution_count": null,
   "metadata": {},
   "outputs": [],
   "source": [
    "correlation(shotput, \"Weight Lifted\", \"Shot Put Distance\")"
   ]
  },
  {
   "cell_type": "code",
   "execution_count": null,
   "metadata": {},
   "outputs": [],
   "source": [
    "shotput.scatter('Weight Lifted')"
   ]
  },
  {
   "cell_type": "markdown",
   "metadata": {},
   "source": [
    "**Question**: Is the association linear?"
   ]
  },
  {
   "cell_type": "code",
   "execution_count": null,
   "metadata": {},
   "outputs": [],
   "source": [
    "plot_residuals(shotput, \"Weight Lifted\", \"Shot Put Distance\")"
   ]
  },
  {
   "cell_type": "markdown",
   "metadata": {},
   "source": [
    "Let's look at another example"
   ]
  },
  {
   "cell_type": "code",
   "execution_count": null,
   "metadata": {},
   "outputs": [],
   "source": [
    "height_weight = Table.read_table('us_women.csv')\n",
    "height_weight"
   ]
  },
  {
   "cell_type": "markdown",
   "metadata": {},
   "source": [
    "**Question**: Is the association linear?"
   ]
  },
  {
   "cell_type": "code",
   "execution_count": null,
   "metadata": {},
   "outputs": [],
   "source": [
    "correlation(height_weight, 'height', 'ave weight')"
   ]
  },
  {
   "cell_type": "code",
   "execution_count": null,
   "metadata": {},
   "outputs": [],
   "source": [
    "plot_residuals(height_weight, 'height', \"ave weight\")"
   ]
  },
  {
   "cell_type": "markdown",
   "metadata": {},
   "source": [
    "(back to slides) \n",
    "# A Measure of cluster"
   ]
  },
  {
   "cell_type": "code",
   "execution_count": null,
   "metadata": {},
   "outputs": [],
   "source": [
    "def plot_fitted(t, x, y):\n",
    "    tbl = t.select(x, y)\n",
    "    tbl.with_columns('Fitted Value', fitted_values(t, x, y)).scatter(0)"
   ]
  },
  {
   "cell_type": "code",
   "execution_count": null,
   "metadata": {},
   "outputs": [],
   "source": [
    "plot_fitted(height_weight, 'height', \"ave weight\")"
   ]
  },
  {
   "cell_type": "code",
   "execution_count": null,
   "metadata": {},
   "outputs": [],
   "source": [
    "weight_pred_sd = np.std(fitted_values(height_weight, 'height', 'ave weight'))\n",
    "weight_observed_sd = np.std(height_weight.column('ave weight'))\n",
    "print(weight_pred_sd)\n",
    "print(weight_observed_sd)"
   ]
  },
  {
   "cell_type": "code",
   "execution_count": null,
   "metadata": {},
   "outputs": [],
   "source": [
    "weight_pred_sd / weight_observed_sd"
   ]
  },
  {
   "cell_type": "code",
   "execution_count": null,
   "metadata": {},
   "outputs": [],
   "source": [
    "correlation(height_weight, 'height', 'ave weight')"
   ]
  },
  {
   "cell_type": "code",
   "execution_count": null,
   "metadata": {},
   "outputs": [],
   "source": []
  }
 ],
 "metadata": {
  "kernelspec": {
   "display_name": "bc-coms-1016",
   "language": "python",
   "name": "bc-coms-1016"
  },
  "language_info": {
   "codemirror_mode": {
    "name": "ipython",
    "version": 3
   },
   "file_extension": ".py",
   "mimetype": "text/x-python",
   "name": "python",
   "nbconvert_exporter": "python",
   "pygments_lexer": "ipython3",
   "version": "3.8.5"
  }
 },
 "nbformat": 4,
 "nbformat_minor": 4
}
