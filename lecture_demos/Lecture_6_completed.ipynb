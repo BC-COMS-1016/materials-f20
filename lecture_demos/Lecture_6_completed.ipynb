{
 "cells": [
  {
   "cell_type": "code",
   "execution_count": 1,
   "metadata": {},
   "outputs": [],
   "source": [
    "from datascience import *\n",
    "import numpy as np\n",
    "\n",
    "%matplotlib inline\n",
    "import matplotlib.pyplot as plots\n",
    "plots.style.use('fivethirtyeight')"
   ]
  },
  {
   "cell_type": "markdown",
   "metadata": {},
   "source": [
    "## Bar Charts ##"
   ]
  },
  {
   "cell_type": "code",
   "execution_count": 3,
   "metadata": {},
   "outputs": [
    {
     "data": {
      "text/html": [
       "<table border=\"1\" class=\"dataframe\">\n",
       "    <thead>\n",
       "        <tr>\n",
       "            <th>Title</th> <th>Studio</th> <th>Gross</th> <th>Gross (Adjusted)</th> <th>Year</th>\n",
       "        </tr>\n",
       "    </thead>\n",
       "    <tbody>\n",
       "        <tr>\n",
       "            <td>Gone with the Wind              </td> <td>MGM            </td> <td>198676459</td> <td>1796176700      </td> <td>1939</td>\n",
       "        </tr>\n",
       "        <tr>\n",
       "            <td>Star Wars                       </td> <td>Fox            </td> <td>460998007</td> <td>1583483200      </td> <td>1977</td>\n",
       "        </tr>\n",
       "        <tr>\n",
       "            <td>The Sound of Music              </td> <td>Fox            </td> <td>158671368</td> <td>1266072700      </td> <td>1965</td>\n",
       "        </tr>\n",
       "        <tr>\n",
       "            <td>E.T.: The Extra-Terrestrial     </td> <td>Universal      </td> <td>435110554</td> <td>1261085000      </td> <td>1982</td>\n",
       "        </tr>\n",
       "        <tr>\n",
       "            <td>Titanic                         </td> <td>Paramount      </td> <td>658672302</td> <td>1204368000      </td> <td>1997</td>\n",
       "        </tr>\n",
       "        <tr>\n",
       "            <td>The Ten Commandments            </td> <td>Paramount      </td> <td>65500000 </td> <td>1164590000      </td> <td>1956</td>\n",
       "        </tr>\n",
       "        <tr>\n",
       "            <td>Jaws                            </td> <td>Universal      </td> <td>260000000</td> <td>1138620700      </td> <td>1975</td>\n",
       "        </tr>\n",
       "        <tr>\n",
       "            <td>Doctor Zhivago                  </td> <td>MGM            </td> <td>111721910</td> <td>1103564200      </td> <td>1965</td>\n",
       "        </tr>\n",
       "        <tr>\n",
       "            <td>The Exorcist                    </td> <td>Warner Brothers</td> <td>232906145</td> <td>983226600       </td> <td>1973</td>\n",
       "        </tr>\n",
       "        <tr>\n",
       "            <td>Snow White and the Seven Dwarves</td> <td>Disney         </td> <td>184925486</td> <td>969010000       </td> <td>1937</td>\n",
       "        </tr>\n",
       "    </tbody>\n",
       "</table>\n",
       "<p>... (190 rows omitted)</p>"
      ],
      "text/plain": [
       "Title                            | Studio          | Gross     | Gross (Adjusted) | Year\n",
       "Gone with the Wind               | MGM             | 198676459 | 1796176700       | 1939\n",
       "Star Wars                        | Fox             | 460998007 | 1583483200       | 1977\n",
       "The Sound of Music               | Fox             | 158671368 | 1266072700       | 1965\n",
       "E.T.: The Extra-Terrestrial      | Universal       | 435110554 | 1261085000       | 1982\n",
       "Titanic                          | Paramount       | 658672302 | 1204368000       | 1997\n",
       "The Ten Commandments             | Paramount       | 65500000  | 1164590000       | 1956\n",
       "Jaws                             | Universal       | 260000000 | 1138620700       | 1975\n",
       "Doctor Zhivago                   | MGM             | 111721910 | 1103564200       | 1965\n",
       "The Exorcist                     | Warner Brothers | 232906145 | 983226600        | 1973\n",
       "Snow White and the Seven Dwarves | Disney          | 184925486 | 969010000        | 1937\n",
       "... (190 rows omitted)"
      ]
     },
     "execution_count": 3,
     "metadata": {},
     "output_type": "execute_result"
    }
   ],
   "source": [
    "# Highest grossing movies as of 2017\n",
    "# Read in table called 'top_movies_2017.csv'\n",
    "top_movies = Table.read_table('top_movies_2017.csv')\n",
    "top_movies"
   ]
  },
  {
   "cell_type": "code",
   "execution_count": 3,
   "metadata": {},
   "outputs": [
    {
     "data": {
      "text/html": [
       "<table border=\"1\" class=\"dataframe\">\n",
       "    <thead>\n",
       "        <tr>\n",
       "            <th>Title</th> <th>Studio</th> <th>Gross</th> <th>Gross (Adjusted)</th> <th>Year</th>\n",
       "        </tr>\n",
       "    </thead>\n",
       "    <tbody>\n",
       "        <tr>\n",
       "            <td>Gone with the Wind              </td> <td>MGM            </td> <td>198676459</td> <td>1796176700      </td> <td>1939</td>\n",
       "        </tr>\n",
       "        <tr>\n",
       "            <td>Star Wars                       </td> <td>Fox            </td> <td>460998007</td> <td>1583483200      </td> <td>1977</td>\n",
       "        </tr>\n",
       "        <tr>\n",
       "            <td>The Sound of Music              </td> <td>Fox            </td> <td>158671368</td> <td>1266072700      </td> <td>1965</td>\n",
       "        </tr>\n",
       "        <tr>\n",
       "            <td>E.T.: The Extra-Terrestrial     </td> <td>Universal      </td> <td>435110554</td> <td>1261085000      </td> <td>1982</td>\n",
       "        </tr>\n",
       "        <tr>\n",
       "            <td>Titanic                         </td> <td>Paramount      </td> <td>658672302</td> <td>1204368000      </td> <td>1997</td>\n",
       "        </tr>\n",
       "        <tr>\n",
       "            <td>The Ten Commandments            </td> <td>Paramount      </td> <td>65500000 </td> <td>1164590000      </td> <td>1956</td>\n",
       "        </tr>\n",
       "        <tr>\n",
       "            <td>Jaws                            </td> <td>Universal      </td> <td>260000000</td> <td>1138620700      </td> <td>1975</td>\n",
       "        </tr>\n",
       "        <tr>\n",
       "            <td>Doctor Zhivago                  </td> <td>MGM            </td> <td>111721910</td> <td>1103564200      </td> <td>1965</td>\n",
       "        </tr>\n",
       "        <tr>\n",
       "            <td>The Exorcist                    </td> <td>Warner Brothers</td> <td>232906145</td> <td>983226600       </td> <td>1973</td>\n",
       "        </tr>\n",
       "        <tr>\n",
       "            <td>Snow White and the Seven Dwarves</td> <td>Disney         </td> <td>184925486</td> <td>969010000       </td> <td>1937</td>\n",
       "        </tr>\n",
       "    </tbody>\n",
       "</table>"
      ],
      "text/plain": [
       "Title                            | Studio          | Gross     | Gross (Adjusted) | Year\n",
       "Gone with the Wind               | MGM             | 198676459 | 1796176700       | 1939\n",
       "Star Wars                        | Fox             | 460998007 | 1583483200       | 1977\n",
       "The Sound of Music               | Fox             | 158671368 | 1266072700       | 1965\n",
       "E.T.: The Extra-Terrestrial      | Universal       | 435110554 | 1261085000       | 1982\n",
       "Titanic                          | Paramount       | 658672302 | 1204368000       | 1997\n",
       "The Ten Commandments             | Paramount       | 65500000  | 1164590000       | 1956\n",
       "Jaws                             | Universal       | 260000000 | 1138620700       | 1975\n",
       "Doctor Zhivago                   | MGM             | 111721910 | 1103564200       | 1965\n",
       "The Exorcist                     | Warner Brothers | 232906145 | 983226600        | 1973\n",
       "Snow White and the Seven Dwarves | Disney          | 184925486 | 969010000        | 1937"
      ]
     },
     "execution_count": 3,
     "metadata": {},
     "output_type": "execute_result"
    }
   ],
   "source": [
    "top10_adjusted = top_movies.take(np.arange(10))\n",
    "top10_adjusted"
   ]
  },
  {
   "cell_type": "code",
   "execution_count": 4,
   "metadata": {},
   "outputs": [
    {
     "data": {
      "text/html": [
       "<table border=\"1\" class=\"dataframe\">\n",
       "    <thead>\n",
       "        <tr>\n",
       "            <th>Title</th> <th>Studio</th> <th>Gross</th> <th>Gross (Adjusted)</th> <th>Year</th> <th>Millions</th>\n",
       "        </tr>\n",
       "    </thead>\n",
       "    <tbody>\n",
       "        <tr>\n",
       "            <td>Gone with the Wind              </td> <td>MGM            </td> <td>198676459</td> <td>1796176700      </td> <td>1939</td> <td>1796.18 </td>\n",
       "        </tr>\n",
       "        <tr>\n",
       "            <td>Star Wars                       </td> <td>Fox            </td> <td>460998007</td> <td>1583483200      </td> <td>1977</td> <td>1583.48 </td>\n",
       "        </tr>\n",
       "        <tr>\n",
       "            <td>The Sound of Music              </td> <td>Fox            </td> <td>158671368</td> <td>1266072700      </td> <td>1965</td> <td>1266.07 </td>\n",
       "        </tr>\n",
       "        <tr>\n",
       "            <td>E.T.: The Extra-Terrestrial     </td> <td>Universal      </td> <td>435110554</td> <td>1261085000      </td> <td>1982</td> <td>1261.09 </td>\n",
       "        </tr>\n",
       "        <tr>\n",
       "            <td>Titanic                         </td> <td>Paramount      </td> <td>658672302</td> <td>1204368000      </td> <td>1997</td> <td>1204.37 </td>\n",
       "        </tr>\n",
       "        <tr>\n",
       "            <td>The Ten Commandments            </td> <td>Paramount      </td> <td>65500000 </td> <td>1164590000      </td> <td>1956</td> <td>1164.59 </td>\n",
       "        </tr>\n",
       "        <tr>\n",
       "            <td>Jaws                            </td> <td>Universal      </td> <td>260000000</td> <td>1138620700      </td> <td>1975</td> <td>1138.62 </td>\n",
       "        </tr>\n",
       "        <tr>\n",
       "            <td>Doctor Zhivago                  </td> <td>MGM            </td> <td>111721910</td> <td>1103564200      </td> <td>1965</td> <td>1103.56 </td>\n",
       "        </tr>\n",
       "        <tr>\n",
       "            <td>The Exorcist                    </td> <td>Warner Brothers</td> <td>232906145</td> <td>983226600       </td> <td>1973</td> <td>983.227 </td>\n",
       "        </tr>\n",
       "        <tr>\n",
       "            <td>Snow White and the Seven Dwarves</td> <td>Disney         </td> <td>184925486</td> <td>969010000       </td> <td>1937</td> <td>969.01  </td>\n",
       "        </tr>\n",
       "    </tbody>\n",
       "</table>"
      ],
      "text/plain": [
       "Title                            | Studio          | Gross     | Gross (Adjusted) | Year | Millions\n",
       "Gone with the Wind               | MGM             | 198676459 | 1796176700       | 1939 | 1796.18\n",
       "Star Wars                        | Fox             | 460998007 | 1583483200       | 1977 | 1583.48\n",
       "The Sound of Music               | Fox             | 158671368 | 1266072700       | 1965 | 1266.07\n",
       "E.T.: The Extra-Terrestrial      | Universal       | 435110554 | 1261085000       | 1982 | 1261.09\n",
       "Titanic                          | Paramount       | 658672302 | 1204368000       | 1997 | 1204.37\n",
       "The Ten Commandments             | Paramount       | 65500000  | 1164590000       | 1956 | 1164.59\n",
       "Jaws                             | Universal       | 260000000 | 1138620700       | 1975 | 1138.62\n",
       "Doctor Zhivago                   | MGM             | 111721910 | 1103564200       | 1965 | 1103.56\n",
       "The Exorcist                     | Warner Brothers | 232906145 | 983226600        | 1973 | 983.227\n",
       "Snow White and the Seven Dwarves | Disney          | 184925486 | 969010000        | 1937 | 969.01"
      ]
     },
     "execution_count": 4,
     "metadata": {},
     "output_type": "execute_result"
    }
   ],
   "source": [
    "# Convert Gross (Adjusted) to millions of dollars for readability\n",
    "millions = top10_adjusted.column('Gross (Adjusted)') / 1000000\n",
    "top10_adjusted = top10_adjusted.with_column('Millions', millions)\n",
    "top10_adjusted"
   ]
  },
  {
   "cell_type": "code",
   "execution_count": 5,
   "metadata": {},
   "outputs": [
    {
     "data": {
      "image/png": "[encoded data removed]",
      "text/plain": [
       "<Figure size 432x360 with 1 Axes>"
      ]
     },
     "metadata": {},
     "output_type": "display_data"
    }
   ],
   "source": [
    "top10_adjusted.barh('Title', 'Millions')"
   ]
  },
  {
   "cell_type": "markdown",
   "metadata": {},
   "source": [
    "### How many movies did each studio produce?"
   ]
  },
  {
   "cell_type": "code",
   "execution_count": 6,
   "metadata": {},
   "outputs": [
    {
     "data": {
      "text/html": [
       "<table border=\"1\" class=\"dataframe\">\n",
       "    <thead>\n",
       "        <tr>\n",
       "            <th>Title</th> <th>Studio</th> <th>Gross</th> <th>Gross (Adjusted)</th> <th>Year</th>\n",
       "        </tr>\n",
       "    </thead>\n",
       "    <tbody>\n",
       "        <tr>\n",
       "            <td>Gone with the Wind              </td> <td>MGM            </td> <td>198676459</td> <td>1796176700      </td> <td>1939</td>\n",
       "        </tr>\n",
       "        <tr>\n",
       "            <td>Star Wars                       </td> <td>Fox            </td> <td>460998007</td> <td>1583483200      </td> <td>1977</td>\n",
       "        </tr>\n",
       "        <tr>\n",
       "            <td>The Sound of Music              </td> <td>Fox            </td> <td>158671368</td> <td>1266072700      </td> <td>1965</td>\n",
       "        </tr>\n",
       "        <tr>\n",
       "            <td>E.T.: The Extra-Terrestrial     </td> <td>Universal      </td> <td>435110554</td> <td>1261085000      </td> <td>1982</td>\n",
       "        </tr>\n",
       "        <tr>\n",
       "            <td>Titanic                         </td> <td>Paramount      </td> <td>658672302</td> <td>1204368000      </td> <td>1997</td>\n",
       "        </tr>\n",
       "        <tr>\n",
       "            <td>The Ten Commandments            </td> <td>Paramount      </td> <td>65500000 </td> <td>1164590000      </td> <td>1956</td>\n",
       "        </tr>\n",
       "        <tr>\n",
       "            <td>Jaws                            </td> <td>Universal      </td> <td>260000000</td> <td>1138620700      </td> <td>1975</td>\n",
       "        </tr>\n",
       "        <tr>\n",
       "            <td>Doctor Zhivago                  </td> <td>MGM            </td> <td>111721910</td> <td>1103564200      </td> <td>1965</td>\n",
       "        </tr>\n",
       "        <tr>\n",
       "            <td>The Exorcist                    </td> <td>Warner Brothers</td> <td>232906145</td> <td>983226600       </td> <td>1973</td>\n",
       "        </tr>\n",
       "        <tr>\n",
       "            <td>Snow White and the Seven Dwarves</td> <td>Disney         </td> <td>184925486</td> <td>969010000       </td> <td>1937</td>\n",
       "        </tr>\n",
       "    </tbody>\n",
       "</table>\n",
       "<p>... (190 rows omitted)</p>"
      ],
      "text/plain": [
       "Title                            | Studio          | Gross     | Gross (Adjusted) | Year\n",
       "Gone with the Wind               | MGM             | 198676459 | 1796176700       | 1939\n",
       "Star Wars                        | Fox             | 460998007 | 1583483200       | 1977\n",
       "The Sound of Music               | Fox             | 158671368 | 1266072700       | 1965\n",
       "E.T.: The Extra-Terrestrial      | Universal       | 435110554 | 1261085000       | 1982\n",
       "Titanic                          | Paramount       | 658672302 | 1204368000       | 1997\n",
       "The Ten Commandments             | Paramount       | 65500000  | 1164590000       | 1956\n",
       "Jaws                             | Universal       | 260000000 | 1138620700       | 1975\n",
       "Doctor Zhivago                   | MGM             | 111721910 | 1103564200       | 1965\n",
       "The Exorcist                     | Warner Brothers | 232906145 | 983226600        | 1973\n",
       "Snow White and the Seven Dwarves | Disney          | 184925486 | 969010000        | 1937\n",
       "... (190 rows omitted)"
      ]
     },
     "execution_count": 6,
     "metadata": {},
     "output_type": "execute_result"
    }
   ],
   "source": [
    "top_movies"
   ]
  },
  {
   "cell_type": "code",
   "execution_count": 8,
   "metadata": {},
   "outputs": [
    {
     "data": {
      "text/plain": [
       "7"
      ]
     },
     "execution_count": 8,
     "metadata": {},
     "output_type": "execute_result"
    }
   ],
   "source": [
    "top_movies.where(\"Studio\", \"MGM\").num_rows"
   ]
  },
  {
   "cell_type": "markdown",
   "metadata": {},
   "source": [
    "##### Method 1: Run lots of manual `where` searches"
   ]
  },
  {
   "cell_type": "code",
   "execution_count": 10,
   "metadata": {},
   "outputs": [
    {
     "name": "stdout",
     "output_type": "stream",
     "text": [
      "7\n",
      "11\n",
      "29\n",
      "23\n"
     ]
    }
   ],
   "source": [
    "# print where and then top rows\n",
    "print(top_movies.where(\"Studio\", \"MGM\").num_rows)\n",
    "print(top_movies.where(\"Studio\", \"Disney\").num_rows)\n",
    "print(top_movies.where(\"Studio\", \"Warner Brothers\").num_rows)\n",
    "print(top_movies.where(\"Studio\", \"Universal\").num_rows)"
   ]
  },
  {
   "cell_type": "markdown",
   "metadata": {},
   "source": [
    "##### Method 2: Automatic group by the column"
   ]
  },
  {
   "cell_type": "code",
   "execution_count": 11,
   "metadata": {},
   "outputs": [
    {
     "data": {
      "text/html": [
       "<table border=\"1\" class=\"dataframe\">\n",
       "    <thead>\n",
       "        <tr>\n",
       "            <th>Studio</th> <th>count</th>\n",
       "        </tr>\n",
       "    </thead>\n",
       "    <tbody>\n",
       "        <tr>\n",
       "            <td>AVCO       </td> <td>1    </td>\n",
       "        </tr>\n",
       "        <tr>\n",
       "            <td>Buena Vista</td> <td>35   </td>\n",
       "        </tr>\n",
       "        <tr>\n",
       "            <td>Columbia   </td> <td>9    </td>\n",
       "        </tr>\n",
       "        <tr>\n",
       "            <td>Disney     </td> <td>11   </td>\n",
       "        </tr>\n",
       "        <tr>\n",
       "            <td>Dreamworks </td> <td>3    </td>\n",
       "        </tr>\n",
       "        <tr>\n",
       "            <td>Fox        </td> <td>24   </td>\n",
       "        </tr>\n",
       "        <tr>\n",
       "            <td>IFC        </td> <td>1    </td>\n",
       "        </tr>\n",
       "        <tr>\n",
       "            <td>Lionsgate  </td> <td>3    </td>\n",
       "        </tr>\n",
       "        <tr>\n",
       "            <td>MGM        </td> <td>7    </td>\n",
       "        </tr>\n",
       "        <tr>\n",
       "            <td>Metro      </td> <td>1    </td>\n",
       "        </tr>\n",
       "    </tbody>\n",
       "</table>\n",
       "<p>... (13 rows omitted)</p>"
      ],
      "text/plain": [
       "Studio      | count\n",
       "AVCO        | 1\n",
       "Buena Vista | 35\n",
       "Columbia    | 9\n",
       "Disney      | 11\n",
       "Dreamworks  | 3\n",
       "Fox         | 24\n",
       "IFC         | 1\n",
       "Lionsgate   | 3\n",
       "MGM         | 7\n",
       "Metro       | 1\n",
       "... (13 rows omitted)"
      ]
     },
     "execution_count": 11,
     "metadata": {},
     "output_type": "execute_result"
    }
   ],
   "source": [
    "# Let's group the table top10_adjusted by the studio\n",
    "top_movies.group('Studio')"
   ]
  },
  {
   "cell_type": "markdown",
   "metadata": {},
   "source": [
    "Let's look at all 24 studios"
   ]
  },
  {
   "cell_type": "code",
   "execution_count": 12,
   "metadata": {},
   "outputs": [
    {
     "data": {
      "text/html": [
       "<table border=\"1\" class=\"dataframe\">\n",
       "    <thead>\n",
       "        <tr>\n",
       "            <th>Studio</th> <th>count</th>\n",
       "        </tr>\n",
       "    </thead>\n",
       "    <tbody>\n",
       "        <tr>\n",
       "            <td>AVCO                </td> <td>1    </td>\n",
       "        </tr>\n",
       "        <tr>\n",
       "            <td>Buena Vista         </td> <td>35   </td>\n",
       "        </tr>\n",
       "        <tr>\n",
       "            <td>Columbia            </td> <td>9    </td>\n",
       "        </tr>\n",
       "        <tr>\n",
       "            <td>Disney              </td> <td>11   </td>\n",
       "        </tr>\n",
       "        <tr>\n",
       "            <td>Dreamworks          </td> <td>3    </td>\n",
       "        </tr>\n",
       "        <tr>\n",
       "            <td>Fox                 </td> <td>24   </td>\n",
       "        </tr>\n",
       "        <tr>\n",
       "            <td>IFC                 </td> <td>1    </td>\n",
       "        </tr>\n",
       "        <tr>\n",
       "            <td>Lionsgate           </td> <td>3    </td>\n",
       "        </tr>\n",
       "        <tr>\n",
       "            <td>MGM                 </td> <td>7    </td>\n",
       "        </tr>\n",
       "        <tr>\n",
       "            <td>Metro               </td> <td>1    </td>\n",
       "        </tr>\n",
       "        <tr>\n",
       "            <td>NM                  </td> <td>1    </td>\n",
       "        </tr>\n",
       "        <tr>\n",
       "            <td>Newline             </td> <td>5    </td>\n",
       "        </tr>\n",
       "        <tr>\n",
       "            <td>Orion               </td> <td>1    </td>\n",
       "        </tr>\n",
       "        <tr>\n",
       "            <td>Paramount           </td> <td>25   </td>\n",
       "        </tr>\n",
       "        <tr>\n",
       "            <td>Paramount/Dreamworks</td> <td>4    </td>\n",
       "        </tr>\n",
       "        <tr>\n",
       "            <td>RKO                 </td> <td>3    </td>\n",
       "        </tr>\n",
       "        <tr>\n",
       "            <td>Selz.               </td> <td>1    </td>\n",
       "        </tr>\n",
       "        <tr>\n",
       "            <td>Sony                </td> <td>4    </td>\n",
       "        </tr>\n",
       "        <tr>\n",
       "            <td>Sum.                </td> <td>1    </td>\n",
       "        </tr>\n",
       "        <tr>\n",
       "            <td>Tristar             </td> <td>2    </td>\n",
       "        </tr>\n",
       "        <tr>\n",
       "            <td>United Artists      </td> <td>6    </td>\n",
       "        </tr>\n",
       "        <tr>\n",
       "            <td>Universal           </td> <td>23   </td>\n",
       "        </tr>\n",
       "        <tr>\n",
       "            <td>Warner Brothers     </td> <td>29   </td>\n",
       "        </tr>\n",
       "    </tbody>\n",
       "</table>"
      ],
      "text/plain": [
       "<IPython.core.display.HTML object>"
      ]
     },
     "metadata": {},
     "output_type": "display_data"
    }
   ],
   "source": [
    "top_movies.group('Studio').show()"
   ]
  },
  {
   "cell_type": "markdown",
   "metadata": {},
   "source": [
    "Let's look at the distribution of these studios using a plot"
   ]
  },
  {
   "cell_type": "code",
   "execution_count": 14,
   "metadata": {},
   "outputs": [
    {
     "data": {
      "image/png": "[encoded data removed]",
      "text/plain": [
       "<Figure size 432x828 with 1 Axes>"
      ]
     },
     "metadata": {},
     "output_type": "display_data"
    }
   ],
   "source": [
    "# Remember barh\n",
    "top_movies.group('Studio').barh('Studio')"
   ]
  },
  {
   "cell_type": "markdown",
   "metadata": {},
   "source": [
    "Let's look at the order of the studios? Can we learn anything from this ordering?"
   ]
  },
  {
   "cell_type": "code",
   "execution_count": null,
   "metadata": {},
   "outputs": [],
   "source": [
    "# No code here"
   ]
  },
  {
   "cell_type": "markdown",
   "metadata": {},
   "source": [
    "So, let's show the distribution but re-ordering the categories based on the number of movies\n",
    "\n",
    "*Hint: use the column count*"
   ]
  },
  {
   "cell_type": "code",
   "execution_count": 18,
   "metadata": {},
   "outputs": [
    {
     "data": {
      "image/png": "[encoded data removed]",
      "text/plain": [
       "<Figure size 432x828 with 1 Axes>"
      ]
     },
     "metadata": {},
     "output_type": "display_data"
    }
   ],
   "source": [
    "top_movies.group('Studio').sort('count').barh('Studio')"
   ]
  },
  {
   "cell_type": "code",
   "execution_count": null,
   "metadata": {},
   "outputs": [],
   "source": [
    "# Jump back to slides"
   ]
  },
  {
   "cell_type": "markdown",
   "metadata": {},
   "source": [
    "# Bins"
   ]
  },
  {
   "cell_type": "code",
   "execution_count": 4,
   "metadata": {},
   "outputs": [
    {
     "data": {
      "text/html": [
       "<table border=\"1\" class=\"dataframe\">\n",
       "    <thead>\n",
       "        <tr>\n",
       "            <th>Title</th> <th>Studio</th> <th>Gross</th> <th>Gross (Adjusted)</th> <th>Year</th>\n",
       "        </tr>\n",
       "    </thead>\n",
       "    <tbody>\n",
       "        <tr>\n",
       "            <td>Gone with the Wind              </td> <td>MGM            </td> <td>198676459</td> <td>1796176700      </td> <td>1939</td>\n",
       "        </tr>\n",
       "        <tr>\n",
       "            <td>Star Wars                       </td> <td>Fox            </td> <td>460998007</td> <td>1583483200      </td> <td>1977</td>\n",
       "        </tr>\n",
       "        <tr>\n",
       "            <td>The Sound of Music              </td> <td>Fox            </td> <td>158671368</td> <td>1266072700      </td> <td>1965</td>\n",
       "        </tr>\n",
       "        <tr>\n",
       "            <td>E.T.: The Extra-Terrestrial     </td> <td>Universal      </td> <td>435110554</td> <td>1261085000      </td> <td>1982</td>\n",
       "        </tr>\n",
       "        <tr>\n",
       "            <td>Titanic                         </td> <td>Paramount      </td> <td>658672302</td> <td>1204368000      </td> <td>1997</td>\n",
       "        </tr>\n",
       "        <tr>\n",
       "            <td>The Ten Commandments            </td> <td>Paramount      </td> <td>65500000 </td> <td>1164590000      </td> <td>1956</td>\n",
       "        </tr>\n",
       "        <tr>\n",
       "            <td>Jaws                            </td> <td>Universal      </td> <td>260000000</td> <td>1138620700      </td> <td>1975</td>\n",
       "        </tr>\n",
       "        <tr>\n",
       "            <td>Doctor Zhivago                  </td> <td>MGM            </td> <td>111721910</td> <td>1103564200      </td> <td>1965</td>\n",
       "        </tr>\n",
       "        <tr>\n",
       "            <td>The Exorcist                    </td> <td>Warner Brothers</td> <td>232906145</td> <td>983226600       </td> <td>1973</td>\n",
       "        </tr>\n",
       "        <tr>\n",
       "            <td>Snow White and the Seven Dwarves</td> <td>Disney         </td> <td>184925486</td> <td>969010000       </td> <td>1937</td>\n",
       "        </tr>\n",
       "    </tbody>\n",
       "</table>\n",
       "<p>... (190 rows omitted)</p>"
      ],
      "text/plain": [
       "Title                            | Studio          | Gross     | Gross (Adjusted) | Year\n",
       "Gone with the Wind               | MGM             | 198676459 | 1796176700       | 1939\n",
       "Star Wars                        | Fox             | 460998007 | 1583483200       | 1977\n",
       "The Sound of Music               | Fox             | 158671368 | 1266072700       | 1965\n",
       "E.T.: The Extra-Terrestrial      | Universal       | 435110554 | 1261085000       | 1982\n",
       "Titanic                          | Paramount       | 658672302 | 1204368000       | 1997\n",
       "The Ten Commandments             | Paramount       | 65500000  | 1164590000       | 1956\n",
       "Jaws                             | Universal       | 260000000 | 1138620700       | 1975\n",
       "Doctor Zhivago                   | MGM             | 111721910 | 1103564200       | 1965\n",
       "The Exorcist                     | Warner Brothers | 232906145 | 983226600        | 1973\n",
       "Snow White and the Seven Dwarves | Disney          | 184925486 | 969010000        | 1937\n",
       "... (190 rows omitted)"
      ]
     },
     "execution_count": 4,
     "metadata": {},
     "output_type": "execute_result"
    }
   ],
   "source": [
    "top_movies"
   ]
  },
  {
   "cell_type": "markdown",
   "metadata": {},
   "source": [
    "#### Let's look at ages"
   ]
  },
  {
   "cell_type": "code",
   "execution_count": 11,
   "metadata": {},
   "outputs": [
    {
     "data": {
      "text/html": [
       "<table border=\"1\" class=\"dataframe\">\n",
       "    <thead>\n",
       "        <tr>\n",
       "            <th>Title</th> <th>Studio</th> <th>Gross</th> <th>Gross (Adjusted)</th> <th>Year</th> <th>age</th>\n",
       "        </tr>\n",
       "    </thead>\n",
       "    <tbody>\n",
       "        <tr>\n",
       "            <td>Gone with the Wind              </td> <td>MGM            </td> <td>198676459</td> <td>1796176700      </td> <td>1939</td> <td>78  </td>\n",
       "        </tr>\n",
       "        <tr>\n",
       "            <td>Star Wars                       </td> <td>Fox            </td> <td>460998007</td> <td>1583483200      </td> <td>1977</td> <td>40  </td>\n",
       "        </tr>\n",
       "        <tr>\n",
       "            <td>The Sound of Music              </td> <td>Fox            </td> <td>158671368</td> <td>1266072700      </td> <td>1965</td> <td>52  </td>\n",
       "        </tr>\n",
       "        <tr>\n",
       "            <td>E.T.: The Extra-Terrestrial     </td> <td>Universal      </td> <td>435110554</td> <td>1261085000      </td> <td>1982</td> <td>35  </td>\n",
       "        </tr>\n",
       "        <tr>\n",
       "            <td>Titanic                         </td> <td>Paramount      </td> <td>658672302</td> <td>1204368000      </td> <td>1997</td> <td>20  </td>\n",
       "        </tr>\n",
       "        <tr>\n",
       "            <td>The Ten Commandments            </td> <td>Paramount      </td> <td>65500000 </td> <td>1164590000      </td> <td>1956</td> <td>61  </td>\n",
       "        </tr>\n",
       "        <tr>\n",
       "            <td>Jaws                            </td> <td>Universal      </td> <td>260000000</td> <td>1138620700      </td> <td>1975</td> <td>42  </td>\n",
       "        </tr>\n",
       "        <tr>\n",
       "            <td>Doctor Zhivago                  </td> <td>MGM            </td> <td>111721910</td> <td>1103564200      </td> <td>1965</td> <td>52  </td>\n",
       "        </tr>\n",
       "        <tr>\n",
       "            <td>The Exorcist                    </td> <td>Warner Brothers</td> <td>232906145</td> <td>983226600       </td> <td>1973</td> <td>44  </td>\n",
       "        </tr>\n",
       "        <tr>\n",
       "            <td>Snow White and the Seven Dwarves</td> <td>Disney         </td> <td>184925486</td> <td>969010000       </td> <td>1937</td> <td>80  </td>\n",
       "        </tr>\n",
       "    </tbody>\n",
       "</table>\n",
       "<p>... (190 rows omitted)</p>"
      ],
      "text/plain": [
       "Title                            | Studio          | Gross     | Gross (Adjusted) | Year | age\n",
       "Gone with the Wind               | MGM             | 198676459 | 1796176700       | 1939 | 78\n",
       "Star Wars                        | Fox             | 460998007 | 1583483200       | 1977 | 40\n",
       "The Sound of Music               | Fox             | 158671368 | 1266072700       | 1965 | 52\n",
       "E.T.: The Extra-Terrestrial      | Universal       | 435110554 | 1261085000       | 1982 | 35\n",
       "Titanic                          | Paramount       | 658672302 | 1204368000       | 1997 | 20\n",
       "The Ten Commandments             | Paramount       | 65500000  | 1164590000       | 1956 | 61\n",
       "Jaws                             | Universal       | 260000000 | 1138620700       | 1975 | 42\n",
       "Doctor Zhivago                   | MGM             | 111721910 | 1103564200       | 1965 | 52\n",
       "The Exorcist                     | Warner Brothers | 232906145 | 983226600        | 1973 | 44\n",
       "Snow White and the Seven Dwarves | Disney          | 184925486 | 969010000        | 1937 | 80\n",
       "... (190 rows omitted)"
      ]
     },
     "execution_count": 11,
     "metadata": {},
     "output_type": "execute_result"
    }
   ],
   "source": [
    "## Compute the ages of the movie (assuming this is from 2017) and add it as a column\n",
    "age = 2017 - top_movies.column(\"Year\")\n",
    "top_movies = top_movies.with_column('age', age)\n",
    "top_movies"
   ]
  },
  {
   "cell_type": "markdown",
   "metadata": {},
   "source": [
    "Its a good idea to get a sense of the values in our new column. \n",
    "\n",
    "Lets look at the min and max ages"
   ]
  },
  {
   "cell_type": "code",
   "execution_count": 13,
   "metadata": {},
   "outputs": [
    {
     "data": {
      "text/plain": [
       "(0, 96)"
      ]
     },
     "execution_count": 13,
     "metadata": {},
     "output_type": "execute_result"
    }
   ],
   "source": [
    "min(top_movies.column('age')), max(top_movies.column('age'))"
   ]
  },
  {
   "cell_type": "code",
   "execution_count": 16,
   "metadata": {},
   "outputs": [
    {
     "data": {
      "text/html": [
       "<table border=\"1\" class=\"dataframe\">\n",
       "    <thead>\n",
       "        <tr>\n",
       "            <th>Title</th> <th>Studio</th> <th>Gross</th> <th>Gross (Adjusted)</th> <th>Year</th> <th>age</th>\n",
       "        </tr>\n",
       "    </thead>\n",
       "    <tbody>\n",
       "        <tr>\n",
       "            <td>The Four Horsemen of the Apocalypse</td> <td>Metro </td> <td>9183673</td> <td>408214300       </td> <td>1921</td> <td>96  </td>\n",
       "        </tr>\n",
       "    </tbody>\n",
       "</table>"
      ],
      "text/plain": [
       "Title                               | Studio | Gross   | Gross (Adjusted) | Year | age\n",
       "The Four Horsemen of the Apocalypse | Metro  | 9183673 | 408214300        | 1921 | 96"
      ]
     },
     "execution_count": 16,
     "metadata": {},
     "output_type": "execute_result"
    }
   ],
   "source": [
    "top_movies.where('age', 96)"
   ]
  },
  {
   "cell_type": "markdown",
   "metadata": {},
   "source": [
    "### Now let's choose our bins, but we care more about recent movies (make later intervals bigger)"
   ]
  },
  {
   "cell_type": "code",
   "execution_count": 28,
   "metadata": {},
   "outputs": [
    {
     "data": {
      "text/plain": [
       "array([  0,   5,  10,  15,  25,  50, 100])"
      ]
     },
     "execution_count": 28,
     "metadata": {},
     "output_type": "execute_result"
    }
   ],
   "source": [
    "## make an array of our bins\n",
    "#my_bins = make_array(5, 10, 15, 20, 25, 30, ..., 90) # Add bins here\n",
    "#my_bins = np.arange(5, 95, 5)\n",
    "my_bins = make_array(0, 5, 10, 15, 25, 50, 100)\n",
    "my_bins"
   ]
  },
  {
   "cell_type": "code",
   "execution_count": 29,
   "metadata": {},
   "outputs": [
    {
     "data": {
      "text/html": [
       "<table border=\"1\" class=\"dataframe\">\n",
       "    <thead>\n",
       "        <tr>\n",
       "            <th>bin</th> <th>age count</th>\n",
       "        </tr>\n",
       "    </thead>\n",
       "    <tbody>\n",
       "        <tr>\n",
       "            <td>0   </td> <td>25       </td>\n",
       "        </tr>\n",
       "        <tr>\n",
       "            <td>5   </td> <td>16       </td>\n",
       "        </tr>\n",
       "        <tr>\n",
       "            <td>10  </td> <td>20       </td>\n",
       "        </tr>\n",
       "        <tr>\n",
       "            <td>15  </td> <td>36       </td>\n",
       "        </tr>\n",
       "        <tr>\n",
       "            <td>25  </td> <td>64       </td>\n",
       "        </tr>\n",
       "        <tr>\n",
       "            <td>50  </td> <td>39       </td>\n",
       "        </tr>\n",
       "        <tr>\n",
       "            <td>100 </td> <td>0        </td>\n",
       "        </tr>\n",
       "    </tbody>\n",
       "</table>"
      ],
      "text/plain": [
       "bin  | age count\n",
       "0    | 25\n",
       "5    | 16\n",
       "10   | 20\n",
       "15   | 36\n",
       "25   | 64\n",
       "50   | 39\n",
       "100  | 0"
      ]
     },
     "execution_count": 29,
     "metadata": {},
     "output_type": "execute_result"
    }
   ],
   "source": [
    "top_movies.bin('age', bins=my_bins)"
   ]
  },
  {
   "cell_type": "code",
   "execution_count": 25,
   "metadata": {},
   "outputs": [
    {
     "data": {
      "text/plain": [
       "25"
      ]
     },
     "execution_count": 25,
     "metadata": {},
     "output_type": "execute_result"
    }
   ],
   "source": [
    "top_movies.where('age', are.below(5)).num_rows"
   ]
  },
  {
   "cell_type": "code",
   "execution_count": 27,
   "metadata": {},
   "outputs": [
    {
     "data": {
      "text/plain": [
       "16"
      ]
     },
     "execution_count": 27,
     "metadata": {},
     "output_type": "execute_result"
    }
   ],
   "source": [
    "top_movies.where('age', are.between(5, 10)).num_rows"
   ]
  },
  {
   "cell_type": "code",
   "execution_count": null,
   "metadata": {},
   "outputs": [],
   "source": [
    "# back to slides"
   ]
  },
  {
   "cell_type": "markdown",
   "metadata": {},
   "source": [
    "# Histograms"
   ]
  },
  {
   "cell_type": "code",
   "execution_count": 23,
   "metadata": {},
   "outputs": [
    {
     "data": {
      "text/html": [
       "<table border=\"1\" class=\"dataframe\">\n",
       "    <thead>\n",
       "        <tr>\n",
       "            <th>Title</th> <th>Studio</th> <th>Gross</th> <th>Gross (Adjusted)</th> <th>Year</th> <th>age</th>\n",
       "        </tr>\n",
       "    </thead>\n",
       "    <tbody>\n",
       "        <tr>\n",
       "            <td>Gone with the Wind              </td> <td>MGM            </td> <td>198676459</td> <td>1796176700      </td> <td>1939</td> <td>78  </td>\n",
       "        </tr>\n",
       "        <tr>\n",
       "            <td>Star Wars                       </td> <td>Fox            </td> <td>460998007</td> <td>1583483200      </td> <td>1977</td> <td>40  </td>\n",
       "        </tr>\n",
       "        <tr>\n",
       "            <td>The Sound of Music              </td> <td>Fox            </td> <td>158671368</td> <td>1266072700      </td> <td>1965</td> <td>52  </td>\n",
       "        </tr>\n",
       "        <tr>\n",
       "            <td>E.T.: The Extra-Terrestrial     </td> <td>Universal      </td> <td>435110554</td> <td>1261085000      </td> <td>1982</td> <td>35  </td>\n",
       "        </tr>\n",
       "        <tr>\n",
       "            <td>Titanic                         </td> <td>Paramount      </td> <td>658672302</td> <td>1204368000      </td> <td>1997</td> <td>20  </td>\n",
       "        </tr>\n",
       "        <tr>\n",
       "            <td>The Ten Commandments            </td> <td>Paramount      </td> <td>65500000 </td> <td>1164590000      </td> <td>1956</td> <td>61  </td>\n",
       "        </tr>\n",
       "        <tr>\n",
       "            <td>Jaws                            </td> <td>Universal      </td> <td>260000000</td> <td>1138620700      </td> <td>1975</td> <td>42  </td>\n",
       "        </tr>\n",
       "        <tr>\n",
       "            <td>Doctor Zhivago                  </td> <td>MGM            </td> <td>111721910</td> <td>1103564200      </td> <td>1965</td> <td>52  </td>\n",
       "        </tr>\n",
       "        <tr>\n",
       "            <td>The Exorcist                    </td> <td>Warner Brothers</td> <td>232906145</td> <td>983226600       </td> <td>1973</td> <td>44  </td>\n",
       "        </tr>\n",
       "        <tr>\n",
       "            <td>Snow White and the Seven Dwarves</td> <td>Disney         </td> <td>184925486</td> <td>969010000       </td> <td>1937</td> <td>80  </td>\n",
       "        </tr>\n",
       "    </tbody>\n",
       "</table>\n",
       "<p>... (190 rows omitted)</p>"
      ],
      "text/plain": [
       "Title                            | Studio          | Gross     | Gross (Adjusted) | Year | age\n",
       "Gone with the Wind               | MGM             | 198676459 | 1796176700       | 1939 | 78\n",
       "Star Wars                        | Fox             | 460998007 | 1583483200       | 1977 | 40\n",
       "The Sound of Music               | Fox             | 158671368 | 1266072700       | 1965 | 52\n",
       "E.T.: The Extra-Terrestrial      | Universal       | 435110554 | 1261085000       | 1982 | 35\n",
       "Titanic                          | Paramount       | 658672302 | 1204368000       | 1997 | 20\n",
       "The Ten Commandments             | Paramount       | 65500000  | 1164590000       | 1956 | 61\n",
       "Jaws                             | Universal       | 260000000 | 1138620700       | 1975 | 42\n",
       "Doctor Zhivago                   | MGM             | 111721910 | 1103564200       | 1965 | 52\n",
       "The Exorcist                     | Warner Brothers | 232906145 | 983226600        | 1973 | 44\n",
       "Snow White and the Seven Dwarves | Disney          | 184925486 | 969010000        | 1937 | 80\n",
       "... (190 rows omitted)"
      ]
     },
     "execution_count": 23,
     "metadata": {},
     "output_type": "execute_result"
    }
   ],
   "source": [
    "top_movies"
   ]
  },
  {
   "cell_type": "code",
   "execution_count": 24,
   "metadata": {},
   "outputs": [
    {
     "data": {
      "image/png": "[encoded data removed]",
      "text/plain": [
       "<Figure size 432x288 with 1 Axes>"
      ]
     },
     "metadata": {},
     "output_type": "display_data"
    }
   ],
   "source": [
    "top_movies.hist('Year', unit=\"Year\", bins=np.arange(1900, 2000, 10))"
   ]
  },
  {
   "cell_type": "markdown",
   "metadata": {},
   "source": [
    "**QUESTION:** what is the y-axis here?"
   ]
  },
  {
   "cell_type": "code",
   "execution_count": 30,
   "metadata": {},
   "outputs": [
    {
     "data": {
      "image/png": "[encoded data removed]",
      "text/plain": [
       "<Figure size 432x288 with 1 Axes>"
      ]
     },
     "metadata": {},
     "output_type": "display_data"
    }
   ],
   "source": [
    "# lets use normed=False\n",
    "top_movies.hist('Year', unit=\"Year\", bins=np.arange(1900, 2000, 10), normed=False)"
   ]
  },
  {
   "cell_type": "code",
   "execution_count": 37,
   "metadata": {},
   "outputs": [
    {
     "data": {
      "image/png": "[encoded data removed]",
      "text/plain": [
       "<Figure size 432x288 with 1 Axes>"
      ]
     },
     "metadata": {},
     "output_type": "display_data"
    }
   ],
   "source": [
    "top_movies.hist('age', unit='age', bins=my_bins, normed=False)"
   ]
  },
  {
   "cell_type": "code",
   "execution_count": 38,
   "metadata": {},
   "outputs": [
    {
     "data": {
      "image/png": "[encoded data removed]",
      "text/plain": [
       "<Figure size 432x288 with 1 Axes>"
      ]
     },
     "metadata": {},
     "output_type": "display_data"
    }
   ],
   "source": [
    "top_movies.hist('age', unit='age', bins=my_bins)"
   ]
  },
  {
   "cell_type": "code",
   "execution_count": 41,
   "metadata": {},
   "outputs": [
    {
     "data": {
      "text/plain": [
       "0.025"
      ]
     },
     "execution_count": 41,
     "metadata": {},
     "output_type": "execute_result"
    }
   ],
   "source": [
    "top_movies.num_rows\n",
    "(25 / 200) / 5"
   ]
  },
  {
   "cell_type": "code",
   "execution_count": 44,
   "metadata": {},
   "outputs": [
    {
     "data": {
      "text/plain": [
       "(12.5, 12.5)"
      ]
     },
     "execution_count": 44,
     "metadata": {},
     "output_type": "execute_result"
    }
   ],
   "source": [
    "2.5 * 5, (25 / 200) * 100"
   ]
  },
  {
   "cell_type": "code",
   "execution_count": 33,
   "metadata": {},
   "outputs": [
    {
     "data": {
      "text/html": [
       "<table border=\"1\" class=\"dataframe\">\n",
       "    <thead>\n",
       "        <tr>\n",
       "            <th>bin</th> <th>age count</th>\n",
       "        </tr>\n",
       "    </thead>\n",
       "    <tbody>\n",
       "        <tr>\n",
       "            <td>0   </td> <td>25       </td>\n",
       "        </tr>\n",
       "        <tr>\n",
       "            <td>5   </td> <td>16       </td>\n",
       "        </tr>\n",
       "        <tr>\n",
       "            <td>10  </td> <td>20       </td>\n",
       "        </tr>\n",
       "        <tr>\n",
       "            <td>15  </td> <td>36       </td>\n",
       "        </tr>\n",
       "        <tr>\n",
       "            <td>25  </td> <td>64       </td>\n",
       "        </tr>\n",
       "        <tr>\n",
       "            <td>50  </td> <td>39       </td>\n",
       "        </tr>\n",
       "        <tr>\n",
       "            <td>100 </td> <td>0        </td>\n",
       "        </tr>\n",
       "    </tbody>\n",
       "</table>"
      ],
      "text/plain": [
       "bin  | age count\n",
       "0    | 25\n",
       "5    | 16\n",
       "10   | 20\n",
       "15   | 36\n",
       "25   | 64\n",
       "50   | 39\n",
       "100  | 0"
      ]
     },
     "execution_count": 33,
     "metadata": {},
     "output_type": "execute_result"
    }
   ],
   "source": [
    "top_movies.bin('age', bins=my_bins)"
   ]
  },
  {
   "cell_type": "code",
   "execution_count": 49,
   "metadata": {},
   "outputs": [
    {
     "data": {
      "image/png": "[encoded data removed]",
      "text/plain": [
       "<Figure size 432x288 with 1 Axes>"
      ]
     },
     "metadata": {},
     "output_type": "display_data"
    }
   ],
   "source": [
    "top_movies.hist('age', bins=my_bins)"
   ]
  },
  {
   "cell_type": "code",
   "execution_count": null,
   "metadata": {},
   "outputs": [],
   "source": [
    "## Look at narrow bins now"
   ]
  },
  {
   "cell_type": "markdown",
   "metadata": {},
   "source": [
    "(jump to slides)\n",
    "# Functions"
   ]
  },
  {
   "cell_type": "code",
   "execution_count": 58,
   "metadata": {},
   "outputs": [],
   "source": [
    "def spread(values):\n",
    "    spread_val = max(values) - min(values)\n",
    "    return spread_val\n"
   ]
  },
  {
   "cell_type": "code",
   "execution_count": 50,
   "metadata": {},
   "outputs": [],
   "source": [
    "def f(s):\n",
    "    return np.round(s / sum(s) * 100, 2)\n",
    "\n"
   ]
  },
  {
   "cell_type": "code",
   "execution_count": 51,
   "metadata": {},
   "outputs": [
    {
     "data": {
      "text/plain": [
       "array([10., 20., 30., 40.])"
      ]
     },
     "execution_count": 51,
     "metadata": {},
     "output_type": "execute_result"
    }
   ],
   "source": [
    "f(make_array(1,2,3,4))"
   ]
  },
  {
   "cell_type": "code",
   "execution_count": 53,
   "metadata": {},
   "outputs": [
    {
     "data": {
      "text/plain": [
       "10"
      ]
     },
     "execution_count": 53,
     "metadata": {},
     "output_type": "execute_result"
    }
   ],
   "source": [
    "s = make_array(1,2,3,4)\n",
    "sum(s)"
   ]
  },
  {
   "cell_type": "code",
   "execution_count": 54,
   "metadata": {},
   "outputs": [
    {
     "data": {
      "text/plain": [
       "array([0.1, 0.2, 0.3, 0.4])"
      ]
     },
     "execution_count": 54,
     "metadata": {},
     "output_type": "execute_result"
    }
   ],
   "source": [
    "s / 10"
   ]
  },
  {
   "cell_type": "code",
   "execution_count": 59,
   "metadata": {},
   "outputs": [
    {
     "data": {
      "text/plain": [
       "3"
      ]
     },
     "execution_count": 59,
     "metadata": {},
     "output_type": "execute_result"
    }
   ],
   "source": [
    "spread(s)"
   ]
  },
  {
   "cell_type": "code",
   "execution_count": 61,
   "metadata": {},
   "outputs": [
    {
     "data": {
      "text/plain": [
       "(3, 4.5)"
      ]
     },
     "execution_count": 61,
     "metadata": {},
     "output_type": "execute_result"
    }
   ],
   "source": [
    "abs(-3), abs(4.5)"
   ]
  },
  {
   "cell_type": "code",
   "execution_count": null,
   "metadata": {},
   "outputs": [],
   "source": [
    "#def abs(input_number):\n",
    "    # BODY THAT CONVERS NUMBER TO ABS number\n",
    "    # RETURN THAT VALUE"
   ]
  },
  {
   "cell_type": "code",
   "execution_count": 1,
   "metadata": {},
   "outputs": [
    {
     "name": "stdout",
     "output_type": "stream",
     "text": [
      "There was an error generating your LaTeX\n",
      "Showing concise error message\n",
      "============================================================\n",
      "This is BibTeX, Version 0.99d (TeX Live 2017/Debian)\n",
      "The top-level auxiliary file: ./notebook.aux\n",
      "I found no \\citation commands---while reading file ./notebook.aux\n",
      "I found no \\bibdata command---while reading file ./notebook.aux\n",
      "I found no \\bibstyle command---while reading file ./notebook.aux\n",
      "(There were 3 error messages)\n",
      "\n",
      "============================================================\n"
     ]
    },
    {
     "ename": "FileNotFoundError",
     "evalue": "[Errno 2] No such file or directory: 'Lecture_6_completed.pdf'",
     "output_type": "error",
     "traceback": [
      "\u001b[0;31m---------------------------------------------------------------------------\u001b[0m",
      "\u001b[0;31mFileNotFoundError\u001b[0m                         Traceback (most recent call last)",
      "\u001b[0;32m<ipython-input-1-c5f5ff5731ab>\u001b[0m in \u001b[0;36m<module>\u001b[0;34m()\u001b[0m\n\u001b[1;32m      2\u001b[0m \u001b[0;32mimport\u001b[0m \u001b[0motter\u001b[0m\u001b[0;34m\u001b[0m\u001b[0;34m\u001b[0m\u001b[0m\n\u001b[1;32m      3\u001b[0m \u001b[0mgrader\u001b[0m \u001b[0;34m=\u001b[0m \u001b[0motter\u001b[0m\u001b[0;34m.\u001b[0m\u001b[0mNotebook\u001b[0m\u001b[0;34m(\u001b[0m\u001b[0;34m)\u001b[0m\u001b[0;34m\u001b[0m\u001b[0;34m\u001b[0m\u001b[0m\n\u001b[0;32m----> 4\u001b[0;31m \u001b[0mgrader\u001b[0m\u001b[0;34m.\u001b[0m\u001b[0mexport\u001b[0m\u001b[0;34m(\u001b[0m\u001b[0;34m\"Lecture_6_completed.ipynb\"\u001b[0m\u001b[0;34m)\u001b[0m\u001b[0;34m\u001b[0m\u001b[0;34m\u001b[0m\u001b[0m\n\u001b[0m",
      "\u001b[0;32m/opt/tljh/user/lib/python3.7/site-packages/otter/check/notebook.py\u001b[0m in \u001b[0;36mexport\u001b[0;34m(self, nb_path, export_path, pdf, filtering, pagebreaks, files, display_link)\u001b[0m\n\u001b[1;32m    354\u001b[0m         \u001b[0;32mexcept\u001b[0m \u001b[0mException\u001b[0m \u001b[0;32mas\u001b[0m \u001b[0me\u001b[0m\u001b[0;34m:\u001b[0m\u001b[0;34m\u001b[0m\u001b[0;34m\u001b[0m\u001b[0m\n\u001b[1;32m    355\u001b[0m             \u001b[0mself\u001b[0m\u001b[0;34m.\u001b[0m\u001b[0m_log_event\u001b[0m\u001b[0;34m(\u001b[0m\u001b[0mEventType\u001b[0m\u001b[0;34m.\u001b[0m\u001b[0mEND_EXPORT\u001b[0m\u001b[0;34m,\u001b[0m \u001b[0msuccess\u001b[0m\u001b[0;34m=\u001b[0m\u001b[0;32mFalse\u001b[0m\u001b[0;34m,\u001b[0m \u001b[0merror\u001b[0m\u001b[0;34m=\u001b[0m\u001b[0me\u001b[0m\u001b[0;34m)\u001b[0m\u001b[0;34m\u001b[0m\u001b[0;34m\u001b[0m\u001b[0m\n\u001b[0;32m--> 356\u001b[0;31m             \u001b[0;32mraise\u001b[0m \u001b[0me\u001b[0m\u001b[0;34m\u001b[0m\u001b[0;34m\u001b[0m\u001b[0m\n\u001b[0m\u001b[1;32m    357\u001b[0m         \u001b[0;32melse\u001b[0m\u001b[0;34m:\u001b[0m\u001b[0;34m\u001b[0m\u001b[0;34m\u001b[0m\u001b[0m\n\u001b[1;32m    358\u001b[0m             \u001b[0mself\u001b[0m\u001b[0;34m.\u001b[0m\u001b[0m_log_event\u001b[0m\u001b[0;34m(\u001b[0m\u001b[0mEventType\u001b[0m\u001b[0;34m.\u001b[0m\u001b[0mEND_EXPORT\u001b[0m\u001b[0;34m)\u001b[0m\u001b[0;34m\u001b[0m\u001b[0;34m\u001b[0m\u001b[0m\n",
      "\u001b[0;32m/opt/tljh/user/lib/python3.7/site-packages/otter/check/notebook.py\u001b[0m in \u001b[0;36mexport\u001b[0;34m(self, nb_path, export_path, pdf, filtering, pagebreaks, files, display_link)\u001b[0m\n\u001b[1;32m    329\u001b[0m                 \u001b[0;31m# convert(nb_path, filtering=filtering, filter_type=filter_type)\u001b[0m\u001b[0;34m\u001b[0m\u001b[0;34m\u001b[0m\u001b[0;34m\u001b[0m\u001b[0m\n\u001b[1;32m    330\u001b[0m                 \u001b[0mexport_notebook\u001b[0m\u001b[0;34m(\u001b[0m\u001b[0mnb_path\u001b[0m\u001b[0;34m,\u001b[0m \u001b[0mfiltering\u001b[0m\u001b[0;34m=\u001b[0m\u001b[0mfiltering\u001b[0m\u001b[0;34m,\u001b[0m \u001b[0mpagebreaks\u001b[0m\u001b[0;34m=\u001b[0m\u001b[0mpagebreaks\u001b[0m\u001b[0;34m)\u001b[0m\u001b[0;34m\u001b[0m\u001b[0;34m\u001b[0m\u001b[0m\n\u001b[0;32m--> 331\u001b[0;31m                 \u001b[0mzf\u001b[0m\u001b[0;34m.\u001b[0m\u001b[0mwrite\u001b[0m\u001b[0;34m(\u001b[0m\u001b[0mpdf_path\u001b[0m\u001b[0;34m)\u001b[0m\u001b[0;34m\u001b[0m\u001b[0;34m\u001b[0m\u001b[0m\n\u001b[0m\u001b[1;32m    332\u001b[0m \u001b[0;34m\u001b[0m\u001b[0m\n\u001b[1;32m    333\u001b[0m             \u001b[0;32mif\u001b[0m \u001b[0mos\u001b[0m\u001b[0;34m.\u001b[0m\u001b[0mpath\u001b[0m\u001b[0;34m.\u001b[0m\u001b[0misfile\u001b[0m\u001b[0;34m(\u001b[0m\u001b[0m_OTTER_LOG_FILENAME\u001b[0m\u001b[0;34m)\u001b[0m\u001b[0;34m:\u001b[0m\u001b[0;34m\u001b[0m\u001b[0;34m\u001b[0m\u001b[0m\n",
      "\u001b[0;32m/opt/tljh/user/lib/python3.7/zipfile.py\u001b[0m in \u001b[0;36mwrite\u001b[0;34m(self, filename, arcname, compress_type, compresslevel)\u001b[0m\n\u001b[1;32m   1728\u001b[0m             )\n\u001b[1;32m   1729\u001b[0m \u001b[0;34m\u001b[0m\u001b[0m\n\u001b[0;32m-> 1730\u001b[0;31m         \u001b[0mzinfo\u001b[0m \u001b[0;34m=\u001b[0m \u001b[0mZipInfo\u001b[0m\u001b[0;34m.\u001b[0m\u001b[0mfrom_file\u001b[0m\u001b[0;34m(\u001b[0m\u001b[0mfilename\u001b[0m\u001b[0;34m,\u001b[0m \u001b[0marcname\u001b[0m\u001b[0;34m)\u001b[0m\u001b[0;34m\u001b[0m\u001b[0;34m\u001b[0m\u001b[0m\n\u001b[0m\u001b[1;32m   1731\u001b[0m \u001b[0;34m\u001b[0m\u001b[0m\n\u001b[1;32m   1732\u001b[0m         \u001b[0;32mif\u001b[0m \u001b[0mzinfo\u001b[0m\u001b[0;34m.\u001b[0m\u001b[0mis_dir\u001b[0m\u001b[0;34m(\u001b[0m\u001b[0;34m)\u001b[0m\u001b[0;34m:\u001b[0m\u001b[0;34m\u001b[0m\u001b[0;34m\u001b[0m\u001b[0m\n",
      "\u001b[0;32m/opt/tljh/user/lib/python3.7/zipfile.py\u001b[0m in \u001b[0;36mfrom_file\u001b[0;34m(cls, filename, arcname)\u001b[0m\n\u001b[1;32m    516\u001b[0m         \u001b[0;32mif\u001b[0m \u001b[0misinstance\u001b[0m\u001b[0;34m(\u001b[0m\u001b[0mfilename\u001b[0m\u001b[0;34m,\u001b[0m \u001b[0mos\u001b[0m\u001b[0;34m.\u001b[0m\u001b[0mPathLike\u001b[0m\u001b[0;34m)\u001b[0m\u001b[0;34m:\u001b[0m\u001b[0;34m\u001b[0m\u001b[0;34m\u001b[0m\u001b[0m\n\u001b[1;32m    517\u001b[0m             \u001b[0mfilename\u001b[0m \u001b[0;34m=\u001b[0m \u001b[0mos\u001b[0m\u001b[0;34m.\u001b[0m\u001b[0mfspath\u001b[0m\u001b[0;34m(\u001b[0m\u001b[0mfilename\u001b[0m\u001b[0;34m)\u001b[0m\u001b[0;34m\u001b[0m\u001b[0;34m\u001b[0m\u001b[0m\n\u001b[0;32m--> 518\u001b[0;31m         \u001b[0mst\u001b[0m \u001b[0;34m=\u001b[0m \u001b[0mos\u001b[0m\u001b[0;34m.\u001b[0m\u001b[0mstat\u001b[0m\u001b[0;34m(\u001b[0m\u001b[0mfilename\u001b[0m\u001b[0;34m)\u001b[0m\u001b[0;34m\u001b[0m\u001b[0;34m\u001b[0m\u001b[0m\n\u001b[0m\u001b[1;32m    519\u001b[0m         \u001b[0misdir\u001b[0m \u001b[0;34m=\u001b[0m \u001b[0mstat\u001b[0m\u001b[0;34m.\u001b[0m\u001b[0mS_ISDIR\u001b[0m\u001b[0;34m(\u001b[0m\u001b[0mst\u001b[0m\u001b[0;34m.\u001b[0m\u001b[0mst_mode\u001b[0m\u001b[0;34m)\u001b[0m\u001b[0;34m\u001b[0m\u001b[0;34m\u001b[0m\u001b[0m\n\u001b[1;32m    520\u001b[0m         \u001b[0mmtime\u001b[0m \u001b[0;34m=\u001b[0m \u001b[0mtime\u001b[0m\u001b[0;34m.\u001b[0m\u001b[0mlocaltime\u001b[0m\u001b[0;34m(\u001b[0m\u001b[0mst\u001b[0m\u001b[0;34m.\u001b[0m\u001b[0mst_mtime\u001b[0m\u001b[0;34m)\u001b[0m\u001b[0;34m\u001b[0m\u001b[0;34m\u001b[0m\u001b[0m\n",
      "\u001b[0;31mFileNotFoundError\u001b[0m: [Errno 2] No such file or directory: 'Lecture_6_completed.pdf'"
     ]
    }
   ],
   "source": [
    "# Initialize Otter\n",
    "import otter\n",
    "grader = otter.Notebook()\n",
    "grader.export(\"Lecture_6_completed.ipynb\", pdf=False)"
   ]
  },
  {
   "cell_type": "code",
   "execution_count": null,
   "metadata": {},
   "outputs": [],
   "source": []
  }
 ],
 "metadata": {
  "kernelspec": {
   "display_name": "Python 3",
   "language": "python",
   "name": "python3"
  },
  "language_info": {
   "codemirror_mode": {
    "name": "ipython",
    "version": 3
   },
   "file_extension": ".py",
   "mimetype": "text/x-python",
   "name": "python",
   "nbconvert_exporter": "python",
   "pygments_lexer": "ipython3",
   "version": "3.7.7"
  }
 },
 "nbformat": 4,
 "nbformat_minor": 4
}
