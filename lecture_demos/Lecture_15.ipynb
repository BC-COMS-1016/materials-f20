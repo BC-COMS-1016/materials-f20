{
 "cells": [
  {
   "cell_type": "code",
   "execution_count": 2,
   "metadata": {},
   "outputs": [],
   "source": [
    "from datascience import *\n",
    "import numpy as np\n",
    "\n",
    "%matplotlib inline\n",
    "import matplotlib.pyplot as plots\n",
    "plots.style.use('fivethirtyeight')"
   ]
  },
  {
   "cell_type": "markdown",
   "metadata": {},
   "source": [
    "# Comparing Two Samples\n",
    "Let's walk through these two functions together"
   ]
  },
  {
   "cell_type": "code",
   "execution_count": 29,
   "metadata": {},
   "outputs": [],
   "source": [
    "def difference_of_means(table, numeric_label, group_label):\n",
    "    \"\"\"\n",
    "    Takes: name of table, column label of numerical variable,\n",
    "    column label of group-label variable\n",
    "    \n",
    "    Returns: Difference of means of the two groups\n",
    "    \"\"\"\n",
    "    \n",
    "    #table with the two relevant columns\n",
    "    reduced = table.select(numeric_label, group_label)  \n",
    "    \n",
    "    # table containing group means\n",
    "    means_table = reduced.group(group_label, np.average)\n",
    "    \n",
    "    # array of group means\n",
    "    means = means_table.column(1)\n",
    "    \n",
    "    return means.item(1) - means.item(0)"
   ]
  },
  {
   "cell_type": "code",
   "execution_count": 30,
   "metadata": {},
   "outputs": [],
   "source": [
    "def one_simulated_difference(table, numeric_label, group_label):\n",
    "    \"\"\"\n",
    "    Takes: name of table, column label of numerical variable,\n",
    "    column label of group-label variable\n",
    "    \n",
    "    Returns: Difference of means of the two groups after shuffling labels\n",
    "    \"\"\"\n",
    "    \n",
    "    # array of shuffled labels\n",
    "    shuffled_labels = table.sample(\n",
    "        with_replacement = False).column(group_label)\n",
    "    \n",
    "    # table of numerical variable and shuffled labels\n",
    "    shuffled_table = table.select(numeric_label).with_column(\n",
    "        'Shuffled Label', shuffled_labels)\n",
    "    \n",
    "    return difference_of_means(\n",
    "        shuffled_table, numeric_label, 'Shuffled Label')"
   ]
  },
  {
   "cell_type": "markdown",
   "metadata": {},
   "source": [
    "(back to slides)\n",
    "# Randomized Control Trial\n",
    "Let's look at the example from the textbook the discusses whether\n",
    "botulinum toxin A causes pain relief"
   ]
  },
  {
   "cell_type": "markdown",
   "metadata": {},
   "source": [
    "The data is stored in a csv file named `bta.csv`.\n",
    "How can we load in the data?"
   ]
  },
  {
   "cell_type": "code",
   "execution_count": 18,
   "metadata": {},
   "outputs": [
    {
     "data": {
      "text/html": [
       "<table border=\"1\" class=\"dataframe\">\n",
       "    <thead>\n",
       "        <tr>\n",
       "            <th>Group</th> <th>Result</th>\n",
       "        </tr>\n",
       "    </thead>\n",
       "    <tbody>\n",
       "        <tr>\n",
       "            <td>Control</td> <td>1     </td>\n",
       "        </tr>\n",
       "        <tr>\n",
       "            <td>Control</td> <td>1     </td>\n",
       "        </tr>\n",
       "        <tr>\n",
       "            <td>Control</td> <td>0     </td>\n",
       "        </tr>\n",
       "        <tr>\n",
       "            <td>Control</td> <td>0     </td>\n",
       "        </tr>\n",
       "        <tr>\n",
       "            <td>Control</td> <td>0     </td>\n",
       "        </tr>\n",
       "    </tbody>\n",
       "</table>\n",
       "<p>... (26 rows omitted)</p>"
      ],
      "text/plain": [
       "<IPython.core.display.HTML object>"
      ]
     },
     "metadata": {},
     "output_type": "display_data"
    }
   ],
   "source": [
    "bta = ...\n",
    "bta.show(5)"
   ]
  },
  {
   "cell_type": "markdown",
   "metadata": {},
   "source": [
    "**QUESTION:** What do the columns and values represent?\n",
    "\n",
    "What table function can we use to help us figure this out? \n",
    "\n",
    "*Hint: what function shows us the statistics about the values a column has?*\n",
    "\n",
    "<details>\n",
    "<summary>Solution</summary>\n",
    "  botox.pivot('Result', 'Group')\n",
    "</details>"
   ]
  },
  {
   "cell_type": "code",
   "execution_count": null,
   "metadata": {},
   "outputs": [],
   "source": []
  },
  {
   "cell_type": "markdown",
   "metadata": {},
   "source": [
    "**QUESTION:** What statistic should we use here to see a difference between the groups?"
   ]
  },
  {
   "cell_type": "markdown",
   "metadata": {},
   "source": [
    "<details>\n",
    "<summary>Review</summary>\n",
    "  ![title](hypothesis_testing_stat_review.png)\n",
    "</details>\n"
   ]
  },
  {
   "cell_type": "code",
   "execution_count": null,
   "metadata": {},
   "outputs": [],
   "source": []
  },
  {
   "cell_type": "markdown",
   "metadata": {},
   "source": [
    "<details>\n",
    "<summary>Solution</summary>\n",
    "  difference of means\n",
    "</details>"
   ]
  },
  {
   "cell_type": "markdown",
   "metadata": {},
   "source": [
    "**QUESTION:** How do we compute that difference?\n",
    "\n",
    "<details>\n",
    "<summary>Solution</summary>\n",
    "  botox.group('Group', np.average)\n",
    "    \n",
    "  tmp_tbl = botox.group('Group', np.average)\n",
    "    tmp_tbl.column(1).item(1) - tmp_tbl.column(1).item(0)\n",
    "</details>\n"
   ]
  },
  {
   "cell_type": "code",
   "execution_count": 21,
   "metadata": {},
   "outputs": [
    {
     "data": {
      "text/html": [
       "<table border=\"1\" class=\"dataframe\">\n",
       "    <thead>\n",
       "        <tr>\n",
       "            <th>Group</th> <th>Result average</th>\n",
       "        </tr>\n",
       "    </thead>\n",
       "    <tbody>\n",
       "        <tr>\n",
       "            <td>Control  </td> <td>0.125         </td>\n",
       "        </tr>\n",
       "        <tr>\n",
       "            <td>Treatment</td> <td>0.6           </td>\n",
       "        </tr>\n",
       "    </tbody>\n",
       "</table>"
      ],
      "text/plain": [
       "Group     | Result average\n",
       "Control   | 0.125\n",
       "Treatment | 0.6"
      ]
     },
     "execution_count": 21,
     "metadata": {},
     "output_type": "execute_result"
    }
   ],
   "source": []
  },
  {
   "cell_type": "code",
   "execution_count": 26,
   "metadata": {},
   "outputs": [
    {
     "data": {
      "text/plain": [
       "0.475"
      ]
     },
     "execution_count": 26,
     "metadata": {},
     "output_type": "execute_result"
    }
   ],
   "source": []
  },
  {
   "cell_type": "markdown",
   "metadata": {},
   "source": [
    "##  Testing the Hypothesis"
   ]
  },
  {
   "cell_type": "markdown",
   "metadata": {},
   "source": [
    "**Question:** How can we use the functions from the top?\n",
    "<details>\n",
    "<summary>Solution</summary>\n",
    "  difference of means(botox, 'Result', 'Group')\n",
    "</details>  "
   ]
  },
  {
   "cell_type": "code",
   "execution_count": 86,
   "metadata": {},
   "outputs": [
    {
     "data": {
      "text/plain": [
       "Ellipsis"
      ]
     },
     "execution_count": 86,
     "metadata": {},
     "output_type": "execute_result"
    }
   ],
   "source": [
    "observed_diff = ...\n",
    "observed_diff"
   ]
  },
  {
   "cell_type": "markdown",
   "metadata": {},
   "source": [
    "**Question:** How can we simulate this statistic once?\n",
    "<details>\n",
    "<summary>Solution</summary>\n",
    "  one_simulated_difference(botox, 'Result', 'Group')\n",
    "</details> \n"
   ]
  },
  {
   "cell_type": "code",
   "execution_count": 34,
   "metadata": {},
   "outputs": [
    {
     "data": {
      "text/plain": [
       "0.08750000000000002"
      ]
     },
     "execution_count": 34,
     "metadata": {},
     "output_type": "execute_result"
    }
   ],
   "source": []
  },
  {
   "cell_type": "markdown",
   "metadata": {},
   "source": [
    "Now let's simulate that 10k times"
   ]
  },
  {
   "cell_type": "code",
   "execution_count": null,
   "metadata": {},
   "outputs": [],
   "source": [
    "# answer is below\n",
    "\n",
    "\n",
    "\n",
    "\n",
    "\n",
    "\n",
    "\n",
    "\n",
    "\n",
    "\n",
    "\n",
    "\n",
    "\n",
    "\n",
    "\n",
    "\n",
    "\n",
    "\n",
    "\n"
   ]
  },
  {
   "cell_type": "code",
   "execution_count": 35,
   "metadata": {},
   "outputs": [],
   "source": [
    "simulated_diffs = make_array()\n",
    "\n",
    "\n",
    "for i in np.arange(10000):\n",
    "    sim_diff = one_simulated_difference(botox, 'Result', 'Group')\n",
    "    simulated_diffs = np.append(simulated_diffs, sim_diff)\n"
   ]
  },
  {
   "cell_type": "code",
   "execution_count": 36,
   "metadata": {},
   "outputs": [
    {
     "data": {
      "image/png": "[encoded data removed]",
      "text/plain": [
       "<Figure size 432x288 with 1 Axes>"
      ]
     },
     "metadata": {},
     "output_type": "display_data"
    }
   ],
   "source": [
    "col_name = 'Distances between groups'\n",
    "Table().with_column(col_name, simulated_diffs).hist(col_name)"
   ]
  },
  {
   "cell_type": "markdown",
   "metadata": {},
   "source": [
    "**Question:** Where is the observed statistic?"
   ]
  },
  {
   "cell_type": "markdown",
   "metadata": {},
   "source": [
    "Which of the following is our p-value?"
   ]
  },
  {
   "cell_type": "code",
   "execution_count": 40,
   "metadata": {},
   "outputs": [
    {
     "data": {
      "text/plain": [
       "(0.0076, 0.9991)"
      ]
     },
     "execution_count": 40,
     "metadata": {},
     "output_type": "execute_result"
    }
   ],
   "source": [
    "# p-value1\n",
    "p_1 = sum(simulated_diffs >= observed_diff)/len(simulated_diffs)\n",
    "\n",
    "# p-value2\n",
    "p_2 = sum(simulated_diffs <= observed_diff)/len(simulated_diffs)\n",
    "\n",
    "p_1, p_2"
   ]
  },
  {
   "cell_type": "markdown",
   "metadata": {},
   "source": [
    "**Question:** Is this statistically significant?"
   ]
  },
  {
   "cell_type": "markdown",
   "metadata": {},
   "source": [
    "(back to slides)\n",
    "# Percentiles"
   ]
  },
  {
   "cell_type": "code",
   "execution_count": 8,
   "metadata": {},
   "outputs": [],
   "source": [
    "# Manually compute the 55th percentile.\n",
    "x = make_array(43, 20, 51, 7, 28, 34)"
   ]
  },
  {
   "cell_type": "code",
   "execution_count": 9,
   "metadata": {},
   "outputs": [
    {
     "data": {
      "text/plain": [
       "array([ 7, 20, 28, 34, 43, 51])"
      ]
     },
     "execution_count": 9,
     "metadata": {},
     "output_type": "execute_result"
    }
   ],
   "source": [
    "# Step 1. Sort the data\n",
    "np.sort(x)"
   ]
  },
  {
   "cell_type": "code",
   "execution_count": 13,
   "metadata": {},
   "outputs": [
    {
     "data": {
      "text/plain": [
       "28.05"
      ]
     },
     "execution_count": 13,
     "metadata": {},
     "output_type": "execute_result"
    }
   ],
   "source": [
    "# Step 2. Figure out where 55th percentile would be.\n",
    "# The Xth percentile is first value on the sorted list that is at least as large as X% of the elements "
   ]
  },
  {
   "cell_type": "code",
   "execution_count": 12,
   "metadata": {},
   "outputs": [
    {
     "data": {
      "text/plain": [
       "34"
      ]
     },
     "execution_count": 12,
     "metadata": {},
     "output_type": "execute_result"
    }
   ],
   "source": [
    "# OR: 1 Line of Code using percentile()\n",
    "percentile(55, x)"
   ]
  },
  {
   "cell_type": "markdown",
   "metadata": {},
   "source": [
    "(back to slides)\n",
    "## Percentiles questions"
   ]
  },
  {
   "cell_type": "code",
   "execution_count": 41,
   "metadata": {},
   "outputs": [],
   "source": [
    "s= [1, 7, 3, 9, 5]"
   ]
  },
  {
   "cell_type": "code",
   "execution_count": 42,
   "metadata": {},
   "outputs": [
    {
     "data": {
      "text/plain": [
       "False"
      ]
     },
     "execution_count": 42,
     "metadata": {},
     "output_type": "execute_result"
    }
   ],
   "source": [
    "#1 \n",
    "percentile(10, s) == 0"
   ]
  },
  {
   "cell_type": "code",
   "execution_count": 43,
   "metadata": {},
   "outputs": [
    {
     "data": {
      "text/plain": [
       "True"
      ]
     },
     "execution_count": 43,
     "metadata": {},
     "output_type": "execute_result"
    }
   ],
   "source": [
    "# 2 \n",
    "percentile(39, s) == percentile(40, s)"
   ]
  },
  {
   "cell_type": "code",
   "execution_count": 44,
   "metadata": {},
   "outputs": [
    {
     "data": {
      "text/plain": [
       "False"
      ]
     },
     "execution_count": 44,
     "metadata": {},
     "output_type": "execute_result"
    }
   ],
   "source": [
    "# 3\n",
    "percentile(40, s) == percentile(41, s) "
   ]
  },
  {
   "cell_type": "code",
   "execution_count": 45,
   "metadata": {},
   "outputs": [
    {
     "data": {
      "text/plain": [
       "True"
      ]
     },
     "execution_count": 45,
     "metadata": {},
     "output_type": "execute_result"
    }
   ],
   "source": [
    "# 4\n",
    "percentile(50, s) == 5 "
   ]
  },
  {
   "cell_type": "markdown",
   "metadata": {},
   "source": [
    "# Estimation"
   ]
  },
  {
   "cell_type": "markdown",
   "metadata": {},
   "source": [
    "### Sample Median"
   ]
  },
  {
   "cell_type": "code",
   "execution_count": 80,
   "metadata": {},
   "outputs": [
    {
     "data": {
      "text/html": [
       "<table border=\"1\" class=\"dataframe\">\n",
       "    <thead>\n",
       "        <tr>\n",
       "            <th>Year Type</th> <th>Year</th> <th>Organization Group Code</th> <th>Organization Group</th> <th>Department Code</th> <th>Department</th> <th>Union Code</th> <th>Union</th> <th>Job Family Code</th> <th>Job Family</th> <th>Job Code</th> <th>Job</th> <th>Employee Identifier</th> <th>Salaries</th> <th>Overtime</th> <th>Other Salaries</th> <th>Total Salary</th> <th>Retirement</th> <th>Health/Dental</th> <th>Other Benefits</th> <th>Total Benefits</th> <th>Total Compensation</th>\n",
       "        </tr>\n",
       "    </thead>\n",
       "    <tbody>\n",
       "        <tr>\n",
       "            <td>Calendar </td> <td>2015</td> <td>2                      </td> <td>Public Works, Transportation & Commerce</td> <td>WTR            </td> <td>PUC Water Department                  </td> <td>21        </td> <td>Prof & Tech Engineers - Miscellaneous, Local 21 </td> <td>2400           </td> <td>Lab, Pharmacy & Med Techs    </td> <td>2481    </td> <td>Water Qualitytech I/II        </td> <td>21538              </td> <td>82146   </td> <td>0       </td> <td>0             </td> <td>82146       </td> <td>16942.2   </td> <td>12340.9      </td> <td>6337.73       </td> <td>35620.8       </td> <td>117767            </td>\n",
       "        </tr>\n",
       "        <tr>\n",
       "            <td>Calendar </td> <td>2015</td> <td>2                      </td> <td>Public Works, Transportation & Commerce</td> <td>DPW            </td> <td>General Services Agency - Public Works</td> <td>12        </td> <td>Carpet, Linoleum and Soft Tile Workers, Local 12</td> <td>7300           </td> <td>Journeyman Trade             </td> <td>7393    </td> <td>Soft Floor Coverer            </td> <td>5459               </td> <td>32165.8 </td> <td>973.19  </td> <td>848.96        </td> <td>33987.9     </td> <td>0         </td> <td>4587.51      </td> <td>2634.42       </td> <td>7221.93       </td> <td>41209.8           </td>\n",
       "        </tr>\n",
       "        <tr>\n",
       "            <td>Calendar </td> <td>2015</td> <td>4                      </td> <td>Community Health                       </td> <td>DPH            </td> <td>Public Health                         </td> <td>790       </td> <td>SEIU - Miscellaneous, Local 1021                </td> <td>1600           </td> <td>Payroll, Billing & Accounting</td> <td>1636    </td> <td>Health Care Billing Clerk 2   </td> <td>41541              </td> <td>71311   </td> <td>5757.98 </td> <td>0             </td> <td>77069       </td> <td>14697.6   </td> <td>12424.5      </td> <td>6370.06       </td> <td>33492.2       </td> <td>110561            </td>\n",
       "        </tr>\n",
       "        <tr>\n",
       "            <td>Calendar </td> <td>2015</td> <td>4                      </td> <td>Community Health                       </td> <td>DPH            </td> <td>Public Health                         </td> <td>351       </td> <td>Municipal Executive Association - Miscellaneous </td> <td>0900           </td> <td>Management                   </td> <td>2620    </td> <td>Food Service Mgr Administrator</td> <td>26718              </td> <td>28430.2 </td> <td>0       </td> <td>763.07        </td> <td>29193.3     </td> <td>0         </td> <td>4223.14      </td> <td>5208.51       </td> <td>9431.65       </td> <td>38625             </td>\n",
       "        </tr>\n",
       "        <tr>\n",
       "            <td>Calendar </td> <td>2015</td> <td>2                      </td> <td>Public Works, Transportation & Commerce</td> <td>MTA            </td> <td>Municipal Transportation Agency       </td> <td>790       </td> <td>SEIU - Miscellaneous, Local 1021                </td> <td>8200           </td> <td>Protection & Apprehension    </td> <td>8201    </td> <td>School Crossing Guard         </td> <td>45810              </td> <td>7948.75 </td> <td>0       </td> <td>0             </td> <td>7948.75     </td> <td>0         </td> <td>2873.17      </td> <td>616.24        </td> <td>3489.41       </td> <td>11438.2           </td>\n",
       "        </tr>\n",
       "    </tbody>\n",
       "</table>\n",
       "<p>... (42984 rows omitted)</p>"
      ],
      "text/plain": [
       "<IPython.core.display.HTML object>"
      ]
     },
     "metadata": {},
     "output_type": "display_data"
    }
   ],
   "source": [
    "sf = Table.read_table('san_francisco_2015.csv')\n",
    "sf.show(5)"
   ]
  },
  {
   "cell_type": "markdown",
   "metadata": {},
   "source": [
    "**Question:** What is this dataset?"
   ]
  },
  {
   "cell_type": "code",
   "execution_count": null,
   "metadata": {},
   "outputs": [],
   "source": []
  },
  {
   "cell_type": "code",
   "execution_count": 62,
   "metadata": {},
   "outputs": [
    {
     "data": {
      "text/html": [
       "<table border=\"1\" class=\"dataframe\">\n",
       "    <thead>\n",
       "        <tr>\n",
       "            <th>Organization Group</th> <th>Job</th> <th>Total Compensation</th>\n",
       "        </tr>\n",
       "    </thead>\n",
       "    <tbody>\n",
       "        <tr>\n",
       "            <td>Public Works, Transportation & Commerce </td> <td>Water Qualitytech I/II        </td> <td>117767            </td>\n",
       "        </tr>\n",
       "        <tr>\n",
       "            <td>Public Works, Transportation & Commerce </td> <td>Soft Floor Coverer            </td> <td>41209.8           </td>\n",
       "        </tr>\n",
       "        <tr>\n",
       "            <td>Community Health                        </td> <td>Health Care Billing Clerk 2   </td> <td>110561            </td>\n",
       "        </tr>\n",
       "        <tr>\n",
       "            <td>Community Health                        </td> <td>Food Service Mgr Administrator</td> <td>38625             </td>\n",
       "        </tr>\n",
       "        <tr>\n",
       "            <td>Public Works, Transportation & Commerce </td> <td>School Crossing Guard         </td> <td>11438.2           </td>\n",
       "        </tr>\n",
       "        <tr>\n",
       "            <td>Public Protection                       </td> <td>Police Officer                </td> <td>3188.65           </td>\n",
       "        </tr>\n",
       "        <tr>\n",
       "            <td>Community Health                        </td> <td>Nurse Practitioner            </td> <td>260281            </td>\n",
       "        </tr>\n",
       "        <tr>\n",
       "            <td>Public Works, Transportation & Commerce </td> <td>Transit Operator              </td> <td>111057            </td>\n",
       "        </tr>\n",
       "        <tr>\n",
       "            <td>General Administration & Finance        </td> <td>Attorney (Civil/Criminal)     </td> <td>186781            </td>\n",
       "        </tr>\n",
       "        <tr>\n",
       "            <td>Human Welfare & Neighborhood Development</td> <td>Emp & Training Spec 2         </td> <td>103610            </td>\n",
       "        </tr>\n",
       "    </tbody>\n",
       "</table>\n",
       "<p>... (42979 rows omitted)</p>"
      ],
      "text/plain": [
       "Organization Group                       | Job                            | Total Compensation\n",
       "Public Works, Transportation & Commerce  | Water Qualitytech I/II         | 117767\n",
       "Public Works, Transportation & Commerce  | Soft Floor Coverer             | 41209.8\n",
       "Community Health                         | Health Care Billing Clerk 2    | 110561\n",
       "Community Health                         | Food Service Mgr Administrator | 38625\n",
       "Public Works, Transportation & Commerce  | School Crossing Guard          | 11438.2\n",
       "Public Protection                        | Police Officer                 | 3188.65\n",
       "Community Health                         | Nurse Practitioner             | 260281\n",
       "Public Works, Transportation & Commerce  | Transit Operator               | 111057\n",
       "General Administration & Finance         | Attorney (Civil/Criminal)      | 186781\n",
       "Human Welfare & Neighborhood Development | Emp & Training Spec 2          | 103610\n",
       "... (42979 rows omitted)"
      ]
     },
     "execution_count": 62,
     "metadata": {},
     "output_type": "execute_result"
    }
   ],
   "source": [
    "# We only care about salary for now\n",
    "salary_sf = sf.select(3, 11, 21)\n",
    "salary_sf"
   ]
  },
  {
   "cell_type": "markdown",
   "metadata": {},
   "source": [
    "**Question:** Who is making the most money?"
   ]
  },
  {
   "cell_type": "code",
   "execution_count": null,
   "metadata": {},
   "outputs": [],
   "source": []
  },
  {
   "cell_type": "markdown",
   "metadata": {},
   "source": [
    "**Question:** Who is making the least money?"
   ]
  },
  {
   "cell_type": "code",
   "execution_count": 51,
   "metadata": {},
   "outputs": [],
   "source": [
    "min_salary = 10 * 20 * 52\n",
    "sf = sf.where('Total Compensation', are.above(min_salary))"
   ]
  },
  {
   "cell_type": "markdown",
   "metadata": {},
   "source": [
    "**Question:** What is the typical salary? Should we compute the mean or median for this?"
   ]
  },
  {
   "cell_type": "code",
   "execution_count": null,
   "metadata": {},
   "outputs": [],
   "source": [
    "# skip"
   ]
  },
  {
   "cell_type": "code",
   "execution_count": null,
   "metadata": {},
   "outputs": [],
   "source": [
    "# skip"
   ]
  },
  {
   "cell_type": "markdown",
   "metadata": {},
   "source": [
    "How can we compute the median with what we covered today?\n",
    "<details>\n",
    "<summary>Solution</summary>\n",
    "  percentile(50, sf.column('Total Compensation'))\n",
    "</details>  "
   ]
  },
  {
   "cell_type": "code",
   "execution_count": 66,
   "metadata": {},
   "outputs": [
    {
     "data": {
      "text/plain": [
       "98174.9"
      ]
     },
     "execution_count": 66,
     "metadata": {},
     "output_type": "execute_result"
    }
   ],
   "source": [
    "pop_median = percentile(50, sf.column('Total Compensation'))\n",
    "pop_median"
   ]
  },
  {
   "cell_type": "code",
   "execution_count": 55,
   "metadata": {},
   "outputs": [
    {
     "name": "stderr",
     "output_type": "stream",
     "text": [
      "/opt/anaconda3/envs/bc-coms-1016/lib/python3.8/site-packages/datascience/tables.py:3220: UserWarning: FixedFormatter should only be used together with FixedLocator\n",
      "  axis.set_xticklabels(ticks, rotation='vertical')\n"
     ]
    },
    {
     "data": {
      "image/png": "[encoded data removed]",
      "text/plain": [
       "<Figure size 432x288 with 1 Axes>"
      ]
     },
     "metadata": {},
     "output_type": "display_data"
    }
   ],
   "source": [
    "sf_bins = np.arange(0, 700000, 25000)\n",
    "sf.hist('Total Compensation', bins=sf_bins)\n",
    "plots.title('Population Distribution');"
   ]
  },
  {
   "cell_type": "markdown",
   "metadata": {},
   "source": [
    "### Estimating Salaries\n",
    "Say we dont have salaries. What would we do to compute the 50% percentile of salaries?\n",
    "\n",
    "*Zoom poll*"
   ]
  },
  {
   "cell_type": "code",
   "execution_count": 65,
   "metadata": {},
   "outputs": [],
   "source": [
    "# skip\n",
    "#skip\n",
    "\n",
    "\n",
    "\n",
    "\n",
    "\n",
    "\n",
    "\n",
    "\n"
   ]
  },
  {
   "cell_type": "code",
   "execution_count": 53,
   "metadata": {},
   "outputs": [
    {
     "data": {
      "text/html": [
       "<table border=\"1\" class=\"dataframe\">\n",
       "    <thead>\n",
       "        <tr>\n",
       "            <th>Year Type</th> <th>Year</th> <th>Organization Group Code</th> <th>Organization Group</th> <th>Department Code</th> <th>Department</th> <th>Union Code</th> <th>Union</th> <th>Job Family Code</th> <th>Job Family</th> <th>Job Code</th> <th>Job</th> <th>Employee Identifier</th> <th>Salaries</th> <th>Overtime</th> <th>Other Salaries</th> <th>Total Salary</th> <th>Retirement</th> <th>Health/Dental</th> <th>Other Benefits</th> <th>Total Benefits</th> <th>Total Compensation</th>\n",
       "        </tr>\n",
       "    </thead>\n",
       "    <tbody>\n",
       "        <tr>\n",
       "            <td>Calendar </td> <td>2015</td> <td>1                      </td> <td>Public Protection                      </td> <td>FIR            </td> <td>Fire Department                       </td> <td>798       </td> <td>Firefighters - Miscellaneous, Local 798        </td> <td>H000           </td> <td>Fire Services                </td> <td>H002    </td> <td>Firefighter                  </td> <td>28536              </td> <td>70419.7 </td> <td>20364.5 </td> <td>6582.63       </td> <td>97366.8     </td> <td>15832.7   </td> <td>8888.29      </td> <td>1652.62       </td> <td>26373.6       </td> <td>123740            </td>\n",
       "        </tr>\n",
       "        <tr>\n",
       "            <td>Calendar </td> <td>2015</td> <td>1                      </td> <td>Public Protection                      </td> <td>SHF            </td> <td>Sheriff                               </td> <td>498       </td> <td>Deputy Sheriffs' Association                   </td> <td>8300           </td> <td>Correction & Detention       </td> <td>8302    </td> <td>Deputy Sheriff 1             </td> <td>2673               </td> <td>29233.8 </td> <td>944.4   </td> <td>1674.93       </td> <td>31853.1     </td> <td>6932.84   </td> <td>4778.65      </td> <td>2451.71       </td> <td>14163.2       </td> <td>46016.3           </td>\n",
       "        </tr>\n",
       "        <tr>\n",
       "            <td>Calendar </td> <td>2015</td> <td>2                      </td> <td>Public Works, Transportation & Commerce</td> <td>HHP            </td> <td>PUC Hetch Hetchy                      </td> <td>790       </td> <td>SEIU - Miscellaneous, Local 1021               </td> <td>1400           </td> <td>Clerical, Secretarial & Steno</td> <td>1406    </td> <td>Senior Clerk                 </td> <td>12416              </td> <td>23664.5 </td> <td>0       </td> <td>0             </td> <td>23664.5     </td> <td>5203.86   </td> <td>5734.39      </td> <td>1914.78       </td> <td>12853         </td> <td>36517.5           </td>\n",
       "        </tr>\n",
       "        <tr>\n",
       "            <td>Calendar </td> <td>2015</td> <td>2                      </td> <td>Public Works, Transportation & Commerce</td> <td>DPW            </td> <td>General Services Agency - Public Works</td> <td>21        </td> <td>Prof & Tech Engineers - Miscellaneous, Local 21</td> <td>1000           </td> <td>Information Systems          </td> <td>1054    </td> <td>IS Business Analyst-Principal</td> <td>39913              </td> <td>31465.7 </td> <td>0       </td> <td>0             </td> <td>31465.7     </td> <td>0         </td> <td>3028.46      </td> <td>2437.12       </td> <td>5465.58       </td> <td>36931.3           </td>\n",
       "        </tr>\n",
       "        <tr>\n",
       "            <td>Calendar </td> <td>2015</td> <td>2                      </td> <td>Public Works, Transportation & Commerce</td> <td>MTA            </td> <td>Municipal Transportation Agency       </td> <td>21        </td> <td>Prof & Tech Engineers - Miscellaneous, Local 21</td> <td>5200           </td> <td>Professional Engineering     </td> <td>5289    </td> <td>Transit Planner III          </td> <td>34505              </td> <td>79923.9 </td> <td>0       </td> <td>0             </td> <td>79923.9     </td> <td>16365.3   </td> <td>11367.2      </td> <td>6379.63       </td> <td>34112.2       </td> <td>114036            </td>\n",
       "        </tr>\n",
       "    </tbody>\n",
       "</table>\n",
       "<p>... (295 rows omitted)</p>"
      ],
      "text/plain": [
       "<IPython.core.display.HTML object>"
      ]
     },
     "metadata": {},
     "output_type": "display_data"
    }
   ],
   "source": [
    "our_sample = sf.sample(300, with_replacement=False)\n",
    "our_sample.show(5)"
   ]
  },
  {
   "cell_type": "code",
   "execution_count": 67,
   "metadata": {},
   "outputs": [
    {
     "data": {
      "text/plain": [
       "108824.46"
      ]
     },
     "execution_count": 67,
     "metadata": {},
     "output_type": "execute_result"
    }
   ],
   "source": [
    "estimate_median = percentile(50, our_sample.column('Total Compensation'))\n",
    "estimate_median"
   ]
  },
  {
   "cell_type": "code",
   "execution_count": 56,
   "metadata": {},
   "outputs": [
    {
     "data": {
      "image/png": "[encoded data removed]",
      "text/plain": [
       "<Figure size 432x288 with 1 Axes>"
      ]
     },
     "metadata": {},
     "output_type": "display_data"
    }
   ],
   "source": [
    "our_sample.hist('Total Compensation', bins=sf_bins)\n",
    "plots.title('Sample Distribution');"
   ]
  },
  {
   "cell_type": "markdown",
   "metadata": {},
   "source": [
    "**Question:** How far off is our estimate from the true median?"
   ]
  },
  {
   "cell_type": "code",
   "execution_count": 85,
   "metadata": {},
   "outputs": [
    {
     "data": {
      "text/plain": [
       "(98174.9, 108824.46, 10649.560000000012)"
      ]
     },
     "execution_count": 85,
     "metadata": {},
     "output_type": "execute_result"
    }
   ],
   "source": [
    "pop_median, estimate_median, abs(pop_median - estimate_median)"
   ]
  },
  {
   "cell_type": "markdown",
   "metadata": {},
   "source": [
    "## Variability of the Estimate\n",
    "\n",
    "Let's implement the following function:\n",
    "\n",
    "<details>\n",
    "<summary>Solution</summary>\n",
    "  our_sample = sf.sample(samp_size, with_replacement=False)\n",
    "  return percentile(50, our_sample.column('Total Compensation'))\n",
    "</details>\n"
   ]
  },
  {
   "cell_type": "code",
   "execution_count": 81,
   "metadata": {},
   "outputs": [
    {
     "data": {
      "text/plain": [
       "93766.69"
      ]
     },
     "execution_count": 81,
     "metadata": {},
     "output_type": "execute_result"
    }
   ],
   "source": [
    "def generate_sample_median(samp_size):\n",
    "    \"\"\"\n",
    "    Given a sample size\n",
    "    Returns the median of a random sample of samp_size from the sf table\"\"\"\n",
    "    # Question: sample with or without replacement?\n",
    "\n",
    "sample_median = generate_sample_median(300)\n",
    "sample_median"
   ]
  },
  {
   "cell_type": "markdown",
   "metadata": {},
   "source": [
    "**Question:** What is our error?\n",
    "\n",
    "\n",
    "<details>\n",
    "<summary>Solution</summary>\n",
    "  error = sample_median - pop_median\n",
    "</details>\n",
    "\n"
   ]
  },
  {
   "cell_type": "code",
   "execution_count": 72,
   "metadata": {},
   "outputs": [
    {
     "data": {
      "text/plain": [
       "Ellipsis"
      ]
     },
     "execution_count": 72,
     "metadata": {},
     "output_type": "execute_result"
    }
   ],
   "source": [
    "error = ...\n",
    "error"
   ]
  },
  {
   "cell_type": "markdown",
   "metadata": {},
   "source": [
    "(back to slides)\n",
    "# Quantifying Uncertainty"
   ]
  },
  {
   "cell_type": "code",
   "execution_count": 82,
   "metadata": {},
   "outputs": [
    {
     "data": {
      "text/plain": [
       "array([ 96716.87, 101019.03, 107714.97,  90716.48, 101133.34,  96378.23,\n",
       "       100145.02,  93572.76,  97697.5 ,  97515.39,  98001.22, 104698.19,\n",
       "       100251.4 ,  95066.93,  94461.5 , 100251.4 , 101134.44,  92416.71,\n",
       "       100084.82,  99416.28,  98391.8 ,  93595.87,  94094.1 ,  94847.13,\n",
       "        97303.41,  94604.21,  97085.83,  90712.33,  99315.04,  98765.03,\n",
       "       103256.77,  97692.92,  99534.07,  97705.68,  88969.05,  95909.91,\n",
       "        98424.91, 100776.52, 107271.88, 101923.52,  95393.47,  91083.14,\n",
       "        96661.73,  94918.12, 105537.74,  97756.76,  96132.98,  96612.23,\n",
       "        98090.73,  93671.16,  99043.84,  99774.84,  97549.28,  98978.43,\n",
       "        98205.69,  91272.37,  97946.35,  95711.39, 108577.31, 100567.56,\n",
       "        89885.05, 107861.89,  94306.67,  97906.63,  96873.71,  96963.95,\n",
       "       102803.61,  97380.11,  97941.65,  92163.57,  89719.79,  94966.13,\n",
       "       101409.07,  95320.01, 101724.81, 102803.61,  98948.47, 100681.46,\n",
       "       101145.76,  97357.33, 103066.82,  95191.83, 100716.21,  94753.14,\n",
       "        92548.54, 102491.15,  99060.62, 103966.56,  92757.51, 105053.61,\n",
       "       102314.12,  98769.61,  93648.07,  94113.95, 110915.46,  94867.55,\n",
       "        93644.62, 108031.31,  98722.86,  96792.29, 101154.89,  99168.08,\n",
       "        99228.08,  94500.37,  87935.63,  94664.54,  97085.83,  92520.52,\n",
       "       102490.52,  99017.33,  98260.11,  96263.9 , 101477.54,  96263.9 ,\n",
       "       100731.94, 100092.57,  94983.63, 102595.7 , 107981.19,  95152.79,\n",
       "        98129.42, 103404.93,  90749.42,  93229.07,  95152.79, 103308.35,\n",
       "       101019.03, 101227.22, 106082.15, 105843.83, 102967.71, 105741.55,\n",
       "        97733.8 ,  96099.73,  94621.2 ,  98298.07,  93121.22,  96117.85,\n",
       "        98884.47,  86984.89,  96177.16,  96578.86, 101016.96,  99323.38,\n",
       "       107443.66,  95259.75,  98742.84,  95726.86,  95229.69,  97138.37,\n",
       "        92674.66, 109953.52,  99735.36,  96123.19,  97182.89, 104606.71,\n",
       "        94750.36, 106918.45,  99459.01,  97929.45,  96322.41, 103020.  ,\n",
       "        99046.1 , 103894.32, 100441.43,  96995.53,  97201.06, 105116.31,\n",
       "       101035.75, 101923.89,  99166.01,  98170.35,  97713.49,  92641.52,\n",
       "        99736.83, 100086.76,  89943.15,  95480.28, 102715.96,  98647.83,\n",
       "       109055.96, 107639.57, 105784.62, 108020.51,  89092.79, 105790.  ,\n",
       "        92791.19, 100448.29, 100846.3 ,  95356.19,  94883.73,  98892.54,\n",
       "       104610.51,  96661.73, 109717.23, 101389.79,  95806.3 ,  98340.6 ,\n",
       "       103718.59,  99159.98,  94908.44, 104550.65, 100632.54,  98369.  ,\n",
       "       101830.73,  95626.41,  99736.83,  93353.91,  89920.85,  87218.97,\n",
       "        89946.35,  99530.97, 103816.55, 102058.33, 103924.04,  93420.2 ,\n",
       "        92805.35,  95928.12,  97699.04,  95380.32,  91163.08, 100636.45,\n",
       "       100839.12,  90984.32, 100281.15, 100550.03,  93640.41,  98489.51,\n",
       "        98325.47,  90851.4 , 105391.33,  99618.99,  94264.52,  87296.34,\n",
       "        94441.1 ,  93540.52,  94164.37,  99005.81,  97086.5 ,  98269.9 ,\n",
       "        91198.15,  99192.33, 101868.65,  95019.92, 103407.92,  95030.25,\n",
       "        98897.11,  95557.14, 100320.56,  95349.43, 108322.35, 102509.31,\n",
       "       102167.3 , 101849.65,  96211.93, 102245.45, 103404.93,  98875.12,\n",
       "        93859.59,  94368.34, 103566.31,  95395.68,  92689.59, 104381.74,\n",
       "        97922.1 , 100310.07,  97130.27,  95174.67, 103215.78,  99866.26,\n",
       "        99126.91,  97080.02,  99301.12, 102647.67,  97394.22,  96238.44,\n",
       "        91862.69, 102549.12,  99126.91, 102196.32,  95342.77, 102509.31,\n",
       "        96113.93,  99832.2 , 104564.64,  98316.72, 102679.17,  92180.71,\n",
       "        98759.37,  97636.13,  98892.54,  96445.29,  96357.49,  97501.1 ,\n",
       "        88936.19, 100958.48,  99658.59, 103416.08, 102015.01,  97410.47,\n",
       "       100184.31,  98179.64, 100340.59,  96640.96,  97284.35,  95148.94,\n",
       "        95477.7 ,  97855.58,  90805.83, 100781.52,  91996.9 , 100929.99,\n",
       "        92987.24,  99507.91,  93041.73,  95580.24, 102376.07,  98163.15,\n",
       "       100767.86, 101708.13,  96382.51,  86611.55, 109704.7 ,  97848.9 ,\n",
       "       105594.69, 105231.27,  88743.36,  95835.28, 107579.25, 103330.19,\n",
       "        97308.56,  93071.21,  99933.51,  98707.88,  95610.77, 100891.4 ,\n",
       "        93364.85,  95331.39, 107117.75, 106579.96, 100320.56, 101893.84,\n",
       "        93267.4 ,  96008.94, 101153.63,  93818.03, 105220.68,  95273.9 ,\n",
       "        97394.22,  97052.73, 100552.38,  96132.05,  95310.01,  98368.93,\n",
       "        94615.81, 101059.87,  99731.95, 102054.98,  90636.88,  99735.91,\n",
       "        97733.8 , 101370.72, 100901.48, 104506.43, 105241.91, 105631.87,\n",
       "       102875.08, 101318.32, 105814.84,  89451.52,  95995.6 , 100637.24,\n",
       "        93600.95,  94966.13, 100903.56,  99677.16,  97941.65,  90686.03,\n",
       "       101708.13, 100032.22, 106254.09,  94113.95,  94327.41,  94792.28,\n",
       "        99990.48,  97415.32,  94979.89,  97035.86,  98196.02, 101790.74,\n",
       "       101473.7 ,  98325.47,  96294.87, 100535.8 , 103207.07,  88837.32,\n",
       "        95995.6 ,  88068.17,  95398.82, 102490.52, 106017.84,  98976.62,\n",
       "       103017.67,  94961.88, 104874.25,  91237.37,  93039.86,  98196.02,\n",
       "        97661.75,  96578.86, 100916.27,  99317.45,  98405.35,  94213.83,\n",
       "        98265.4 ,  94088.37, 102255.8 ,  93448.72,  96014.68, 105291.3 ,\n",
       "       101051.96,  96558.16,  99749.25,  95513.7 , 103725.81, 103842.62,\n",
       "       106247.51, 100032.22, 101406.53,  98008.45,  97620.42,  91046.16,\n",
       "       101370.72,  93302.65,  95182.21, 101208.08,  98750.77,  95292.34,\n",
       "        89292.34,  98892.55, 102647.67,  99929.  ,  98149.14,  96054.65,\n",
       "        97172.84,  97212.67,  90467.84,  95103.81,  92358.58,  93477.93,\n",
       "        96075.  ,  98834.08,  92805.35,  96476.4 ,  98709.61,  95266.76,\n",
       "        95014.54,  92160.52,  97705.05, 104564.64,  88843.88,  96604.13,\n",
       "        97986.91,  97175.57, 105777.05, 104720.66, 104618.98,  95084.31,\n",
       "       102285.81,  98913.79,  95534.58, 100377.21,  95170.74,  95191.83,\n",
       "       101175.98,  97959.34,  93573.34,  98020.37,  95615.16,  96010.11,\n",
       "       100929.99,  95430.92,  94868.45, 103955.11,  89465.14,  92389.88,\n",
       "        98813.64,  98299.51, 100941.27,  96251.19,  96710.13,  99882.06,\n",
       "       102181.51, 108644.64,  94847.13, 102650.94, 104154.59, 101923.89,\n",
       "       100355.48, 106674.83,  98688.21, 102852.73,  96685.26,  93641.01,\n",
       "        93209.09, 100492.77, 105530.59,  93074.4 , 100103.2 ,  93191.93,\n",
       "        92930.81, 104076.7 ,  92777.93,  99386.58, 107084.65,  93490.88,\n",
       "        96169.14,  88548.66, 100519.82, 104296.41,  94619.4 ,  94378.41,\n",
       "       101443.14,  98710.97,  97122.8 ,  96729.81,  98282.11,  92207.82,\n",
       "        90838.5 ,  99929.  , 100894.31, 103582.71,  99990.48,  99119.7 ,\n",
       "       104096.03, 101251.05,  90749.42,  97620.42,  89991.48, 102330.41,\n",
       "       100875.49,  95327.6 ,  97906.63,  92571.86,  95936.32,  96089.45,\n",
       "        95297.92, 101706.39,  97574.86, 104077.33,  99387.02, 100233.95,\n",
       "       101435.76,  98983.14, 103337.22,  97970.53,  89020.17,  90507.64,\n",
       "       100972.56,  94896.55,  95259.84, 102264.56, 101192.31,  95902.61,\n",
       "        98599.66,  97925.  ,  90487.51,  93131.59,  97284.35,  96806.87,\n",
       "       106264.53,  94502.77,  91086.96,  97210.46, 105594.69, 102650.65,\n",
       "       101711.66, 102215.98, 105531.65,  87155.67,  99379.91, 100622.15,\n",
       "        99563.82,  92983.11,  95005.85,  91205.41,  96710.11, 104077.33,\n",
       "       103793.8 ,  87125.27,  98032.15, 101514.75,  92465.21,  95126.35,\n",
       "       104916.31,  99183.43,  92003.39, 104154.59,  95626.41,  94652.8 ,\n",
       "        98954.07,  93364.85,  93689.29,  95264.76,  98788.75,  91759.33,\n",
       "       110660.16, 100547.31, 103516.92,  96298.06,  97832.21, 102637.02,\n",
       "        99112.32, 103020.  ,  93692.71,  92339.26, 103360.85,  97122.8 ,\n",
       "        98944.56,  96250.39,  94751.63,  99043.84, 100535.8 ,  97815.25,\n",
       "        97313.36,  95297.92,  98426.69,  95014.87,  99542.19,  98408.29,\n",
       "        86483.93, 107646.5 ,  89493.06,  96315.75, 108073.89, 109385.62,\n",
       "        99530.97,  97632.71,  92188.34,  95595.45, 102015.01,  93696.86,\n",
       "        95606.09,  97759.48, 101178.31,  90937.99,  99403.19, 103399.84,\n",
       "        96421.68,  87798.68, 101703.33,  98715.81, 101515.34, 100313.04,\n",
       "        99869.54,  94624.43,  99753.41,  94274.6 ,  94894.53,  94048.7 ,\n",
       "       103718.59,  99597.19, 101030.2 , 105685.91, 105716.13, 105220.68,\n",
       "       100637.24,  94780.47,  93159.32,  93413.76,  97585.67,  97954.74,\n",
       "        97947.18,  94621.2 ,  97848.9 ,  96263.33,  94380.04, 100874.49,\n",
       "       107579.25,  94619.4 ,  97864.88,  96693.11,  99017.64, 102065.27,\n",
       "        94808.05,  92972.42,  94750.36,  99157.1 , 103017.78, 101215.13,\n",
       "        97378.63,  95431.67, 102136.31,  97697.5 ,  88844.11,  97690.62,\n",
       "        87798.68,  96399.17,  96712.91, 102832.36, 103566.31,  94116.49,\n",
       "        93132.41,  98704.91,  95616.54, 104716.57,  94267.51,  98248.9 ,\n",
       "        96010.11, 100281.15,  98204.57,  88961.41,  97954.74,  99880.39,\n",
       "        98194.27,  96613.23, 105572.46,  91996.9 ,  95221.31, 102304.92,\n",
       "        93080.99, 102443.64,  99032.6 ,  97784.62,  94964.89,  98205.69,\n",
       "        91405.86,  93306.83,  92029.69,  99740.96,  99157.1 , 100171.8 ,\n",
       "        99386.58, 103215.17,  97682.66, 103564.29, 101351.44, 105441.42,\n",
       "        92982.75, 101030.2 ,  99928.95,  97410.47,  98765.03,  95471.79,\n",
       "       105241.01, 100847.13,  94796.87, 102160.03, 103913.18, 105525.56,\n",
       "        85859.05,  98866.84,  99828.57,  97918.21,  94380.04,  96712.91,\n",
       "        95520.76,  94148.55,  98216.55,  99144.71,  92805.35, 101174.75,\n",
       "       100313.69, 100758.69, 101509.29,  95882.24,  99690.58, 107720.5 ,\n",
       "        94164.37,  96068.9 ,  92703.52, 105369.67,  95469.65,  97024.54,\n",
       "       101809.52, 103305.31,  97918.21, 101268.15,  93904.47, 107363.55,\n",
       "        99159.98, 100964.62,  96545.18,  91745.43,  95649.83, 106646.2 ,\n",
       "        98499.69,  98208.29,  99542.19,  96300.45,  95180.69, 102479.71,\n",
       "       103008.12, 101830.73,  97084.57,  99166.01,  97380.11,  89823.86,\n",
       "        96792.29,  99300.52,  93833.4 , 103956.26,  99955.73,  95804.06,\n",
       "        95014.54, 103790.23,  93560.6 ,  97168.57,  95801.88, 101133.34,\n",
       "        98191.91,  94224.34,  91371.96,  99121.39,  93694.28, 106760.28,\n",
       "       101849.65,  99822.94,  95909.91, 103256.77, 107443.66,  91843.4 ,\n",
       "        96001.96, 104674.16,  89558.67,  98200.52, 101391.  ,  95395.68,\n",
       "        95084.31,  92128.32,  95164.01,  97370.96,  98573.4 ,  98635.41,\n",
       "        94223.81, 105859.71,  93739.54, 106243.5 ,  99820.74, 105305.29,\n",
       "       102164.85, 103966.56, 102436.7 ,  97784.62,  99303.26, 104191.9 ,\n",
       "        95765.74, 100016.33,  95455.56,  97774.34,  95664.31,  94523.16,\n",
       "        90641.33,  94904.54,  95221.31,  94376.26,  97642.64,  95374.59,\n",
       "       105549.93,  94530.43, 103802.62,  98734.18, 100622.15,  97997.8 ,\n",
       "        93877.32,  95822.84,  95963.87,  88258.57,  98503.07, 101917.5 ,\n",
       "        92513.27,  93970.65, 105291.3 ,  96138.78,  98688.21,  92805.36,\n",
       "        99793.45,  99969.33,  98674.58, 100612.77, 103277.92,  91115.02,\n",
       "       107362.2 ,  95513.34,  97424.85,  99827.83,  96288.41,  97234.41,\n",
       "       101992.89,  94966.65, 103238.58, 100265.38, 104874.25, 101134.44,\n",
       "        97515.39, 102185.7 , 106710.05,  98721.45,  94116.49, 100964.62,\n",
       "       100824.85,  95221.57,  93353.13,  94520.6 ,  92701.45, 102402.34,\n",
       "        93111.49, 101639.2 ,  98428.02,  98169.48,  87064.31,  99416.28,\n",
       "        96694.91,  91237.37,  95131.55,  99714.09,  98205.69,  93218.11,\n",
       "       105537.74,  99396.89,  95822.84, 102234.7 , 103825.46, 101692.88,\n",
       "        87142.96, 104353.67,  96678.98,  99521.63, 101442.57,  94773.08,\n",
       "        95264.76,  95827.62,  94808.33,  92286.78,  97408.76, 101607.7 ,\n",
       "        94808.33, 102864.34,  98983.14,  93495.25,  90585.19,  99110.2 ,\n",
       "        98296.18,  93121.22,  93866.79,  99677.16,  91941.91,  98226.93,\n",
       "        95453.26,  96442.71,  99917.43, 103079.67,  94274.6 , 104115.77,\n",
       "        94445.94,  98032.15,  93822.27, 101289.04, 101016.96,  90561.8 ,\n",
       "        95742.09,  95383.54,  90113.06, 103642.58,  95421.33,  97733.8 ,\n",
       "        93671.16,  98132.17,  99078.15, 102483.05, 101988.6 , 100681.46,\n",
       "        95207.14,  92734.94,  94606.36, 104142.39,  99550.32,  94501.82,\n",
       "        98954.07,  99026.12,  98257.15,  92497.22,  97080.02,  87684.92,\n",
       "       101555.79, 100058.36,  92805.35,  96432.79, 100146.95,  91939.16,\n",
       "        96837.53, 100792.3 , 107266.31, 103717.5 ,  95683.61,  94774.85,\n",
       "        93859.39,  90765.27,  91199.56,  98646.34])"
      ]
     },
     "execution_count": 82,
     "metadata": {},
     "output_type": "execute_result"
    }
   ],
   "source": [
    "sample_medians = make_array()\n",
    "\n",
    "for i in np.arange(1000):\n",
    "    new_median = generate_sample_median(300)\n",
    "    sample_medians = np.append(sample_medians, new_median)\n",
    "sample_medians"
   ]
  },
  {
   "cell_type": "code",
   "execution_count": 83,
   "metadata": {},
   "outputs": [
    {
     "name": "stderr",
     "output_type": "stream",
     "text": [
      "/opt/anaconda3/envs/bc-coms-1016/lib/python3.8/site-packages/datascience/tables.py:3220: UserWarning: FixedFormatter should only be used together with FixedLocator\n",
      "  axis.set_xticklabels(ticks, rotation='vertical')\n"
     ]
    },
    {
     "data": {
      "image/png": "[encoded data removed]",
      "text/plain": [
       "<Figure size 432x288 with 1 Axes>"
      ]
     },
     "metadata": {},
     "output_type": "display_data"
    }
   ],
   "source": [
    "med_bins = np.arange(90000, 125001, 2500)\n",
    "Table().with_column(\n",
    "    'Sample Medians', sample_medians\n",
    ").hist(bins = med_bins)\n",
    "\n",
    "plots.scatter(pop_median, -1e-6, color=\"red\");"
   ]
  },
  {
   "cell_type": "code",
   "execution_count": 84,
   "metadata": {},
   "outputs": [
    {
     "data": {
      "image/png": "[encoded data removed]",
      "text/plain": [
       "<Figure size 432x288 with 1 Axes>"
      ]
     },
     "metadata": {},
     "output_type": "display_data"
    }
   ],
   "source": [
    "err_bins = np.arange(-15000, 12501, 2500)\n",
    "Table().with_column(\n",
    "    'Errors', sample_medians - pop_median\n",
    ").hist(bins = err_bins)\n",
    "\n",
    "plots.scatter(0, -1e-6, color=\"red\");"
   ]
  },
  {
   "cell_type": "code",
   "execution_count": null,
   "metadata": {},
   "outputs": [],
   "source": []
  }
 ],
 "metadata": {
  "kernelspec": {
   "display_name": "bc-coms-1016",
   "language": "python",
   "name": "bc-coms-1016"
  },
  "language_info": {
   "codemirror_mode": {
    "name": "ipython",
    "version": 3
   },
   "file_extension": ".py",
   "mimetype": "text/x-python",
   "name": "python",
   "nbconvert_exporter": "python",
   "pygments_lexer": "ipython3",
   "version": "3.8.5"
  }
 },
 "nbformat": 4,
 "nbformat_minor": 4
}
