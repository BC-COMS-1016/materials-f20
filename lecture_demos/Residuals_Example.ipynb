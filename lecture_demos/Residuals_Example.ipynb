{
 "cells": [
  {
   "cell_type": "code",
   "execution_count": null,
   "metadata": {},
   "outputs": [],
   "source": [
    "from datascience import *\n",
    "import numpy as np\n",
    "\n",
    "import matplotlib.pyplot as plots\n",
    "from mpl_toolkits.mplot3d import Axes3D\n",
    "plots.style.use('fivethirtyeight')\n",
    "%matplotlib inline"
   ]
  },
  {
   "cell_type": "code",
   "execution_count": null,
   "metadata": {},
   "outputs": [],
   "source": [
    "def standard_units(any_numbers):\n",
    "    \"\"\"Convert any array of numbers to standard units.\"\"\"\n",
    "    return (any_numbers - np.average(any_numbers)) / np.std(any_numbers)\n",
    "\n",
    "def correlation(t, x, y):\n",
    "    \"\"\"Return the correlation coefficient (r) of two variables.\"\"\"\n",
    "    return np.mean(standard_units(t.column(x)) * standard_units(t.column(y)))\n",
    "\n",
    "def slope(t, x, y):\n",
    "    \"\"\"The slope of the regression line (original units).\"\"\"\n",
    "    r = correlation(t, x, y)\n",
    "    return r * np.std(t.column(y)) / np.std(t.column(x))\n",
    "\n",
    "def intercept(t, x, y):\n",
    "    \"\"\"The intercept of the regression line (original units).\"\"\"\n",
    "    return np.mean(t.column(y)) - slope(t, x, y) * np.mean(t.column(x))\n",
    "\n",
    "def fit(t, x, y):\n",
    "    \"\"\"The fitted values along the regression line.\"\"\"\n",
    "    a = slope(t, x, y)\n",
    "    b = intercept(t, x, y)\n",
    "    return a * t.column(x) + b\n",
    "\n",
    "def plot_residuals(t, x, y):\n",
    "    \"\"\"Plot a scatter diagram and residuals.\"\"\"\n",
    "    t.scatter(x, y, fit_line=True)\n",
    "    actual = t.column(y)\n",
    "    fitted = fit(t, x, y)\n",
    "    residuals = actual - fitted\n",
    "    print('r:', correlation(t, x, y))\n",
    "    print('RMSE:', np.mean(residuals**2)**0.5)\n",
    "    t.select(x).with_column('Residual', residuals).scatter(0, 1)"
   ]
  },
  {
   "cell_type": "markdown",
   "metadata": {},
   "source": [
    "# Residuals Examples: Medicine\n",
    "\n"
   ]
  },
  {
   "cell_type": "markdown",
   "metadata": {},
   "source": [
    "In this example we are going to focus on residuals. Residuals are used to quantify the error of our prediction.\n",
    "A residual represented the difference between the real (true) y and our estimate (prediction) of y.\n",
    "\n",
    "Here, we are going to try predicting a patient's Red Blood Cell Count based on their Glucose levels"
   ]
  },
  {
   "cell_type": "code",
   "execution_count": null,
   "metadata": {},
   "outputs": [],
   "source": [
    "ckd = Table.read_table('ckd.csv').relabeled('Blood Glucose Random', 'Glucose')\n",
    "ckd.show(3)"
   ]
  },
  {
   "cell_type": "markdown",
   "metadata": {},
   "source": [
    "In the next cell we will will plot the relationship between these two variables"
   ]
  },
  {
   "cell_type": "code",
   "execution_count": null,
   "metadata": {},
   "outputs": [],
   "source": [
    "ckd.scatter('Hemoglobin', 'Red Blood Cell Count')"
   ]
  },
  {
   "cell_type": "markdown",
   "metadata": {},
   "source": [
    "If we add `fit_line=True` as an argument to `.scatter()`, the plot will show the regression (best-fit) line."
   ]
  },
  {
   "cell_type": "code",
   "execution_count": null,
   "metadata": {},
   "outputs": [],
   "source": [
    "ckd.scatter('Hemoglobin', 'Red Blood Cell Count', fit_line=True)"
   ]
  },
  {
   "cell_type": "markdown",
   "metadata": {},
   "source": [
    "For any given *Hemoglobin* value we can now make a prediction of *Red Blood Cell Count* value by finding the corresponding\n",
    "value on the line. In the figure above, if we know a new patient's *Hemoglobin* value is $12$, we would predict the the patient's *Red Blood Cell Count* to be about $4.5$"
   ]
  },
  {
   "cell_type": "markdown",
   "metadata": {},
   "source": [
    "Let's now right some code to make prediction's for every individual in our dataset\n",
    "\n",
    "Remember we can predict the *Red Blood Cell Count*  by the following equation:\n",
    "\\begin{equation}\n",
    "slope * Hemoglobin + intercept\n",
    "\\end{equation}\n",
    "\n",
    "The next code cell finds the slope and intercept"
   ]
  },
  {
   "cell_type": "code",
   "execution_count": null,
   "metadata": {},
   "outputs": [],
   "source": [
    "ckd_h_rb = ckd.select('Hemoglobin', 'Red Blood Cell Count').relabel('Red Blood Cell Count', 'RB True')\n",
    "current_slope = slope(ckd_h_rb, 'Hemoglobin', 'RB True')\n",
    "current_intercept = intercept(ckd_h_rb, 'Hemoglobin', 'RB True')"
   ]
  },
  {
   "cell_type": "markdown",
   "metadata": {},
   "source": [
    "Now we can make our predictions by plugging in the slope and intercept we just computed. The second line of code adds our predictions to our table"
   ]
  },
  {
   "cell_type": "code",
   "execution_count": null,
   "metadata": {},
   "outputs": [],
   "source": [
    "predictions = current_slope * ckd_h_rb.column('Hemoglobin') + current_intercept\n",
    "ckd_h_rb = ckd_h_rb.with_columns('RB Prediction', predictions)\n",
    "ckd_h_rb"
   ]
  },
  {
   "cell_type": "markdown",
   "metadata": {},
   "source": [
    "Let's look at our prediction for the examle where the patient's *Hemoglobin* was $12$"
   ]
  },
  {
   "cell_type": "code",
   "execution_count": null,
   "metadata": {},
   "outputs": [],
   "source": [
    "example_row = ckd_h_rb.where('Hemoglobin', 12).row(0)\n",
    "example_row.item(0), example_row.item(2)"
   ]
  },
  {
   "cell_type": "markdown",
   "metadata": {},
   "source": [
    "We just prediced the patient's *Hemaglobin* is $4.44$ (very close to what we said when we looked at the regression line)"
   ]
  },
  {
   "cell_type": "markdown",
   "metadata": {},
   "source": [
    "However, if we look at the figure below, we can see that the real patient with a *Hemaglobin* of $12$  was an outlier. "
   ]
  },
  {
   "cell_type": "code",
   "execution_count": null,
   "metadata": {},
   "outputs": [],
   "source": [
    "ckd_h_rb.scatter('Hemoglobin')"
   ]
  },
  {
   "cell_type": "markdown",
   "metadata": {},
   "source": [
    "This patient's *Red Blood Cell Count* was $8$"
   ]
  },
  {
   "cell_type": "code",
   "execution_count": null,
   "metadata": {},
   "outputs": [],
   "source": [
    "example_row.item(1)"
   ]
  },
  {
   "cell_type": "markdown",
   "metadata": {},
   "source": [
    "Let's quantify the error of our prediction for this individual.\n",
    "\n",
    "Before scrolling down, think about how we would compute the error of our prediction."
   ]
  },
  {
   "cell_type": "markdown",
   "metadata": {},
   "source": [
    "(skip a few cells)"
   ]
  },
  {
   "cell_type": "code",
   "execution_count": null,
   "metadata": {},
   "outputs": [],
   "source": []
  },
  {
   "cell_type": "code",
   "execution_count": null,
   "metadata": {},
   "outputs": [],
   "source": []
  },
  {
   "cell_type": "code",
   "execution_count": null,
   "metadata": {},
   "outputs": [],
   "source": []
  },
  {
   "cell_type": "code",
   "execution_count": null,
   "metadata": {},
   "outputs": [],
   "source": []
  },
  {
   "cell_type": "code",
   "execution_count": null,
   "metadata": {},
   "outputs": [],
   "source": []
  },
  {
   "cell_type": "markdown",
   "metadata": {},
   "source": [
    "The next cell computes the error for each prediction. "
   ]
  },
  {
   "cell_type": "code",
   "execution_count": null,
   "metadata": {},
   "outputs": [],
   "source": [
    "\n",
    "\n",
    "ckd_h_rb = ckd_h_rb.with_columns('RB Residual (Error)', ckd_h_rb.column('RB True') - ckd_h_rb.column('RB Prediction'))\n",
    "\n",
    "ckd_h_rb.scatter('Hemoglobin')"
   ]
  },
  {
   "cell_type": "markdown",
   "metadata": {},
   "source": [
    "The light blue dots represent the residuals. Each residiual indicates how far our prediction was from the true value.\n",
    "\n",
    "Let's look at the dots where *Hemoglobin* is $12$. We have three dots: the real value (dark blue), the prediction (yellow), and the residual (light blue). \n",
    "\n",
    "Recall that our prediction was a little less than 4.5 and the true value was 8. Therefore, the y-value of our residual is about $3.5$. If you look at the figure above, the y-axis of the light blue dot is $3.5$. "
   ]
  },
  {
   "cell_type": "code",
   "execution_count": null,
   "metadata": {},
   "outputs": [],
   "source": [
    "# Initialize Otter\n",
    "import otter\n",
    "grader = otter.Notebook()\n",
    "grader.export(\"Residuals_Example.ipynb\", pdf=False)"
   ]
  },
  {
   "cell_type": "code",
   "execution_count": null,
   "metadata": {},
   "outputs": [],
   "source": []
  }
 ],
 "metadata": {
  "kernelspec": {
   "display_name": "Python 3",
   "language": "python",
   "name": "python3"
  },
  "language_info": {
   "codemirror_mode": {
    "name": "ipython",
    "version": 3
   },
   "file_extension": ".py",
   "mimetype": "text/x-python",
   "name": "python",
   "nbconvert_exporter": "python",
   "pygments_lexer": "ipython3",
   "version": "3.7.7"
  }
 },
 "nbformat": 4,
 "nbformat_minor": 4
}
