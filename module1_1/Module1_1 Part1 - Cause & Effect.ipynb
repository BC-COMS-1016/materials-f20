{
 "cells": [
  {
   "cell_type": "code",
   "execution_count": null,
   "metadata": {},
   "outputs": [],
   "source": [
    "# Run this cell by hitting CTRL + ENTER\n",
    "# Support embedding YouTube Videos in Notebooks\n",
    "from IPython.display import YouTubeVideo"
   ]
  },
  {
   "cell_type": "markdown",
   "metadata": {},
   "source": [
    "# Module 1.1 Cause & Effect"
   ]
  },
  {
   "cell_type": "markdown",
   "metadata": {},
   "source": [
    "In this notebook, you'll learn about the different ways that data can be generated and how that affects the types of inferences that can be made.\n",
    "\n",
    "This notebook includes 4 videos with a total runtime of XXX. *add links to videos*\n",
    "\n",
    "- Questions 1 video, total runtime 4:10\n",
    "- Association 1 video, total runtime 9:29\n",
    "- Causation 1 video, total runtime 7:19\n",
    "- Confounding 1 video, total runtime 5:04\n",
    "- Check for Understanding\n",
    "\n",
    "#### Textbook Readings:\n",
    "\n",
    "- [Chapter 2: Causality and Experiments](https://www.inferentialthinking.com/chapters/02/causality-and-experiments.html)"
   ]
  },
  {
   "cell_type": "markdown",
   "metadata": {},
   "source": [
    "### 1. Questions\n",
    "\n",
    "Oftentimes, we're interested in determining a relationship between two variables. Showing an association between the variables is fairly straightforward, but we have to be careful in declaring cause and effect relationship.\n",
    "\n",
    "This video gives a brief overview on the difference between association and causality, and how we can formulate scientific questions to explore both types of relationships."
   ]
  },
  {
   "cell_type": "code",
   "execution_count": null,
   "metadata": {},
   "outputs": [],
   "source": [
    "YouTubeVideo(\"XXX\")"
   ]
  },
  {
   "cell_type": "markdown",
   "metadata": {},
   "source": [
    "**Key Definitions**\n",
    "\n",
    "- **Study participants**: the population that is being explicitly represented in the study. This population can be defined by characteristics like age, gender, geopgraphy, or occupation.\n",
    "\n",
    "- **Treatment/Exposure**: the factor that we suspect has an effect on the outcome.\n",
    "\n",
    "- **Outcome**: the measurement of interest that we suspect to be affected by the treatment.\n",
    "\n",
    "- **Association**: a relationship or link between the treatment and outcome\n",
    "\n",
    "- **Causality**: a specific relationship in which a change in the treatment will directly result in a change to the outcome"
   ]
  },
  {
   "cell_type": "markdown",
   "metadata": {},
   "source": [
    "### 2. Association\n",
    "\n",
    "In the early 1800's, thousands of people were dying in London but no one knew why.\n",
    "\n",
    "This video discusses the work of John Snow, who used early analysis tools to test for an association between a suspected exposure and death from the unknown disease."
   ]
  },
  {
   "cell_type": "code",
   "execution_count": null,
   "metadata": {},
   "outputs": [],
   "source": [
    "YouTubeVideo(\"XXX\")"
   ]
  },
  {
   "cell_type": "markdown",
   "metadata": {},
   "source": [
    "Snow used a map to visualize the relationship between contaminated drinking water and cholera deaths. Next week, you'll learn how to create charts to conduct similar explorations of data."
   ]
  },
  {
   "cell_type": "markdown",
   "metadata": {},
   "source": [
    "### 3. Causation\n",
    "\n",
    "After Snow established an association between contaminated drinking water and cholera deaths, he wanted to determine if contaiminated water was what actually caused the disease.\n",
    "\n",
    "This video explains how John Snow set up an experiment that allowed him to make a conclusion about the causal relationship between exposure and outcome."
   ]
  },
  {
   "cell_type": "code",
   "execution_count": null,
   "metadata": {},
   "outputs": [],
   "source": [
    "YouTubeVideo(\"XXX\")"
   ]
  },
  {
   "cell_type": "markdown",
   "metadata": {},
   "source": [
    "Snow found two groups that were similar except for their water source. One group had access to clean drinking water and experienced very few cholera deaths. The other group received contaiminated drinking water and had substantially more cholera deaths.\n",
    "\n",
    "Since the only dissimilarity between the groups was their water source, Snow was able to conclude that the differences in cholera death rates was caused by the different levels of contaimination in each group's drinking water.\n",
    "\n",
    "Generally speaking, the key to establishing causality is as follows: if the treatment and control groups are similar apart from the treatment, then differences between the outcomes in the two groups can be ascribed to the treatment."
   ]
  },
  {
   "cell_type": "markdown",
   "metadata": {},
   "source": [
    "### 4. Confounding\n",
    "\n",
    "While John Snow was able to find two very similar groups for his natural experiment, he wouldn't have been able to make the same causal conclusions if the two groups had differed in ways other than their water source. For example, if the treatment group had been older, old age might have been what actually caused the cholera deaths. In this case, age would be considered a confounding factor on the relationship between contaminated water and cholera deaths.\n",
    "\n",
    "This video explains how confounding factors might mislead data scientists into making incorrect conclusions. It also discusses how experiments can be designed to eliminate the effect of confounding factors."
   ]
  },
  {
   "cell_type": "code",
   "execution_count": null,
   "metadata": {},
   "outputs": [],
   "source": [
    "YouTubeVideo(\"XXX\")"
   ]
  },
  {
   "cell_type": "markdown",
   "metadata": {},
   "source": [
    "Data scientists must always be careful of confounding factors when doing any kind of data analysis. The best way to minimize the effect of confounding factors is to conduct an experiment where the treatment is randomly assigned to study participants."
   ]
  },
  {
   "cell_type": "markdown",
   "metadata": {},
   "source": [
    "### Questions \n",
    "Answer the questions on this [Google form](https://forms.gle/VdSRHG8Fdc5Uuy1s7) by ***Add Date and Time***"
   ]
  }
 ],
 "metadata": {
  "kernelspec": {
   "display_name": "Python 3",
   "language": "python",
   "name": "python3"
  },
  "language_info": {
   "codemirror_mode": {
    "name": "ipython",
    "version": 3
   },
   "file_extension": ".py",
   "mimetype": "text/x-python",
   "name": "python",
   "nbconvert_exporter": "python",
   "pygments_lexer": "ipython3",
   "version": "3.7.7"
  }
 },
 "nbformat": 4,
 "nbformat_minor": 4
}
